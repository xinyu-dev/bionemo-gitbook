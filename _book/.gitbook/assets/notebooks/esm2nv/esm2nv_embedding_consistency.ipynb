{
 "cells": [
  {
   "cell_type": "markdown",
   "metadata": {},
   "source": [
    "# ESM2nv embedding consistency"
   ]
  },
  {
   "cell_type": "code",
   "execution_count": 47,
   "metadata": {},
   "outputs": [],
   "source": [
    "import warnings\n",
    "from pathlib import Path\n",
    "import os\n",
    "import numpy as np\n",
    "\n",
    "warnings.filterwarnings('ignore')\n",
    "warnings.simplefilter('ignore')"
   ]
  },
  {
   "cell_type": "markdown",
   "metadata": {},
   "source": [
    "# Load model "
   ]
  },
  {
   "cell_type": "code",
   "execution_count": 1,
   "metadata": {},
   "outputs": [
    {
     "name": "stdout",
     "output_type": "stream",
     "text": [
      "Using model configuration at: /workspace/bionemo/examples/protein/esm2nv/conf\n"
     ]
    }
   ],
   "source": [
    "\n",
    "try:\n",
    "    BIONEMO_HOME: Path = Path(os.environ['BIONEMO_HOME']).absolute()\n",
    "except KeyError:\n",
    "    print(\"Must have BIONEMO_HOME set in the environment! See docs for instructions.\")\n",
    "    raise\n",
    "\n",
    "config_path = BIONEMO_HOME / \"examples\" / \"protein\" / \"esm2nv\" / \"conf\"\n",
    "print(f\"Using model configuration at: {config_path}\")\n",
    "assert config_path.is_dir()"
   ]
  },
  {
   "cell_type": "code",
   "execution_count": 5,
   "metadata": {},
   "outputs": [],
   "source": [
    "from bionemo.utils.hydra import load_model_config\n",
    "\n",
    "# the config file at /workspace/bionemo/examples/protein/esm2nv/conf/infer.yaml uses 650M model\n",
    "# as seen by this line in the YAML file: restore_from_path: \"${oc.env:BIONEMO_HOME}/models/protein/esm2nv/esm2nv_650M_converted.nemo\"\n",
    "cfg = load_model_config(config_name=\"infer.yaml\", config_path=config_path)\n"
   ]
  },
  {
   "cell_type": "code",
   "execution_count": null,
   "metadata": {},
   "outputs": [],
   "source": []
  },
  {
   "cell_type": "code",
   "execution_count": 6,
   "metadata": {},
   "outputs": [
    {
     "name": "stderr",
     "output_type": "stream",
     "text": [
      "INFO:rdkit:Enabling RDKit 2023.09.1 jupyter extensions\n",
      "INFO:datasets:PyTorch version 2.1.0a0+32f93b1 available.\n"
     ]
    },
    {
     "name": "stdout",
     "output_type": "stream",
     "text": [
      "[NeMo I 2024-05-30 19:32:14 megatron_hiddens:110] Registered hidden transform sampled_var_cond_gaussian at bionemo.model.core.hiddens_support.SampledVarGaussianHiddenTransform\n",
      "[NeMo I 2024-05-30 19:32:14 megatron_hiddens:110] Registered hidden transform interp_var_cond_gaussian at bionemo.model.core.hiddens_support.InterpVarGaussianHiddenTransform\n",
      "[NeMo I 2024-05-30 19:32:14 utils:490] pytorch DDP is not initialized. Initializing with pytorch-lightening...\n"
     ]
    },
    {
     "name": "stderr",
     "output_type": "stream",
     "text": [
      "GPU available: True (cuda), used: True\n",
      "TPU available: False, using: 0 TPU cores\n",
      "IPU available: False, using: 0 IPUs\n",
      "HPU available: False, using: 0 HPUs\n"
     ]
    },
    {
     "name": "stdout",
     "output_type": "stream",
     "text": [
      "[NeMo I 2024-05-30 19:32:14 utils:333] Restoring model from /workspace/bionemo/models/protein/esm2nv/esm2nv_650M_converted.nemo\n",
      "[NeMo I 2024-05-30 19:32:14 utils:337] Loading model class: bionemo.model.protein.esm1nv.esm1nv_model.ESM2nvModel\n"
     ]
    },
    {
     "name": "stderr",
     "output_type": "stream",
     "text": [
      "GPU available: True (cuda), used: True\n",
      "TPU available: False, using: 0 TPU cores\n",
      "IPU available: False, using: 0 IPUs\n",
      "HPU available: False, using: 0 HPUs\n"
     ]
    },
    {
     "name": "stdout",
     "output_type": "stream",
     "text": [
      "Interactive mode selected, using strategy='auto'\n",
      "[NeMo I 2024-05-30 19:32:14 exp_manager:394] Experiments will be logged at /workspace/bionemo/examples/protein/esm2nv/nbs/nemo_experiments/ESM2nv_Inference/2024-05-30_19-32-14\n",
      "[NeMo I 2024-05-30 19:32:14 exp_manager:835] TensorboardLogger has been set up\n",
      "[NeMo I 2024-05-30 19:32:14 utils:306] \n",
      "    \n",
      "    ************** Trainer configuration ***********\n",
      "[NeMo I 2024-05-30 19:32:14 utils:307] \n",
      "    name: ESM2nv_Inference\n",
      "    desc: Minimum configuration for initializing a ESM2nv model for inference.\n",
      "    trainer:\n",
      "      precision: 16-mixed\n",
      "      devices: 1\n",
      "      num_nodes: 1\n",
      "      accelerator: gpu\n",
      "      logger: false\n",
      "      accumulate_grad_batches: 1\n",
      "    exp_manager:\n",
      "      explicit_log_dir: null\n",
      "      exp_dir: null\n",
      "      name: ${name}\n",
      "      create_checkpoint_callback: false\n",
      "    model:\n",
      "      micro_batch_size: ${model.data.batch_size}\n",
      "      tensor_model_parallel_size: 1\n",
      "      pipeline_model_parallel_size: 1\n",
      "      seq_length: 1024\n",
      "      max_position_embeddings: 1024\n",
      "      encoder_seq_length: 1024\n",
      "      num_layers: 33\n",
      "      hidden_size: 1280\n",
      "      ffn_hidden_size: 5120\n",
      "      num_attention_heads: 20\n",
      "      init_method_std: 0.02\n",
      "      hidden_dropout: 0\n",
      "      kv_channels: null\n",
      "      apply_query_key_layer_scaling: true\n",
      "      layernorm_epsilon: 1.0e-05\n",
      "      make_vocab_size_divisible_by: 128\n",
      "      pre_process: true\n",
      "      post_process: false\n",
      "      bert_binary_head: false\n",
      "      resume_from_checkpoint: null\n",
      "      masked_softmax_fusion: true\n",
      "      tokenizer:\n",
      "        library: huggingface\n",
      "        type: BertWordPieceLowerCase\n",
      "        model: null\n",
      "        vocab_file: null\n",
      "        merge_file: null\n",
      "        mask_id: 32\n",
      "        model_name: facebook/esm2_t33_650M_UR50D\n",
      "        vocab_path: null\n",
      "        model_path: null\n",
      "      native_amp_init_scale: 4294967296\n",
      "      native_amp_growth_interval: 1000\n",
      "      fp32_residual_connection: false\n",
      "      fp16_lm_cross_entropy: false\n",
      "      seed: 1234\n",
      "      use_cpu_initialization: false\n",
      "      onnx_safe: false\n",
      "      activations_checkpoint_method: null\n",
      "      activations_checkpoint_num_layers: 1\n",
      "      data:\n",
      "        ngc_registry_target: uniref50_2022_05\n",
      "        ngc_registry_version: v23.06\n",
      "        data_prefix: ''\n",
      "        num_workers: 4\n",
      "        dataloader_type: single\n",
      "        reset_position_ids: false\n",
      "        reset_attention_mask: false\n",
      "        eod_mask_loss: false\n",
      "        masked_lm_prob: 0.15\n",
      "        short_seq_prob: 0.1\n",
      "        skip_lines: 0\n",
      "        drop_last: false\n",
      "        pin_memory: false\n",
      "        index_mapping_dir: null\n",
      "        data_impl: ''\n",
      "        data_impl_kwargs:\n",
      "          csv_mmap:\n",
      "            header_lines: 1\n",
      "            newline_int: 10\n",
      "            workers: 10\n",
      "            sort_dataset_paths: true\n",
      "            data_sep: ','\n",
      "            data_col: 3\n",
      "          csv_fields_mmap:\n",
      "            newline_int: 10\n",
      "            header_lines: 1\n",
      "            workers: null\n",
      "            sort_dataset_paths: false\n",
      "            data_sep: ','\n",
      "            data_fields:\n",
      "              id: 0\n",
      "              sequence: 1\n",
      "          fasta_fields_mmap:\n",
      "            data_fields:\n",
      "              id: 0\n",
      "              sequence: 1\n",
      "        use_upsampling: true\n",
      "        seed: 1234\n",
      "        max_seq_length: 1024\n",
      "        dataset_path: ${oc.env:BIONEMO_HOME}/data/FLIP/secondary_structure/test/x000\n",
      "        dataset:\n",
      "          train: x[000..049]\n",
      "          test: x[000..049]\n",
      "          val: x[000..049]\n",
      "        micro_batch_size: 32\n",
      "        global_batch_size: null\n",
      "        modify_percent: 0.1\n",
      "        perturb_percent: 0.5\n",
      "        batch_size: 32\n",
      "        output_fname: ''\n",
      "        data_fields_map:\n",
      "          sequence: sequence\n",
      "          id: id\n",
      "      optim:\n",
      "        name: fused_adam\n",
      "        lr: 0.0004\n",
      "        weight_decay: 0.01\n",
      "        betas:\n",
      "        - 0.9\n",
      "        - 0.98\n",
      "        sched:\n",
      "          name: CosineAnnealing\n",
      "          warmup_steps: 2000\n",
      "          constant_steps: 50000\n",
      "          min_lr: 4.0e-05\n",
      "      dwnstr_task_validation:\n",
      "        enabled: true\n",
      "        dataset:\n",
      "          class: PerTokenPredictionCallback\n",
      "          task_type: token-level-classification\n",
      "          infer_target: bionemo.model.protein.esm1nv.infer.ESM1nvInference\n",
      "          max_seq_length: 1024\n",
      "          emb_batch_size: 128\n",
      "          batch_size: 128\n",
      "          num_epochs: 10\n",
      "          shuffle: true\n",
      "          num_workers: 8\n",
      "          task_name: secondary_structure\n",
      "          dataset_path: /data/FLIP/secondary_structure\n",
      "          dataset:\n",
      "            train: x000\n",
      "            test: x000\n",
      "          sequence_column: sequence\n",
      "          target_column:\n",
      "          - 3state\n",
      "          - resolved\n",
      "          target_sizes:\n",
      "          - 3\n",
      "          - 2\n",
      "          mask_column:\n",
      "          - resolved\n",
      "          - null\n",
      "          random_seed: 1234\n",
      "          optim:\n",
      "            name: adam\n",
      "            lr: 0.0001\n",
      "            betas:\n",
      "            - 0.9\n",
      "            - 0.999\n",
      "            eps: 1.0e-08\n",
      "            weight_decay: 0.01\n",
      "            sched:\n",
      "              name: WarmupAnnealing\n",
      "              min_lr: 1.0e-05\n",
      "              last_epoch: -1\n",
      "              warmup_ratio: 0.01\n",
      "              max_steps: 1000\n",
      "      precision: 16\n",
      "      megatron_legacy: false\n",
      "      position_embedding_type: rope\n",
      "      embedding_use_attention_mask: true\n",
      "      embedding_token_dropout: true\n",
      "      mask_token_id: 32\n",
      "      attention_dropout: 0.0\n",
      "      use_esm_attention: true\n",
      "      normalize_attention_scores: false\n",
      "      esm_gelu: true\n",
      "      bias_gelu_fusion: false\n",
      "      use_pt_layernorm: false\n",
      "      use_pt_mlp_out: false\n",
      "      target: bionemo.model.protein.esm1nv.esm1nv_model.ESM2nvModel\n",
      "      nemo_version: 1.20.0\n",
      "      downstream_task:\n",
      "        restore_from_path: ${oc.env:BIONEMO_HOME}/models/protein/esm2nv/esm2nv_650M_converted.nemo\n",
      "        outputs:\n",
      "        - embeddings\n",
      "        - hiddens\n",
      "      global_batch_size: 32\n",
      "    target: bionemo.model.protein.esm1nv.esm1nv_model.ESM2nvModel\n",
      "    infer_target: bionemo.model.protein.esm1nv.infer.ESM1nvInference\n",
      "    formatters:\n",
      "      simple:\n",
      "        format: '[%(asctime)s][%(name)s][%(levelname)s] - %(message)s'\n",
      "    handlers:\n",
      "      console:\n",
      "        class: logging.StreamHandler\n",
      "        formatter: simple\n",
      "        stream: ext://sys.stdout\n",
      "      file:\n",
      "        class: logging.FileHandler\n",
      "        formatter: simple\n",
      "        filename: /logs/inference.log\n",
      "    root:\n",
      "      level: INFO\n",
      "      handlers:\n",
      "      - console\n",
      "    disable_existing_loggers: false\n",
      "    \n"
     ]
    },
    {
     "name": "stderr",
     "output_type": "stream",
     "text": [
      "[NeMo W 2024-05-30 19:32:17 megatron_base_model:821] The model: ESM2nvModel() does not have field.name: context_parallel_size in its cfg. Add this key to cfg or config_mapping to make to make it configurable.\n",
      "[NeMo W 2024-05-30 19:32:17 megatron_base_model:821] The model: ESM2nvModel() does not have field.name: virtual_pipeline_model_parallel_size in its cfg. Add this key to cfg or config_mapping to make to make it configurable.\n",
      "[NeMo W 2024-05-30 19:32:17 megatron_base_model:821] The model: ESM2nvModel() does not have field.name: sequence_parallel in its cfg. Add this key to cfg or config_mapping to make to make it configurable.\n",
      "[NeMo W 2024-05-30 19:32:17 megatron_base_model:821] The model: ESM2nvModel() does not have field.name: expert_model_parallel_size in its cfg. Add this key to cfg or config_mapping to make to make it configurable.\n",
      "[NeMo W 2024-05-30 19:32:17 megatron_base_model:821] The model: ESM2nvModel() does not have field.name: gradient_accumulation_fusion in its cfg. Add this key to cfg or config_mapping to make to make it configurable.\n",
      "[NeMo W 2024-05-30 19:32:17 megatron_base_model:821] The model: ESM2nvModel() does not have field.name: tp_comm_overlap in its cfg. Add this key to cfg or config_mapping to make to make it configurable.\n",
      "[NeMo W 2024-05-30 19:32:17 megatron_base_model:821] The model: ESM2nvModel() does not have field.name: tp_comm_split_ag in its cfg. Add this key to cfg or config_mapping to make to make it configurable.\n",
      "[NeMo W 2024-05-30 19:32:17 megatron_base_model:821] The model: ESM2nvModel() does not have field.name: tp_comm_split_rs in its cfg. Add this key to cfg or config_mapping to make to make it configurable.\n",
      "[NeMo W 2024-05-30 19:32:17 megatron_base_model:821] The model: ESM2nvModel() does not have field.name: tp_comm_bulk_wgrad in its cfg. Add this key to cfg or config_mapping to make to make it configurable.\n",
      "[NeMo W 2024-05-30 19:32:17 megatron_base_model:821] The model: ESM2nvModel() does not have field.name: tp_comm_bulk_dgrad in its cfg. Add this key to cfg or config_mapping to make to make it configurable.\n",
      "[NeMo W 2024-05-30 19:32:17 megatron_base_model:821] The model: ESM2nvModel() does not have field.name: finalize_model_grads_func in its cfg. Add this key to cfg or config_mapping to make to make it configurable.\n",
      "[NeMo W 2024-05-30 19:32:17 megatron_base_model:821] The model: ESM2nvModel() does not have field.name: overlap_p2p_comm in its cfg. Add this key to cfg or config_mapping to make to make it configurable.\n",
      "[NeMo W 2024-05-30 19:32:17 megatron_base_model:821] The model: ESM2nvModel() does not have field.name: batch_p2p_comm in its cfg. Add this key to cfg or config_mapping to make to make it configurable.\n",
      "[NeMo W 2024-05-30 19:32:17 megatron_base_model:821] The model: ESM2nvModel() does not have field.name: pipeline_model_parallel_split_rank in its cfg. Add this key to cfg or config_mapping to make to make it configurable.\n",
      "[NeMo W 2024-05-30 19:32:17 megatron_base_model:821] The model: ESM2nvModel() does not have field.name: barrier_with_L1_time in its cfg. Add this key to cfg or config_mapping to make to make it configurable.\n"
     ]
    },
    {
     "name": "stdout",
     "output_type": "stream",
     "text": [
      "[NeMo I 2024-05-30 19:32:17 megatron_init:234] Rank 0 has data parallel group: [0]\n",
      "[NeMo I 2024-05-30 19:32:17 megatron_init:237] All data parallel group ranks: [[0]]\n",
      "[NeMo I 2024-05-30 19:32:17 megatron_init:238] Ranks 0 has data parallel rank: 0\n",
      "[NeMo I 2024-05-30 19:32:17 megatron_init:246] Rank 0 has model parallel group: [0]\n",
      "[NeMo I 2024-05-30 19:32:17 megatron_init:247] All model parallel group ranks: [[0]]\n",
      "[NeMo I 2024-05-30 19:32:17 megatron_init:257] Rank 0 has tensor model parallel group: [0]\n",
      "[NeMo I 2024-05-30 19:32:17 megatron_init:261] All tensor model parallel group ranks: [[0]]\n",
      "[NeMo I 2024-05-30 19:32:17 megatron_init:262] Rank 0 has tensor model parallel rank: 0\n",
      "[NeMo I 2024-05-30 19:32:17 megatron_init:276] Rank 0 has pipeline model parallel group: [0]\n",
      "[NeMo I 2024-05-30 19:32:17 megatron_init:288] Rank 0 has embedding group: [0]\n",
      "[NeMo I 2024-05-30 19:32:17 megatron_init:294] All pipeline model parallel group ranks: [[0]]\n",
      "[NeMo I 2024-05-30 19:32:17 megatron_init:295] Rank 0 has pipeline model parallel rank 0\n",
      "[NeMo I 2024-05-30 19:32:17 megatron_init:296] All embedding group ranks: [[0]]\n",
      "[NeMo I 2024-05-30 19:32:17 megatron_init:297] Rank 0 has embedding rank: 0\n"
     ]
    },
    {
     "name": "stderr",
     "output_type": "stream",
     "text": [
      "[NeMo W 2024-05-30 19:32:17 megatron_base_model:821] The model: ESM2nvModel() does not have field.name: context_parallel_size in its cfg. Add this key to cfg or config_mapping to make to make it configurable.\n",
      "[NeMo W 2024-05-30 19:32:17 megatron_base_model:821] The model: ESM2nvModel() does not have field.name: virtual_pipeline_model_parallel_size in its cfg. Add this key to cfg or config_mapping to make to make it configurable.\n",
      "[NeMo W 2024-05-30 19:32:17 megatron_base_model:821] The model: ESM2nvModel() does not have field.name: sequence_parallel in its cfg. Add this key to cfg or config_mapping to make to make it configurable.\n",
      "[NeMo W 2024-05-30 19:32:17 megatron_base_model:821] The model: ESM2nvModel() does not have field.name: expert_model_parallel_size in its cfg. Add this key to cfg or config_mapping to make to make it configurable.\n",
      "[NeMo W 2024-05-30 19:32:17 megatron_base_model:821] The model: ESM2nvModel() does not have field.name: gradient_accumulation_fusion in its cfg. Add this key to cfg or config_mapping to make to make it configurable.\n",
      "[NeMo W 2024-05-30 19:32:17 megatron_base_model:821] The model: ESM2nvModel() does not have field.name: tp_comm_overlap in its cfg. Add this key to cfg or config_mapping to make to make it configurable.\n",
      "[NeMo W 2024-05-30 19:32:17 megatron_base_model:821] The model: ESM2nvModel() does not have field.name: tp_comm_split_ag in its cfg. Add this key to cfg or config_mapping to make to make it configurable.\n",
      "[NeMo W 2024-05-30 19:32:17 megatron_base_model:821] The model: ESM2nvModel() does not have field.name: tp_comm_split_rs in its cfg. Add this key to cfg or config_mapping to make to make it configurable.\n",
      "[NeMo W 2024-05-30 19:32:17 megatron_base_model:821] The model: ESM2nvModel() does not have field.name: tp_comm_bulk_wgrad in its cfg. Add this key to cfg or config_mapping to make to make it configurable.\n",
      "[NeMo W 2024-05-30 19:32:17 megatron_base_model:821] The model: ESM2nvModel() does not have field.name: tp_comm_bulk_dgrad in its cfg. Add this key to cfg or config_mapping to make to make it configurable.\n",
      "[NeMo W 2024-05-30 19:32:17 megatron_base_model:821] The model: ESM2nvModel() does not have field.name: finalize_model_grads_func in its cfg. Add this key to cfg or config_mapping to make to make it configurable.\n",
      "[NeMo W 2024-05-30 19:32:17 megatron_base_model:821] The model: ESM2nvModel() does not have field.name: overlap_p2p_comm in its cfg. Add this key to cfg or config_mapping to make to make it configurable.\n",
      "[NeMo W 2024-05-30 19:32:17 megatron_base_model:821] The model: ESM2nvModel() does not have field.name: batch_p2p_comm in its cfg. Add this key to cfg or config_mapping to make to make it configurable.\n",
      "[NeMo W 2024-05-30 19:32:17 megatron_base_model:821] The model: ESM2nvModel() does not have field.name: pipeline_model_parallel_split_rank in its cfg. Add this key to cfg or config_mapping to make to make it configurable.\n",
      "[NeMo W 2024-05-30 19:32:17 megatron_base_model:821] The model: ESM2nvModel() does not have field.name: barrier_with_L1_time in its cfg. Add this key to cfg or config_mapping to make to make it configurable.\n"
     ]
    },
    {
     "name": "stdout",
     "output_type": "stream",
     "text": [
      "[NeMo I 2024-05-30 19:32:17 tokenizer_utils:182] Getting HuggingFace AutoTokenizer with pretrained_model_name: facebook/esm2_t33_650M_UR50D\n",
      "[NeMo I 2024-05-30 19:32:17 megatron_base_model:315] Padded vocab_size: 128, original vocab_size: 33, dummy tokens: 95.\n"
     ]
    },
    {
     "name": "stderr",
     "output_type": "stream",
     "text": [
      "[NeMo W 2024-05-30 19:32:17 base:108] Using custom ESM2 Embeddings instead of the default NeMo version\n",
      "[NeMo W 2024-05-30 19:32:17 attention:87] Using custom ESM2 attention instead of the default NeMo version\n",
      "[NeMo W 2024-05-30 19:32:17 mlp:192] Using custom ESM2 GELU function instead of the default NeMo version\n",
      "[NeMo W 2024-05-30 19:32:17 attention:87] Using custom ESM2 attention instead of the default NeMo version\n",
      "[NeMo W 2024-05-30 19:32:17 mlp:192] Using custom ESM2 GELU function instead of the default NeMo version\n",
      "[NeMo W 2024-05-30 19:32:17 attention:87] Using custom ESM2 attention instead of the default NeMo version\n",
      "[NeMo W 2024-05-30 19:32:17 mlp:192] Using custom ESM2 GELU function instead of the default NeMo version\n",
      "[NeMo W 2024-05-30 19:32:17 attention:87] Using custom ESM2 attention instead of the default NeMo version\n",
      "[NeMo W 2024-05-30 19:32:17 mlp:192] Using custom ESM2 GELU function instead of the default NeMo version\n",
      "[NeMo W 2024-05-30 19:32:17 attention:87] Using custom ESM2 attention instead of the default NeMo version\n",
      "[NeMo W 2024-05-30 19:32:17 mlp:192] Using custom ESM2 GELU function instead of the default NeMo version\n",
      "[NeMo W 2024-05-30 19:32:17 attention:87] Using custom ESM2 attention instead of the default NeMo version\n",
      "[NeMo W 2024-05-30 19:32:17 mlp:192] Using custom ESM2 GELU function instead of the default NeMo version\n",
      "[NeMo W 2024-05-30 19:32:17 attention:87] Using custom ESM2 attention instead of the default NeMo version\n",
      "[NeMo W 2024-05-30 19:32:17 mlp:192] Using custom ESM2 GELU function instead of the default NeMo version\n",
      "[NeMo W 2024-05-30 19:32:17 attention:87] Using custom ESM2 attention instead of the default NeMo version\n",
      "[NeMo W 2024-05-30 19:32:17 mlp:192] Using custom ESM2 GELU function instead of the default NeMo version\n",
      "[NeMo W 2024-05-30 19:32:17 attention:87] Using custom ESM2 attention instead of the default NeMo version\n",
      "[NeMo W 2024-05-30 19:32:17 mlp:192] Using custom ESM2 GELU function instead of the default NeMo version\n",
      "[NeMo W 2024-05-30 19:32:17 attention:87] Using custom ESM2 attention instead of the default NeMo version\n",
      "[NeMo W 2024-05-30 19:32:17 mlp:192] Using custom ESM2 GELU function instead of the default NeMo version\n",
      "[NeMo W 2024-05-30 19:32:17 attention:87] Using custom ESM2 attention instead of the default NeMo version\n",
      "[NeMo W 2024-05-30 19:32:17 mlp:192] Using custom ESM2 GELU function instead of the default NeMo version\n",
      "[NeMo W 2024-05-30 19:32:17 attention:87] Using custom ESM2 attention instead of the default NeMo version\n",
      "[NeMo W 2024-05-30 19:32:17 mlp:192] Using custom ESM2 GELU function instead of the default NeMo version\n",
      "[NeMo W 2024-05-30 19:32:17 attention:87] Using custom ESM2 attention instead of the default NeMo version\n",
      "[NeMo W 2024-05-30 19:32:17 mlp:192] Using custom ESM2 GELU function instead of the default NeMo version\n",
      "[NeMo W 2024-05-30 19:32:17 attention:87] Using custom ESM2 attention instead of the default NeMo version\n",
      "[NeMo W 2024-05-30 19:32:17 mlp:192] Using custom ESM2 GELU function instead of the default NeMo version\n",
      "[NeMo W 2024-05-30 19:32:17 attention:87] Using custom ESM2 attention instead of the default NeMo version\n",
      "[NeMo W 2024-05-30 19:32:17 mlp:192] Using custom ESM2 GELU function instead of the default NeMo version\n",
      "[NeMo W 2024-05-30 19:32:17 attention:87] Using custom ESM2 attention instead of the default NeMo version\n",
      "[NeMo W 2024-05-30 19:32:17 mlp:192] Using custom ESM2 GELU function instead of the default NeMo version\n",
      "[NeMo W 2024-05-30 19:32:17 attention:87] Using custom ESM2 attention instead of the default NeMo version\n",
      "[NeMo W 2024-05-30 19:32:17 mlp:192] Using custom ESM2 GELU function instead of the default NeMo version\n",
      "[NeMo W 2024-05-30 19:32:17 attention:87] Using custom ESM2 attention instead of the default NeMo version\n",
      "[NeMo W 2024-05-30 19:32:17 mlp:192] Using custom ESM2 GELU function instead of the default NeMo version\n",
      "[NeMo W 2024-05-30 19:32:17 attention:87] Using custom ESM2 attention instead of the default NeMo version\n",
      "[NeMo W 2024-05-30 19:32:17 mlp:192] Using custom ESM2 GELU function instead of the default NeMo version\n",
      "[NeMo W 2024-05-30 19:32:17 attention:87] Using custom ESM2 attention instead of the default NeMo version\n",
      "[NeMo W 2024-05-30 19:32:17 mlp:192] Using custom ESM2 GELU function instead of the default NeMo version\n",
      "[NeMo W 2024-05-30 19:32:17 attention:87] Using custom ESM2 attention instead of the default NeMo version\n",
      "[NeMo W 2024-05-30 19:32:17 mlp:192] Using custom ESM2 GELU function instead of the default NeMo version\n",
      "[NeMo W 2024-05-30 19:32:17 attention:87] Using custom ESM2 attention instead of the default NeMo version\n",
      "[NeMo W 2024-05-30 19:32:17 mlp:192] Using custom ESM2 GELU function instead of the default NeMo version\n",
      "[NeMo W 2024-05-30 19:32:17 attention:87] Using custom ESM2 attention instead of the default NeMo version\n",
      "[NeMo W 2024-05-30 19:32:17 mlp:192] Using custom ESM2 GELU function instead of the default NeMo version\n",
      "[NeMo W 2024-05-30 19:32:17 attention:87] Using custom ESM2 attention instead of the default NeMo version\n",
      "[NeMo W 2024-05-30 19:32:17 mlp:192] Using custom ESM2 GELU function instead of the default NeMo version\n",
      "[NeMo W 2024-05-30 19:32:17 attention:87] Using custom ESM2 attention instead of the default NeMo version\n",
      "[NeMo W 2024-05-30 19:32:17 mlp:192] Using custom ESM2 GELU function instead of the default NeMo version\n",
      "[NeMo W 2024-05-30 19:32:17 attention:87] Using custom ESM2 attention instead of the default NeMo version\n",
      "[NeMo W 2024-05-30 19:32:17 mlp:192] Using custom ESM2 GELU function instead of the default NeMo version\n",
      "[NeMo W 2024-05-30 19:32:17 attention:87] Using custom ESM2 attention instead of the default NeMo version\n",
      "[NeMo W 2024-05-30 19:32:17 mlp:192] Using custom ESM2 GELU function instead of the default NeMo version\n",
      "[NeMo W 2024-05-30 19:32:17 attention:87] Using custom ESM2 attention instead of the default NeMo version\n",
      "[NeMo W 2024-05-30 19:32:17 mlp:192] Using custom ESM2 GELU function instead of the default NeMo version\n",
      "[NeMo W 2024-05-30 19:32:17 attention:87] Using custom ESM2 attention instead of the default NeMo version\n",
      "[NeMo W 2024-05-30 19:32:17 mlp:192] Using custom ESM2 GELU function instead of the default NeMo version\n",
      "[NeMo W 2024-05-30 19:32:17 attention:87] Using custom ESM2 attention instead of the default NeMo version\n",
      "[NeMo W 2024-05-30 19:32:17 mlp:192] Using custom ESM2 GELU function instead of the default NeMo version\n",
      "[NeMo W 2024-05-30 19:32:17 attention:87] Using custom ESM2 attention instead of the default NeMo version\n",
      "[NeMo W 2024-05-30 19:32:17 mlp:192] Using custom ESM2 GELU function instead of the default NeMo version\n",
      "[NeMo W 2024-05-30 19:32:17 attention:87] Using custom ESM2 attention instead of the default NeMo version\n",
      "[NeMo W 2024-05-30 19:32:17 mlp:192] Using custom ESM2 GELU function instead of the default NeMo version\n",
      "[NeMo W 2024-05-30 19:32:17 attention:87] Using custom ESM2 attention instead of the default NeMo version\n",
      "[NeMo W 2024-05-30 19:32:17 mlp:192] Using custom ESM2 GELU function instead of the default NeMo version\n"
     ]
    },
    {
     "name": "stdout",
     "output_type": "stream",
     "text": [
      "[NeMo I 2024-05-30 19:32:31 nlp_overrides:752] Model ESM2nvModel was successfully restored from /workspace/bionemo/models/protein/esm2nv/esm2nv_650M_converted.nemo.\n"
     ]
    },
    {
     "name": "stderr",
     "output_type": "stream",
     "text": [
      "[NeMo W 2024-05-30 19:32:31 nemo_logging:349] /usr/local/lib/python3.10/dist-packages/nemo/collections/nlp/modules/common/megatron/fused_bias_dropout_add.py:70: UserWarning: nvfuser integration in TorchScript is deprecated. (Triggered internally at /opt/pytorch/pytorch/torch/csrc/jit/codegen/cuda/interface.cpp:235.)\n",
      "      return bias_dropout_add_fused_inference_(*args)\n",
      "    \n"
     ]
    },
    {
     "name": "stdout",
     "output_type": "stream",
     "text": [
      "Loaded a <class 'bionemo.model.protein.esm1nv.infer.ESM1nvInference'>\n"
     ]
    }
   ],
   "source": [
    "from bionemo.triton.utils import load_model_for_inference\n",
    "from bionemo.model.protein.esm1nv.infer import ESM1nvInference\n",
    "\n",
    "inferer = load_model_for_inference(cfg, interactive=True)\n",
    "\n",
    "print(f\"Loaded a {type(inferer)}\")\n",
    "assert isinstance(inferer, ESM1nvInference)"
   ]
  },
  {
   "cell_type": "markdown",
   "metadata": {},
   "source": [
    "# Test embedding consistency"
   ]
  },
  {
   "cell_type": "markdown",
   "metadata": {},
   "source": [
    "## Input data"
   ]
  },
  {
   "cell_type": "code",
   "execution_count": 26,
   "metadata": {},
   "outputs": [
    {
     "name": "stdout",
     "output_type": "stream",
     "text": [
      "145\n"
     ]
    }
   ],
   "source": [
    "short_seq = 'MQLYLVLLLISYLLTPIGASILGRCTVAKMLYDGGLNYFEGYSLENWVCLAYFESKFNPSAVYEDPQDGSTGFGLFQIRDNEWCGHGKNLCSVSCTALLNPNLKDTIQCAKKIVKGKHGMGAWPIWSKNCQLSDVLDRWLDGCDL'\n",
    "long_seq = 'MKWVTFISLLLLFSSAYSRGVFRRDTHKSEIAHRFKDLGEEHFKGLVLIAFSQYLQQCPFDEHVKLVNELTEFAKTCVADESHAGCEKSLHTLFGDELCKVASLRETYGDMADCCEKQEPERNECFLSHKDDSPDLPKLKPDPNTLCDEFKADEKKFWGKYLYEIARRHPYFYAPELLYYANKYNGVFQECCQAEDKGACLLPKIETMREKVLASSARQRLRCASIQKFGERALKAWSVARLSQKFPKAEFVEVTKLVTDLTKVHKECCHGDLLECADDRADLAKYICDNQDTISSKLKECCDKPLLEKSHCIAEVEKDAIPENLPPLTADFAEDKDVCKNYQEAKDAFLGSFLYEYSRRHPEYAVSVLLRLAKEYEATLEECCAKDDPHACYSTVFDKLKHLVDEPQNLIKQNCDQFEKLGEYGFQNALIVRYTRKVPQVSTPTLVEVSRSLGKVGTRCCTKPESERMPCTEDYLSLILNRLCVLHEKTPVSEKVTKCCTESLVNRRPCFSALTPDETYVPKAFDEKLFTFHADICTLPDTEKQIKKQTALVELLKHKPKATEEQLKTVMENFVAFVDKCCAADDKEACFAVEGPKLVVSTQTALA'\n",
    "\n",
    "input1 = [short_seq]\n",
    "input2 = [short_seq, short_seq]\n",
    "input3 = [short_seq, long_seq]\n",
    "\n",
    "print(len(short_seq))"
   ]
  },
  {
   "cell_type": "markdown",
   "metadata": {},
   "source": [
    "## Run tests"
   ]
  },
  {
   "cell_type": "markdown",
   "metadata": {},
   "source": [
    "### Batch Effects"
   ]
  },
  {
   "cell_type": "code",
   "execution_count": 99,
   "metadata": {},
   "outputs": [],
   "source": [
    "result1 = inferer.seq_to_hiddens(input1)[0][0, :].cpu()\n",
    "result2a = inferer.seq_to_hiddens(input2)[0][0, :].cpu() # same seq, at index 0 in the array\n",
    "result2b = inferer.seq_to_hiddens(input2)[0][1, :].cpu() # same seq, at index 1 in the array\n",
    "result3 = inferer.seq_to_hiddens(input3)[0][0, :].cpu()"
   ]
  },
  {
   "cell_type": "code",
   "execution_count": 100,
   "metadata": {},
   "outputs": [],
   "source": [
    "# result 1 = result 2a \n",
    "# result 1 = result 2b\n",
    "assert np.array_equal(result1, result2a)\n",
    "assert np.array_equal(result1, result2b)"
   ]
  },
  {
   "cell_type": "code",
   "execution_count": 101,
   "metadata": {},
   "outputs": [
    {
     "name": "stdout",
     "output_type": "stream",
     "text": [
      "torch.Size([147, 1280])\n",
      "torch.Size([609, 1280])\n"
     ]
    }
   ],
   "source": [
    "print(result1.shape)\n",
    "print(result3.shape)"
   ]
  },
  {
   "cell_type": "markdown",
   "metadata": {},
   "source": [
    "Note that `result3` has a different shape, because the sequence was padded to the longer sequence in the list. "
   ]
  },
  {
   "cell_type": "code",
   "execution_count": 102,
   "metadata": {},
   "outputs": [],
   "source": [
    "result3_paddings_removed = result3[:147, :]\n",
    "\n",
    "# the actual embeddings between result1 and result3 are NOT exactly the same\n",
    "assert not np.array_equal(result1, result3_paddings_removed)\n",
    "\n",
    "# they are slightly different\n",
    "assert np.allclose(result1[1:146, :], result3[1:146, :], atol=0.02, rtol=0)"
   ]
  },
  {
   "cell_type": "markdown",
   "metadata": {},
   "source": [
    "### Running N=1 Batch\n",
    "\n",
    "We will run N=1 batch for 10 times on the same protein. "
   ]
  },
  {
   "cell_type": "code",
   "execution_count": 103,
   "metadata": {},
   "outputs": [],
   "source": [
    "N = 10\n",
    "# running inference 10 time\n",
    "for n in range(N): \n",
    "\t# but each time, we only embed 1 protein\n",
    "    result = inferer.seq_to_hiddens(input1)[0][0, :].cpu()\n",
    "    # this generates exactly the same array at each round\n",
    "    assert np.array_equal(result1, result)"
   ]
  },
  {
   "cell_type": "markdown",
   "metadata": {},
   "source": [
    "For the same protein, if we run N=1 batch, the result is **deterministic**"
   ]
  },
  {
   "cell_type": "markdown",
   "metadata": {},
   "source": [
    "**Conclusion**: To ensure that the embeddings are exactly same from each round, submit one protein sequence for each query, instead of putting them into a list. "
   ]
  }
 ],
 "metadata": {
  "kernelspec": {
   "display_name": "Python 3",
   "language": "python",
   "name": "python3"
  },
  "language_info": {
   "codemirror_mode": {
    "name": "ipython",
    "version": 3
   },
   "file_extension": ".py",
   "mimetype": "text/x-python",
   "name": "python",
   "nbconvert_exporter": "python",
   "pygments_lexer": "ipython3",
   "version": "3.10.12"
  }
 },
 "nbformat": 4,
 "nbformat_minor": 2
}
