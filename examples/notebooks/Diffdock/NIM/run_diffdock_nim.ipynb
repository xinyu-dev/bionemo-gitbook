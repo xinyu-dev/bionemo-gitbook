{
 "cells": [
  {
   "cell_type": "markdown",
   "id": "4f04e358",
   "metadata": {},
   "source": [
    "# Run Diffdock NIM"
   ]
  },
  {
   "cell_type": "code",
   "execution_count": 3,
   "id": "b637f488484374e",
   "metadata": {
    "ExecuteTime": {
     "end_time": "2024-04-05T17:38:30.058031Z",
     "start_time": "2024-04-05T17:38:30.056221Z"
    },
    "collapsed": false,
    "jupyter": {
     "outputs_hidden": false
    }
   },
   "outputs": [],
   "source": [
    "import requests\n",
    "import os\n",
    "import numpy as np"
   ]
  },
  {
   "cell_type": "markdown",
   "id": "2eab4f34",
   "metadata": {},
   "source": [
    "# Utils"
   ]
  },
  {
   "cell_type": "code",
   "execution_count": 4,
   "id": "899dda5a",
   "metadata": {},
   "outputs": [],
   "source": [
    "# utility function to prepare (start clean) the output directory\n",
    "def prepare_directory(temp):\n",
    "    import os, shutil\n",
    "    \"\"\"\n",
    "    Create a new directory and delete the old one if it exists\n",
    "    :param temp: str: path to the directory\n",
    "    \"\"\"\n",
    "    if os.path.exists(temp):\n",
    "        # Remove the directory and all its contents\n",
    "        shutil.rmtree(temp)\n",
    "    # Recreate the directory\n",
    "    os.makedirs(temp)\n"
   ]
  },
  {
   "cell_type": "markdown",
   "id": "cb31e88beece2d0a",
   "metadata": {},
   "source": [
    "# Set up the urls"
   ]
  },
  {
   "cell_type": "code",
   "execution_count": 5,
   "id": "eaed407ed18f29b4",
   "metadata": {
    "ExecuteTime": {
     "end_time": "2024-04-05T20:06:27.851127Z",
     "start_time": "2024-04-05T20:06:27.849488Z"
    },
    "collapsed": false,
    "jupyter": {
     "outputs_hidden": false
    }
   },
   "outputs": [],
   "source": [
    "# if NIM is launched in a remote server, replace localhost with the IP address of your instance\n",
    "base_url = \"http://localhost:8000\" \n",
    "query_url = base_url + \"/molecular-docking/diffdock/generate\"\n",
    "health_check_url = base_url + \"/v1/health/ready\""
   ]
  },
  {
   "cell_type": "code",
   "execution_count": 6,
   "id": "8cda878a-050a-4145-9372-dc11eec0a099",
   "metadata": {},
   "outputs": [],
   "source": [
    "# run health check\n",
    "response = requests.get(health_check_url)\n",
    "assert response.text == \"true\", \"Health check failed\""
   ]
  },
  {
   "cell_type": "markdown",
   "id": "61420bde466a42fc",
   "metadata": {},
   "source": [
    "# Usage case 1: single GPU, small dataset\n",
    "\n",
    "This section is for running NIMs on single GPU in instance. It will also work if you have multiple-GPU instance, but because we are not using `asyncio`, you will be utilizing only GPU:0 instead of all the GPUs. Refer to the the next section for running on multiple GPUs "
   ]
  },
  {
   "cell_type": "markdown",
   "id": "42144128",
   "metadata": {},
   "source": [
    "## Input file structure"
   ]
  },
  {
   "cell_type": "markdown",
   "id": "47ca4e5c",
   "metadata": {},
   "source": [
    "Prepare a file structure like this: \n",
    "\n",
    "```bash\n",
    "batch_input_small/\n",
    "├── input_smiles.txt\n",
    "├── receptor.pdb\n",
    "```\n",
    "\n",
    "Specifically: \n",
    "- `input_smiles.txt`: a txt file with SMILES strings, one per line. \n",
    "- `receptor.pdb`: a PDB file of the target\n",
    "\n",
    "**Example files**: See `batch_input_small` folder. These are taken from [DUD-E](https://dude.docking.org/). The example has 3 compounds for aa2ar"
   ]
  },
  {
   "cell_type": "markdown",
   "id": "03c486ee",
   "metadata": {},
   "source": [
    "## Run prediction"
   ]
  },
  {
   "cell_type": "code",
   "execution_count": 7,
   "id": "6e262692",
   "metadata": {},
   "outputs": [],
   "source": [
    "def submit_query(protein_file_path, ligand_file_path, num_poses=20, time_divisions=20, steps=18):\n",
    "    \"\"\"\n",
    "    Submit a query to the server\n",
    "    :param protein_file_path: path to the protein file, must be a PDB file\n",
    "    :param ligand_file_path: path to the ligand file, must be a txt, SDF, MOL2, file. If using batch-docking, only txt and SDF are supported. \n",
    "    :param num_poses: int, number of poses to be generated, default is 20\n",
    "    :param time_divisions: int, number of time divisions, default is 20\n",
    "    :param steps: int, number of diffusion steps, default is 18\n",
    "    :return: dict of response, status code and JSON response content if successful, otherwise return status code and error message\n",
    "    \"\"\"\n",
    "\n",
    "    with open(protein_file_path, 'r') as file:\n",
    "        protein_bytes = file.read()\n",
    "    with open(ligand_file_path, 'r') as file:\n",
    "        ligand_bytes = file.read()\n",
    "\n",
    "    ligand_file_type = ligand_file_path.split('.')[-1]\n",
    "    \n",
    "    data = {\n",
    "        \"ligand\": ligand_bytes,\n",
    "        \"ligand_file_type\": ligand_file_type, # txt, sdf, mol2\n",
    "        \"protein\": protein_bytes,\n",
    "        \"num_poses\": num_poses,\n",
    "        \"time_divisions\": time_divisions,\n",
    "        \"steps\": steps,\n",
    "        \"save_trajectory\": False, # diffusion trajectory\n",
    "        \"is_staged\": False\n",
    "    }\n",
    "    \n",
    "    headers = {\"Content-Type\": \"application/json\"}\n",
    "\n",
    "    with requests.post(query_url, headers=headers, json=data) as response:\n",
    "        status_code = response.status_code\n",
    "        try:\n",
    "            response.raise_for_status() # optional, immediately fails if the status code is not 200\n",
    "            output = {\n",
    "                \"status_code\": status_code,\n",
    "                \"response\": response.json()\n",
    "            }\n",
    "        except:\n",
    "            output = {\n",
    "                \"status_code\": status_code,\n",
    "                \"response\": response.text()   \n",
    "            }\n",
    "    \n",
    "    return output\n"
   ]
  },
  {
   "cell_type": "markdown",
   "id": "d8b306c3",
   "metadata": {},
   "source": [
    "Now we will run prediction with 3 ligands in the `input_smiles.txt` file: \n",
    "1. Each of the ligands will be docked to the protein in `receptor.pdb` file. \n",
    "2. The number of poses will be 5. \n",
    "3. The number of time divisions will be 20. \n",
    "4. The number of diffusion steps will be 18. "
   ]
  },
  {
   "cell_type": "code",
   "execution_count": 8,
   "id": "d13af11a",
   "metadata": {},
   "outputs": [
    {
     "name": "stdout",
     "output_type": "stream",
     "text": [
      "CPU times: user 5.6 ms, sys: 499 μs, total: 6.09 ms\n",
      "Wall time: 7.47 s\n"
     ]
    }
   ],
   "source": [
    "%%time\n",
    "result = submit_query(\n",
    "    protein_file_path=\"data/batch_input_small/receptor.pdb\",\n",
    "    ligand_file_path=\"data/batch_input_small/input_smiles.txt\",\n",
    "    num_poses=5, \n",
    "    time_divisions=20, \n",
    "    steps=18\n",
    ")"
   ]
  },
  {
   "cell_type": "markdown",
   "id": "e1557064",
   "metadata": {},
   "source": [
    "## Analyze results"
   ]
  },
  {
   "cell_type": "code",
   "execution_count": 9,
   "id": "7d63bd4aea36ad4f",
   "metadata": {
    "ExecuteTime": {
     "end_time": "2024-04-05T17:46:30.481672Z",
     "start_time": "2024-04-05T17:46:30.479248Z"
    }
   },
   "outputs": [
    {
     "data": {
      "text/plain": [
       "dict_keys(['status_code', 'response'])"
      ]
     },
     "execution_count": 9,
     "metadata": {},
     "output_type": "execute_result"
    }
   ],
   "source": [
    "result.keys()"
   ]
  },
  {
   "cell_type": "markdown",
   "id": "37d8cf62",
   "metadata": {},
   "source": [
    "we will look at the `response`key"
   ]
  },
  {
   "cell_type": "code",
   "execution_count": 10,
   "id": "b1ce351992137fc7",
   "metadata": {
    "ExecuteTime": {
     "end_time": "2024-04-05T17:46:31.799182Z",
     "start_time": "2024-04-05T17:46:31.796922Z"
    }
   },
   "outputs": [
    {
     "data": {
      "text/plain": [
       "dict_keys(['trajectory', 'ligand_positions', 'position_confidence', 'status', 'protein', 'ligand'])"
      ]
     },
     "execution_count": 10,
     "metadata": {},
     "output_type": "execute_result"
    }
   ],
   "source": [
    "response = result['response']\n",
    "response.keys()"
   ]
  },
  {
   "cell_type": "markdown",
   "id": "a84e20df",
   "metadata": {},
   "source": [
    "### Status\n",
    "\n",
    "This shows the success or failed status of each ligand"
   ]
  },
  {
   "cell_type": "code",
   "execution_count": 11,
   "id": "8f17fca2",
   "metadata": {},
   "outputs": [
    {
     "data": {
      "text/plain": [
       "['success', 'success', 'success']"
      ]
     },
     "execution_count": 11,
     "metadata": {},
     "output_type": "execute_result"
    }
   ],
   "source": [
    "# 3 input ligand, all showed success\n",
    "response['status']"
   ]
  },
  {
   "cell_type": "markdown",
   "id": "d2f9cfa6",
   "metadata": {},
   "source": [
    "### Trajectory"
   ]
  },
  {
   "cell_type": "markdown",
   "id": "0bc8a4cc",
   "metadata": {},
   "source": [
    "`trajectory`is the diffusion trajectory. Because we set `\"save_trajectory\": False`, it is just empty lists: "
   ]
  },
  {
   "cell_type": "code",
   "execution_count": 12,
   "id": "3610cb77",
   "metadata": {},
   "outputs": [
    {
     "data": {
      "text/plain": [
       "[['', '', '', '', ''], ['', '', '', '', ''], ['', '', '', '', '']]"
      ]
     },
     "execution_count": 12,
     "metadata": {},
     "output_type": "execute_result"
    }
   ],
   "source": [
    "response['trajectory']"
   ]
  },
  {
   "cell_type": "markdown",
   "id": "a26e34c8",
   "metadata": {},
   "source": [
    "### Ligand poses"
   ]
  },
  {
   "cell_type": "markdown",
   "id": "b0321b57",
   "metadata": {},
   "source": [
    "`ligand_positions` are the predicted poses. Becuase we set `num_poses=5`, for each ligand we will have 5 poses: "
   ]
  },
  {
   "cell_type": "code",
   "execution_count": 13,
   "id": "c2f31a17",
   "metadata": {},
   "outputs": [
    {
     "data": {
      "text/plain": [
       "'protein_ligand_0\\n     RDKit          3D\\n\\n 31 36  0  0  0  0  0  0  0  0999 V2000\\n   -8.8297   -4.8035   55.3940 N   0  0  0  0  0  0  0  0  0  0  0  0\\n   -8.7538   -6.1972   55.1800 C   0  0  0  0  0  0  0  0  0  0  0  0\\n   -9.3504   -7.0648   56.0156 N   0  0  0  0  0  0  0  0  0  0  0  0\\n   -9.2966   -8.3960   55.8398 C   0  0  0  0  0  0  0  0  0  0  0  0\\n   -9.9426   -9.2722   56.7478 N   0  0  0  0  0  0  0  0  0  0  0  0\\n   -9.8324  -10.7027   56.7085 C   0  0  0  0  0  0  0  0  0  0  0  0\\n  -10.0840  -11.2111   58.1147 C   0  0  0  0  0  0  0  0  0  0  0  0\\n  -11.4144  -10.8973   58.5821 N   0  0  0  0  0  0  0  0  0  0  0  0\\n  -11.4776  -11.1118   59.9876 C   0  0  0  0  0  0  0  0  0  0  0  0\\n  -12.9158  -10.9790   60.4411 C   0  0  1  0  0  0  0  0  0  0  0  0\\n  -12.9819  -11.2681   61.9465 C   0  0  0  0  0  0  0  0  0  0  0  0\\n  -12.3175  -12.5142   62.2553 N   0  0  0  0  0  0  0  0  0  0  0  0\\n  -11.6049  -12.8801   63.3343 C   0  0  0  0  0  0  0  0  0  0  0  0\\n  -11.1458  -14.1630   63.2228 C   0  0  0  0  0  0  0  0  0  0  0  0\\n  -11.6040  -14.5943   62.0151 N   0  0  0  0  0  0  0  0  0  0  0  0\\n  -12.3100  -13.5848   61.4445 C   0  0  0  0  0  0  0  0  0  0  0  0\\n  -13.3237   -9.5663   60.2171 C   0  0  0  0  0  0  0  0  0  0  0  0\\n  -12.9224   -8.9535   58.9251 C   0  0  0  0  0  0  0  0  0  0  0  0\\n  -11.9492   -9.6782   58.0880 C   0  0  1  0  0  0  0  0  0  0  0  0\\n  -10.7807   -8.7163   57.8003 C   0  0  0  0  0  0  0  0  0  0  0  0\\n   -8.6080   -8.8346   54.7726 N   0  0  0  0  0  0  0  0  0  0  0  0\\n   -7.9944   -7.9912   53.9099 C   0  0  0  0  0  0  0  0  0  0  0  0\\n   -7.2566   -8.1985   52.7846 N   0  0  0  0  0  0  0  0  0  0  0  0\\n   -6.8762   -7.0045   52.2970 C   0  0  0  0  0  0  0  0  0  0  0  0\\n   -6.0667   -6.7645   51.0958 C   0  0  0  0  0  0  0  0  0  0  0  0\\n   -5.7447   -5.5245   50.5885 C   0  0  0  0  0  0  0  0  0  0  0  0\\n   -4.9666   -5.7380   49.4450 C   0  0  0  0  0  0  0  0  0  0  0  0\\n   -4.8722   -7.1101   49.3408 C   0  0  0  0  0  0  0  0  0  0  0  0\\n   -5.5373   -7.6804   50.3376 O   0  0  0  0  0  0  0  0  0  0  0  0\\n   -7.3874   -6.0844   53.1321 N   0  0  0  0  0  0  0  0  0  0  0  0\\n   -8.0680   -6.6643   54.1151 N   0  0  0  0  0  0  0  0  0  0  0  0\\n  1  2  1  0\\n  2  3  2  0\\n  3  4  1  0\\n  4  5  1  0\\n  5  6  1  0\\n  6  7  1  0\\n  7  8  1  0\\n  8  9  1  0\\n  9 10  1  0\\n 10 11  1  1\\n 11 12  1  0\\n 12 13  1  0\\n 13 14  2  0\\n 14 15  1  0\\n 15 16  2  0\\n 10 17  1  0\\n 17 18  1  0\\n 19 18  1  1\\n 19 20  1  0\\n  4 21  2  0\\n 21 22  1  0\\n 22 23  2  0\\n 23 24  1  0\\n 24 25  1  0\\n 25 26  2  0\\n 26 27  1  0\\n 27 28  2  0\\n 28 29  1  0\\n 24 30  2  0\\n 30 31  1  0\\n 16 12  1  0\\n 19  8  1  0\\n 20  5  1  0\\n 29 25  1  0\\n 31  2  1  0\\n 31 22  1  0\\nM  END\\n$$$$\\n'"
      ]
     },
     "execution_count": 13,
     "metadata": {},
     "output_type": "execute_result"
    }
   ],
   "source": [
    "poses = response['ligand_positions']\n",
    "\n",
    "assert len(poses) == 3 # we have 3 ligandsin the `input_smiles.txt` file. \n",
    "\n",
    "# let's look at the first ligand. It has 5 predicted poses\n",
    "assert len(poses[0]) == 5\n",
    "\n",
    "# let's look at the first pose of the first ligand. \n",
    "poses[0][0]"
   ]
  },
  {
   "cell_type": "markdown",
   "id": "2fed4f91",
   "metadata": {},
   "source": [
    "### Pose confidence score\n",
    "\n",
    "`position_confidence` is the confidence score of each pose. The higher the better. A confidence score of 0 means that there is 50% chance the predicted pose is within RMSD< 2A from the ground truth. \n",
    "\n",
    "By default, the `ligand_positions` is a 1:1 match with the `position_confidence`. For example, the 1st pose in the `ligand_positions` matches to the 1st score in the `position_confidence`, the 2nd pose matches to the 2nd score, and so on. \n",
    "\n",
    "By default, the `position_confidence` is sorted from high (best) to low (worst). This means that, the 1st pose in `ligand_positions` is the one with the highest confidence score. \n"
   ]
  },
  {
   "cell_type": "code",
   "execution_count": 14,
   "id": "79d3ea19",
   "metadata": {},
   "outputs": [
    {
     "data": {
      "text/plain": [
       "[0.12911391258239746,\n",
       " 0.07320181280374527,\n",
       " -0.00487934798002243,\n",
       " -0.07097923755645752,\n",
       " -3.1280288696289062]"
      ]
     },
     "execution_count": 14,
     "metadata": {},
     "output_type": "execute_result"
    }
   ],
   "source": [
    "# this is a list of 3 input ligands\n",
    "assert len(response['position_confidence']) == 3\n",
    "\n",
    "# each sublist has 5 scores, one score for each pose\n",
    "assert len(response['position_confidence'][0]) == 5\n",
    "\n",
    "# here is what the confidence scores of the 1st ligand looks like\n",
    "response['position_confidence'][0]"
   ]
  },
  {
   "cell_type": "markdown",
   "id": "ccfcd983",
   "metadata": {},
   "source": [
    "The actual confidence scores will be different in each run"
   ]
  },
  {
   "cell_type": "markdown",
   "id": "861c0ed2",
   "metadata": {},
   "source": [
    "### Writing the output file"
   ]
  },
  {
   "cell_type": "markdown",
   "id": "7ca3b467",
   "metadata": {},
   "source": [
    "We need to write the poses to SDF file. One way to do this is to combine all poses of all ligands into one single SDF file. This is especially helpful if you have a large number of ligands the input file. Combining the predicted poses into one file can save some file operations, e.g. if you want to copy the data to another location. \n",
    "\n",
    "To do this, we will: \n",
    "1. filter the ligands by the status. We don't want to write the failed ligands to file. \n",
    "2. For all the successful ligands, we will write the poses to a single SDF file. \n",
    "3. The poses will be named as `ligand_0_pose_0`, `ligand_0_pose_1` etc\n",
    "4. Diffdock poses are not guaranteed to be valid. So we will use RDKit to sanitize the molecules before writing them to file. \n",
    "5. We will save the confidence score as a property `Confidence` of the molecule. \n",
    "\n",
    "Below is a script that does this. \n",
    "\n",
    "First, install RDKit: \n",
    "```bash\n",
    "pip install rdkit\n",
    "```"
   ]
  },
  {
   "cell_type": "code",
   "execution_count": 15,
   "id": "47ea433b",
   "metadata": {},
   "outputs": [],
   "source": [
    "from rdkit import Chem\n",
    "from rdkit.Chem import AllChem, SDWriter\n",
    "\n",
    "# change it to your desired output directory. use the `prepare_directory` function to start clean. \n",
    "output_dir = \"output/batch_output_small\" \n",
    "prepare_directory(output_dir) \n",
    "\n",
    "# output SDF file which has all ligands and all poses\n",
    "output_sdf_file = os.path.join(output_dir, 'output.sdf') # output file path\n",
    "\n",
    "# create a writer\n",
    "writer = SDWriter(output_sdf_file)\n",
    "\n",
    "# select indices where status is succes\n",
    "status_array = np.array(response['status'])\n",
    "success_indices = np.where(status_array == 'success')[0]\n",
    "\n",
    "for i in success_indices:\n",
    "    # e.g. ligand ID will be ligand_0, ligand_1, etc\n",
    "    ligand_id = 'ligand_' + str(i)\n",
    "\n",
    "    # get the ligand poses and confidence scores\n",
    "    ligand_positions = response['ligand_positions'][i]\n",
    "    confidence_scores = response['position_confidence'][i]\n",
    "\n",
    "    # write to SDF file\n",
    "    for idx, sdf_str in enumerate(ligand_positions):\n",
    "        mol = Chem.MolFromMolBlock(sdf_str)\n",
    "        if mol:\n",
    "            try: \n",
    "                # sanitize the molecule\n",
    "                Chem.SanitizeMol(mol)\n",
    "                # set the name, like ligand_0_pose_0, ligand_0_pose_1, etc \n",
    "                mol.SetProp(\"_Name\", ligand_id+f'_pose_{str(idx)}')\n",
    "                # set the confidence score as a property\n",
    "                mol.SetProp(\"Confidence\", str(np.round(confidence_scores[idx], 4)))\n",
    "                writer.write(mol)\n",
    "            except:\n",
    "                print(f\"Failed to sanitize molecule {ligand_id}_pose_{str(idx)}\")\n",
    "                continue\n"
   ]
  },
  {
   "cell_type": "markdown",
   "id": "1fa09455",
   "metadata": {},
   "source": [
    "To visualize the results in Pymol, load the `output.sdf` file and the `receptor.pdb` file. You will be able to cycle through the poses like this: \n",
    "\n",
    "![](../images/Diffdock_result.png)"
   ]
  },
  {
   "cell_type": "markdown",
   "id": "903e06b3",
   "metadata": {},
   "source": [
    "### Input protein and ligand files"
   ]
  },
  {
   "cell_type": "code",
   "execution_count": 23,
   "id": "63c8f645cd292867",
   "metadata": {},
   "outputs": [
    {
     "data": {
      "text/plain": [
       "'ATOM      1  N   ILE     3     -30.582 -20.763  57.829\\nATOM      2  CA  ILE     3     -29.314 -20.499  57.159\\nATOM      3  C   ILE     3     -28.389 -19.651  58.027\\nATOM      4  O   ILE     3     -28.839 -18.751  58.736\\nATOM      5  CB  ILE     3     -29.525 -19.801  55.801\\nATOM      6  CG1 ILE     3     -30.369 -18.537  55.975\\nATOM      7  CG2 ILE     3     -30.184 -20.750  54.811\\nATOM      8  CD1 ILE     3     -30.644 -17.800  54.681\\nATOM      9  N   MET     4     -27.095 -19.947  57.964\\nATOM     10  CA  MET     4     -26.097 -19.237  58.759\\nATOM     11  C   MET     4     -25.637 -17.954  58.075\\nATOM     12  O   MET     4     -25.728 -17.821  56.855\\nATOM     13  CB  MET     4     -24.892 -20.141  59.029\\nATOM     14  CG  MET     4     -25.165 -21.271  60.008\\nATOM     15  SD  MET     4     -25.242 -20.704  61.718\\nATOM     16  CE  MET     4     -23.568 -20.112  61.954\\nATOM     17  N   GLY     5     -25.139 -17.013  58.871\\nATOM     18  CA  GLY     5     -24.637 -15.757  58.348\\nATOM     19  C   GLY     5     -23.270 -15.907  57.707\\nATOM     20  O   GLY     5     -22.728 -14.954  57.146\\nATOM     21  N   SER     6     -22.710 -17.110  57.793\\nATOM     22  CA  SER     6     -21.405 -17.393  57.205\\nATOM     23  C   SER     6     -21.516 -18.439  56.100\\nATOM     24  O   SER     6     -20.735 -18.431  55.148\\nATOM     25  CB  SER     6     -20.418 -17.860  58.278\\nATOM     26  OG  SER     6     -20.834 -19.083  58.859\\nATOM     27  N   SER     7     -22.488 -19.337  56.231\\nATOM     28  CA  SER     7     -22.729 -20.351  55.212\\nATOM     29  C   SER     7     -23.089 -19.692  53.886\\nATOM     30  O   SER     7     -22.962 -20.298  52.823\\nATOM     31  CB  SER     7     -23.837 -21.309  55.651\\nATOM     32  OG  SER     7     -23.450 -22.041  56.801\\nATOM     33  N   VAL     8     -23.544 -18.445  53.961\\nATOM     34  CA  VAL     8     -23.812 -17.654  52.768\\nATOM     35  C   VAL     8     -22.500 -17.121  52.210\\nATOM     36  O   VAL     8     -22.235 -17.220  51.011\\nATOM     37  CB  VAL     8     -24.746 -16.469  53.071\\nATOM     38  CG1 VAL     8     -24.852 -15.553  51.860\\nATOM     39  CG2 VAL     8     -26.119 -16.970  53.493\\nATOM     40  N   TYR     9     -21.682 -16.557  53.094\\nATOM     41  CA  TYR     9     -20.372 -16.044  52.715\\nATOM     42  C   TYR     9     -19.552 -17.109  51.995\\nATOM     43  O   TYR     9     -18.914 -16.835  50.978\\nATOM     44  CB  TYR     9     -19.614 -15.550  53.949\\nATOM     45  CG  TYR     9     -18.146 -15.294  53.694\\nATOM     46  CD1 TYR     9     -17.730 -14.172  52.991\\nATOM     47  CD2 TYR     9     -17.176 -16.176  54.155\\nATOM     48  CE1 TYR     9     -16.391 -13.933  52.755\\nATOM     49  CE2 TYR     9     -15.832 -15.947  53.922\\nATOM     50  CZ  TYR     9     -15.444 -14.824  53.221\\nATOM     51  OH  TYR     9     -14.108 -14.589  52.985\\nATOM     52  N   ILE    10     -19.579 -18.326  52.528\\nATOM     53  CA  ILE    10     -18.808 -19.429  51.967\\nATOM     54  C   ILE    10     -19.372 -19.907  50.630\\nATOM     55  O   ILE    10     -18.619 -20.204  49.703\\nATOM     56  CB  ILE    10     -18.730 -20.611  52.951\\nATOM     57  CG1 ILE    10     -18.048 -20.170  54.247\\nATOM     58  CG2 ILE    10     -17.982 -21.777  52.327\\nATOM     59  CD1 ILE    10     -17.993 -21.246  55.307\\nATOM     60  N   THR    11     -20.695 -19.981  50.531\\nATOM     61  CA  THR    11     -21.340 -20.389  49.288\\nATOM     62  C   THR    11     -21.057 -19.383  48.177\\nATOM     63  O   THR    11     -20.570 -19.745  47.106\\nATOM     64  CB  THR    11     -22.866 -20.533  49.455\\nATOM     65  CG2 THR    11     -23.507 -20.970  48.144\\nATOM     66  OG1 THR    11     -23.150 -21.507  50.467\\nATOM     67  N   VAL    12     -21.365 -18.118  48.448\\nATOM     68  CA  VAL    12     -21.164 -17.040  47.486\\nATOM     69  C   VAL    12     -19.753 -17.054  46.912\\nATOM     70  O   VAL    12     -19.562 -16.955  45.700\\nATOM     71  CB  VAL    12     -21.421 -15.661  48.130\\nATOM     72  CG1 VAL    12     -20.973 -14.544  47.199\\nATOM     73  CG2 VAL    12     -22.891 -15.505  48.488\\nATOM     74  N   GLU    13     -18.767 -17.184  47.792\\nATOM     75  CA  GLU    13     -17.369 -17.098  47.389\\nATOM     76  C   GLU    13     -16.900 -18.343  46.637\\nATOM     77  O   GLU    13     -15.990 -18.271  45.812\\nATOM     78  CB  GLU    13     -16.486 -16.837  48.607\\nATOM     79  CG  GLU    13     -15.232 -16.053  48.291\\nATOM     80  CD  GLU    13     -14.751 -15.258  49.479\\nATOM     81  OE1 GLU    13     -15.593 -14.923  50.333\\nATOM     82  OE2 GLU    13     -13.540 -14.968  49.560\\nATOM     83  N   LEU    14     -17.522 -19.481  46.926\\nATOM     84  CA  LEU    14     -17.253 -20.701  46.174\\nATOM     85  C   LEU    14     -17.828 -20.588  44.768\\nATOM     86  O   LEU    14     -17.233 -21.069  43.804\\nATOM     87  CB  LEU    14     -17.832 -21.923  46.888\\nATOM     88  CG  LEU    14     -16.872 -22.686  47.803\\nATOM     89  CD1 LEU    14     -16.114 -21.728  48.695\\nATOM     90  CD2 LEU    14     -17.619 -23.715  48.635\\nATOM     91  N   ALA    15     -18.990 -19.951  44.659\\nATOM     92  CA  ALA    15     -19.610 -19.714  43.362\\nATOM     93  C   ALA    15     -18.732 -18.786  42.533\\nATOM     94  O   ALA    15     -18.501 -19.023  41.347\\nATOM     95  CB  ALA    15     -20.998 -19.124  43.536\\nATOM     96  N   ILE    16     -18.242 -17.729  43.171\\nATOM     97  CA  ILE    16     -17.339 -16.787  42.524\\nATOM     98  C   ILE    16     -16.086 -17.491  42.013\\nATOM     99  O   ILE    16     -15.595 -17.193  40.923\\nATOM    100  CB  ILE    16     -16.935 -15.656  43.486\\nATOM    101  CG1 ILE    16     -18.140 -14.761  43.782\\nATOM    102  CG2 ILE    16     -15.785 -14.844  42.907\\nATOM    103  CD1 ILE    16     -17.926 -13.800  44.932\\nATOM    104  N   ALA    17     -15.577 -18.431  42.803\\nATOM    105  CA  ALA    17     -14.378 -19.178  42.438\\nATOM    106  C   ALA    17     -14.587 -20.009  41.172\\nATOM    107  O   ALA    17     -13.728 -20.041  40.292\\nATOM    108  CB  ALA    17     -13.934 -20.068  43.594\\nATOM    109  N   VAL    18     -15.733 -20.679  41.086\\nATOM    110  CA  VAL    18     -16.040 -21.525  39.938\\nATOM    111  C   VAL    18     -16.102 -20.719  38.642\\nATOM    112  O   VAL    18     -15.559 -21.135  37.617\\nATOM    113  CB  VAL    18     -17.364 -22.291  40.133\\nATOM    114  CG1 VAL    18     -17.721 -23.067  38.873\\nATOM    115  CG2 VAL    18     -17.266 -23.224  41.331\\nATOM    116  N   LEU    19     -16.764 -19.566  38.689\\nATOM    117  CA  LEU    19     -16.861 -18.700  37.517\\nATOM    118  C   LEU    19     -15.510 -18.100  37.143\\nATOM    119  O   LEU    19     -15.165 -18.018  35.964\\nATOM    120  CB  LEU    19     -17.892 -17.590  37.734\\nATOM    121  CG  LEU    19     -19.324 -17.907  37.298\\nATOM    122  CD1 LEU    19     -19.913 -19.038  38.129\\nATOM    123  CD2 LEU    19     -20.196 -16.665  37.381\\nATOM    124  N   ALA    20     -14.750 -17.681  38.150\\nATOM    125  CA  ALA    20     -13.418 -17.137  37.921\\nATOM    126  C   ALA    20     -12.584 -18.117  37.105\\nATOM    127  O   ALA    20     -11.968 -17.745  36.107\\nATOM    128  CB  ALA    20     -12.735 -16.832  39.244\\nATOM    129  N   ILE    21     -12.580 -19.374  37.534\\nATOM    130  CA  ILE    21     -11.829 -20.421  36.850\\nATOM    131  C   ILE    21     -12.371 -20.707  35.450\\nATOM    132  O   ILE    21     -11.644 -20.606  34.463\\nATOM    133  CB  ILE    21     -11.822 -21.726  37.668\\nATOM    134  CG1 ILE    21     -11.099 -21.513  39.000\\nATOM    135  CG2 ILE    21     -11.168 -22.847  36.878\\nATOM    136  CD1 ILE    21     -11.218 -22.678  39.961\\nATOM    137  N   LEU    22     -13.649 -21.064  35.369\\nATOM    138  CA  LEU    22     -14.267 -21.406  34.092\\nATOM    139  C   LEU    22     -14.160 -20.273  33.076\\nATOM    140  O   LEU    22     -13.798 -20.495  31.920\\nATOM    141  CB  LEU    22     -15.734 -21.788  34.292\\nATOM    142  CG  LEU    22     -15.984 -23.111  35.014\\nATOM    143  CD1 LEU    22     -17.474 -23.393  35.110\\nATOM    144  CD2 LEU    22     -15.264 -24.246  34.303\\nATOM    145  N   GLY    23     -14.477 -19.060  33.512\\nATOM    146  CA  GLY    23     -14.455 -17.910  32.630\\nATOM    147  C   GLY    23     -13.080 -17.637  32.058\\nATOM    148  O   GLY    23     -12.926 -17.447  30.853\\nATOM    149  N   ASN    24     -12.073 -17.628  32.926\\nATOM    150  CA  ASN    24     -10.718 -17.270  32.518\\nATOM    151  C   ASN    24      -9.942 -18.401  31.843\\nATOM    152  O   ASN    24      -8.975 -18.154  31.122\\nATOM    153  CB  ASN    24      -9.941 -16.688  33.701\\nATOM    154  CG  ASN    24     -10.426 -15.300  34.082\\nATOM    155  ND2 ASN    24     -11.045 -15.188  35.252\\nATOM    156  OD1 ASN    24     -10.253 -14.342  33.328\\nATOM    157  N   VAL    25     -10.363 -19.639  32.076\\nATOM    158  CA  VAL    25      -9.825 -20.758  31.316\\nATOM    159  C   VAL    25     -10.255 -20.592  29.864\\nATOM    160  O   VAL    25      -9.499 -20.884  28.936\\nATOM    161  CB  VAL    25     -10.324 -22.116  31.852\\nATOM    162  CG1 VAL    25     -10.178 -23.193  30.789\\nATOM    163  CG2 VAL    25      -9.559 -22.507  33.109\\nATOM    164  N   LEU    26     -11.476 -20.101  29.683\\nATOM    165  CA  LEU    26     -12.045 -19.904  28.357\\nATOM    166  C   LEU    26     -11.273 -18.847  27.570\\nATOM    167  O   LEU    26     -11.094 -18.972  26.359\\nATOM    168  CB  LEU    26     -13.519 -19.511  28.472\\nATOM    169  CG  LEU    26     -14.357 -19.530  27.193\\nATOM    170  CD1 LEU    26     -14.364 -20.919  26.575\\nATOM    171  CD2 LEU    26     -15.775 -19.063  27.482\\nATOM    172  N   VAL    27     -10.817 -17.807  28.262\\nATOM    173  CA  VAL    27     -10.052 -16.742  27.620\\nATOM    174  C   VAL    27      -8.740 -17.276  27.057\\nATOM    175  O   VAL    27      -8.377 -16.979  25.919\\nATOM    176  CB  VAL    27      -9.759 -15.577  28.592\\nATOM    177  CG1 VAL    27      -8.709 -14.647  28.004\\nATOM    178  CG2 VAL    27     -11.035 -14.813  28.912\\nATOM    179  N   CYS    28      -8.034 -18.069  27.858\\nATOM    180  CA  CYS    28      -6.770 -18.660  27.430\\nATOM    181  C   CYS    28      -6.984 -19.673  26.309\\nATOM    182  O   CYS    28      -6.181 -19.764  25.379\\nATOM    183  CB  CYS    28      -6.065 -19.333  28.611\\nATOM    184  SG  CYS    28      -5.723 -18.241  30.008\\nATOM    185  N   TRP    29      -8.071 -20.435  26.411\\nATOM    186  CA  TRP    29      -8.408 -21.451  25.419\\nATOM    187  C   TRP    29      -8.565 -20.828  24.036\\nATOM    188  O   TRP    29      -8.090 -21.373  23.039\\nATOM    189  CB  TRP    29      -9.707 -22.157  25.811\\nATOM    190  CG  TRP    29      -9.935 -23.460  25.103\\nATOM    191  CD1 TRP    29      -9.324 -23.894  23.962\\nATOM    192  CD2 TRP    29     -10.861 -24.488  25.478\\nATOM    193  CE2 TRP    29     -10.747 -25.520  24.525\\nATOM    194  CE3 TRP    29     -11.771 -24.638  26.528\\nATOM    195  NE1 TRP    29      -9.801 -25.134  23.612\\nATOM    196  CZ2 TRP    29     -11.509 -26.685  24.592\\nATOM    197  CZ3 TRP    29     -12.527 -25.796  26.593\\nATOM    198  CH2 TRP    29     -12.390 -26.804  25.630\\nATOM    199  N   ALA    30      -9.237 -19.682  23.987\\nATOM    200  CA  ALA    30      -9.495 -18.988  22.731\\nATOM    201  C   ALA    30      -8.209 -18.494  22.078\\nATOM    202  O   ALA    30      -8.017 -18.652  20.872\\nATOM    203  CB  ALA    30     -10.452 -17.829  22.957\\nATOM    204  N   VAL    31      -7.334 -17.892  22.876\\nATOM    205  CA  VAL    31      -6.073 -17.364  22.364\\nATOM    206  C   VAL    31      -5.201 -18.476  21.785\\nATOM    207  O   VAL    31      -4.472 -18.267  20.816\\nATOM    208  CB  VAL    31      -5.292 -16.606  23.459\\nATOM    209  CG1 VAL    31      -3.897 -16.235  22.968\\nATOM    210  CG2 VAL    31      -6.059 -15.364  23.893\\nATOM    211  N   TRP    32      -5.288 -19.660  22.381\\nATOM    212  CA  TRP    32      -4.516 -20.807  21.921\\nATOM    213  C   TRP    32      -5.058 -21.346  20.596\\nATOM    214  O   TRP    32      -4.292 -21.737  19.715\\nATOM    215  CB  TRP    32      -4.522 -21.906  22.987\\nATOM    216  CG  TRP    32      -3.486 -22.967  22.776\\nATOM    217  CD1 TRP    32      -2.148 -22.867  23.025\\nATOM    218  CD2 TRP    32      -3.704 -24.296  22.283\\nATOM    219  CE2 TRP    32      -2.451 -24.941  22.255\\nATOM    220  CE3 TRP    32      -4.836 -25.002  21.860\\nATOM    221  NE1 TRP    32      -1.518 -24.047  22.713\\nATOM    222  CZ2 TRP    32      -2.298 -26.257  21.822\\nATOM    223  CZ3 TRP    32      -4.681 -26.308  21.429\\nATOM    224  CH2 TRP    32      -3.422 -26.922  21.414\\nATOM    225  N   LEU    33      -6.380 -21.355  20.459\\nATOM    226  CA  LEU    33      -7.026 -21.875  19.257\\nATOM    227  C   LEU    33      -6.970 -20.904  18.082\\nATOM    228  O   LEU    33      -6.647 -21.294  16.960\\nATOM    229  CB  LEU    33      -8.486 -22.234  19.544\\nATOM    230  CG  LEU    33      -8.760 -23.526  20.312\\nATOM    231  CD1 LEU    33     -10.256 -23.783  20.379\\nATOM    232  CD2 LEU    33      -8.044 -24.696  19.658\\nATOM    233  N   ASN    34      -7.293 -19.642  18.343\\nATOM    234  CA  ASN    34      -7.421 -18.654  17.278\\nATOM    235  C   ASN    34      -6.139 -17.866  17.023\\nATOM    236  O   ASN    34      -5.572 -17.268  17.937\\nATOM    237  CB  ASN    34      -8.578 -17.699  17.578\\nATOM    238  CG  ASN    34      -9.081 -16.990  16.338\\nATOM    239  ND2 ASN    34     -10.211 -16.301  16.465\\nATOM    240  OD1 ASN    34      -8.462 -17.062  15.275\\nATOM    241  N   SER    35      -5.691 -17.870  15.771\\nATOM    242  CA  SER    35      -4.483 -17.149  15.380\\nATOM    243  C   SER    35      -4.709 -15.641  15.381\\nATOM    244  O   SER    35      -3.775 -14.863  15.580\\nATOM    245  CB  SER    35      -4.009 -17.607  13.999\\nATOM    246  OG  SER    35      -2.862 -16.883  13.586\\nATOM    247  N   ASN    36      -5.954 -15.232  15.155\\nATOM    248  CA  ASN    36      -6.304 -13.816  15.149\\nATOM    249  C   ASN    36      -6.389 -13.231  16.557\\nATOM    250  O   ASN    36      -6.767 -12.076  16.739\\nATOM    251  CB  ASN    36      -7.615 -13.591  14.396\\nATOM    252  CG  ASN    36      -7.500 -13.924  12.922\\nATOM    253  ND2 ASN    36      -8.605 -14.355  12.323\\nATOM    254  OD1 ASN    36      -6.429 -13.795  12.327\\nATOM    255  N   LEU    37      -6.037 -14.041  17.550\\nATOM    256  CA  LEU    37      -5.965 -13.579  18.930\\nATOM    257  C   LEU    37      -4.558 -13.799  19.468\\nATOM    258  O   LEU    37      -4.329 -13.732  20.674\\nATOM    259  CB  LEU    37      -6.979 -14.315  19.808\\nATOM    260  CG  LEU    37      -8.463 -14.209  19.453\\nATOM    261  CD1 LEU    37      -9.273 -15.208  20.263\\nATOM    262  CD2 LEU    37      -8.987 -12.797  19.668\\nATOM    263  N   GLN    38      -3.618 -14.072  18.567\\nATOM    264  CA  GLN    38      -2.243 -14.365  18.965\\nATOM    265  C   GLN    38      -1.308 -13.184  18.723\\nATOM    266  O   GLN    38      -0.144 -13.354  18.355\\nATOM    267  CB  GLN    38      -1.737 -15.632  18.268\\nATOM    268  CG  GLN    38      -2.467 -16.890  18.720\\nATOM    269  CD  GLN    38      -1.917 -18.154  18.090\\nATOM    270  NE2 GLN    38      -2.384 -19.303  18.569\\nATOM    271  OE1 GLN    38      -1.085 -18.102  17.185\\nATOM    272  N   ASN    39      -1.836 -11.985  18.941\\nATOM    273  CA  ASN    39      -1.044 -10.767  18.906\\nATOM    274  C   ASN    39      -0.411 -10.501  20.269\\nATOM    275  O   ASN    39      -0.720 -11.183  21.246\\nATOM    276  CB  ASN    39      -1.918  -9.589  18.482\\nATOM    277  CG  ASN    39      -3.222  -9.523  19.255\\nATOM    278  ND2 ASN    39      -4.336  -9.683  18.550\\nATOM    279  OD1 ASN    39      -3.228  -9.332  20.472\\nATOM    280  N   VAL    40       0.468  -9.506  20.332\\nATOM    281  CA  VAL    40       1.198  -9.210  21.564\\nATOM    282  C   VAL    40       0.282  -8.719  22.684\\nATOM    283  O   VAL    40       0.517  -8.999  23.860\\nATOM    284  CB  VAL    40       2.304  -8.166  21.326\\nATOM    285  CG1 VAL    40       3.115  -7.956  22.595\\nATOM    286  CG2 VAL    40       3.204  -8.600  20.181\\nATOM    287  N   THR    41      -0.761  -7.984  22.312\\nATOM    288  CA  THR    41      -1.683  -7.422  23.291\\nATOM    289  C   THR    41      -2.338  -8.506  24.145\\nATOM    290  O   THR    41      -2.532  -8.326  25.348\\nATOM    291  CB  THR    41      -2.782  -6.586  22.610\\nATOM    292  CG2 THR    41      -3.535  -5.754  23.642\\nATOM    293  OG1 THR    41      -2.191  -5.719  21.634\\nATOM    294  N   ASN    42      -2.675  -9.630  23.519\\nATOM    295  CA  ASN    42      -3.326 -10.731  24.226\\nATOM    296  C   ASN    42      -2.363 -11.572  25.063\\nATOM    297  O   ASN    42      -2.785 -12.466  25.796\\nATOM    298  CB  ASN    42      -4.116 -11.609  23.254\\nATOM    299  CG  ASN    42      -5.357 -10.916  22.729\\nATOM    300  ND2 ASN    42      -5.721 -11.209  21.486\\nATOM    301  OD1 ASN    42      -5.981 -10.123  23.434\\nATOM    302  N   TYR    43      -1.071 -11.281  24.949\\nATOM    303  CA  TYR    43      -0.072 -11.879  25.827\\nATOM    304  C   TYR    43      -0.313 -11.417  27.260\\nATOM    305  O   TYR    43      -0.136 -12.176  28.212\\nATOM    306  CB  TYR    43       1.333 -11.468  25.392\\nATOM    307  CG  TYR    43       1.897 -12.269  24.241\\nATOM    308  CD1 TYR    43       1.099 -12.642  23.169\\nATOM    309  CD2 TYR    43       3.238 -12.632  24.219\\nATOM    310  CE1 TYR    43       1.618 -13.369  22.113\\nATOM    311  CE2 TYR    43       3.766 -13.355  23.168\\nATOM    312  CZ  TYR    43       2.953 -13.722  22.118\\nATOM    313  OH  TYR    43       3.479 -14.444  21.072\\nATOM    314  N   PHE    44      -0.717 -10.159  27.402\\nATOM    315  CA  PHE    44      -0.989  -9.577  28.709\\nATOM    316  C   PHE    44      -2.386  -9.941  29.198\\nATOM    317  O   PHE    44      -2.628 -10.028  30.401\\nATOM    318  CB  PHE    44      -0.822  -8.057  28.659\\nATOM    319  CG  PHE    44       0.556  -7.614  28.256\\nATOM    320  CD1 PHE    44       0.778  -7.027  27.022\\nATOM    321  CD2 PHE    44       1.631  -7.794  29.110\\nATOM    322  CE1 PHE    44       2.047  -6.621  26.649\\nATOM    323  CE2 PHE    44       2.901  -7.392  28.744\\nATOM    324  CZ  PHE    44       3.110  -6.805  27.513\\nATOM    325  N   VAL    45      -3.304 -10.150  28.259\\nATOM    326  CA  VAL    45      -4.653 -10.587  28.596\\nATOM    327  C   VAL    45      -4.613 -11.992  29.190\\nATOM    328  O   VAL    45      -5.332 -12.296  30.141\\nATOM    329  CB  VAL    45      -5.578 -10.576  27.361\\nATOM    330  CG1 VAL    45      -6.931 -11.187  27.698\\nATOM    331  CG2 VAL    45      -5.745  -9.158  26.833\\nATOM    332  N   VAL    46      -3.760 -12.841  28.625\\nATOM    333  CA  VAL    46      -3.592 -14.209  29.107\\nATOM    334  C   VAL    46      -2.954 -14.249  30.495\\nATOM    335  O   VAL    46      -3.410 -14.980  31.376\\nATOM    336  CB  VAL    46      -2.749 -15.050  28.129\\nATOM    337  CG1 VAL    46      -2.243 -16.312  28.809\\nATOM    338  CG2 VAL    46      -3.561 -15.388  26.884\\nATOM    339  N   SER    47      -1.897 -13.465  30.685\\nATOM    340  CA  SER    47      -1.249 -13.359  31.988\\nATOM    341  C   SER    47      -2.259 -12.892  33.031\\nATOM    342  O   SER    47      -2.294 -13.396  34.154\\nATOM    343  CB  SER    47      -0.069 -12.387  31.926\\nATOM    344  OG  SER    47       0.587 -12.293  33.179\\nATOM    345  N   LEU    48      -3.082 -11.924  32.644\\nATOM    346  CA  LEU    48      -4.141 -11.421  33.508\\nATOM    347  C   LEU    48      -5.146 -12.526  33.825\\nATOM    348  O   LEU    48      -5.596 -12.662  34.963\\nATOM    349  CB  LEU    48      -4.846 -10.241  32.840\\nATOM    350  CG  LEU    48      -5.938  -9.529  33.637\\nATOM    351  CD1 LEU    48      -5.381  -8.991  34.944\\nATOM    352  CD2 LEU    48      -6.548  -8.411  32.808\\nATOM    353  N   ALA    49      -5.491 -13.312  32.810\\nATOM    354  CA  ALA    49      -6.419 -14.427  32.978\\nATOM    355  C   ALA    49      -5.838 -15.486  33.910\\nATOM    356  O   ALA    49      -6.568 -16.141  34.655\\nATOM    357  CB  ALA    49      -6.766 -15.038  31.626\\nATOM    358  N   ALA    50      -4.520 -15.651  33.859\\nATOM    359  CA  ALA    50      -3.834 -16.597  34.729\\nATOM    360  C   ALA    50      -3.989 -16.189  36.190\\nATOM    361  O   ALA    50      -4.272 -17.020  37.052\\nATOM    362  CB  ALA    50      -2.363 -16.690  34.356\\nATOM    363  N   ALA    51      -3.806 -14.900  36.457\\nATOM    364  CA  ALA    51      -3.927 -14.370  37.810\\nATOM    365  C   ALA    51      -5.332 -14.574  38.369\\nATOM    366  O   ALA    51      -5.501 -14.870  39.550\\nATOM    367  CB  ALA    51      -3.554 -12.898  37.835\\nATOM    368  N   ASP    52      -6.338 -14.415  37.514\\nATOM    369  CA  ASP    52      -7.728 -14.560  37.933\\nATOM    370  C   ASP    52      -8.103 -16.018  38.189\\nATOM    371  O   ASP    52      -8.948 -16.308  39.035\\nATOM    372  CB  ASP    52      -8.670 -13.933  36.904\\nATOM    373  CG  ASP    52      -8.633 -12.416  36.930\\nATOM    374  OD1 ASP    52      -8.476 -11.844  38.030\\nATOM    375  OD2 ASP    52      -8.761 -11.794  35.856\\nATOM    376  N   ILE    53      -7.474 -16.934  37.459\\nATOM    377  CA  ILE    53      -7.679 -18.355  37.706\\nATOM    378  C   ILE    53      -7.096 -18.723  39.064\\nATOM    379  O   ILE    53      -7.707 -19.462  39.836\\nATOM    380  CB  ILE    53      -7.020 -19.231  36.621\\nATOM    381  CG1 ILE    53      -7.673 -18.981  35.260\\nATOM    382  CG2 ILE    53      -7.120 -20.705  36.994\\nATOM    383  CD1 ILE    53      -6.988 -19.699  34.114\\nATOM    384  N   ALA    54      -5.910 -18.195  39.351\\nATOM    385  CA  ALA    54      -5.230 -18.470  40.611\\nATOM    386  C   ALA    54      -6.025 -17.934  41.800\\nATOM    387  O   ALA    54      -5.917 -18.448  42.913\\nATOM    388  CB  ALA    54      -3.824 -17.886  40.594\\nATOM    389  N   VAL    55      -6.822 -16.898  41.559\\nATOM    390  CA  VAL    55      -7.672 -16.335  42.601\\nATOM    391  C   VAL    55      -8.742 -17.337  43.012\\nATOM    392  O   VAL    55      -8.991 -17.543  44.200\\nATOM    393  CB  VAL    55      -8.356 -15.033  42.140\\nATOM    394  CG1 VAL    55      -9.467 -14.646  43.107\\nATOM    395  CG2 VAL    55      -7.337 -13.910  42.022\\nATOM    396  N   GLY    56      -9.371 -17.960  42.022\\nATOM    397  CA  GLY    56     -10.411 -18.936  42.280\\nATOM    398  C   GLY    56      -9.869 -20.208  42.902\\nATOM    399  O   GLY    56     -10.535 -20.845  43.718\\nATOM    400  N   VAL    57      -8.649 -20.572  42.523\\nATOM    401  CA  VAL    57      -8.049 -21.820  42.981\\nATOM    402  C   VAL    57      -7.416 -21.721  44.370\\nATOM    403  O   VAL    57      -7.558 -22.632  45.183\\nATOM    404  CB  VAL    57      -6.999 -22.339  41.980\\nATOM    405  CG1 VAL    57      -6.325 -23.589  42.519\\nATOM    406  CG2 VAL    57      -7.646 -22.617  40.634\\nATOM    407  N   LEU    58      -6.723 -20.619  44.645\\nATOM    408  CA  LEU    58      -5.983 -20.492  45.900\\nATOM    409  C   LEU    58      -6.427 -19.325  46.783\\nATOM    410  O   LEU    58      -6.700 -19.507  47.969\\nATOM    411  CB  LEU    58      -4.479 -20.389  45.628\\nATOM    412  CG  LEU    58      -3.797 -21.628  45.044\\nATOM    413  CD1 LEU    58      -2.334 -21.341  44.750\\nATOM    414  CD2 LEU    58      -3.933 -22.812  45.987\\nATOM    415  N   ALA    59      -6.486 -18.130  46.205\\nATOM    416  CA  ALA    59      -6.774 -16.922  46.976\\nATOM    417  C   ALA    59      -8.086 -17.009  47.750\\nATOM    418  O   ALA    59      -8.144 -16.658  48.928\\nATOM    419  CB  ALA    59      -6.771 -15.701  46.072\\nATOM    420  N   ILE    60      -9.138 -17.472  47.083\\nATOM    421  CA  ILE    60     -10.452 -17.575  47.713\\nATOM    422  C   ILE    60     -10.509 -18.638  48.818\\nATOM    423  O   ILE    60     -11.054 -18.383  49.893\\nATOM    424  CB  ILE    60     -11.567 -17.800  46.673\\nATOM    425  CG1 ILE    60     -11.807 -16.512  45.881\\nATOM    426  CG2 ILE    60     -12.846 -18.258  47.353\\nATOM    427  CD1 ILE    60     -12.829 -16.646  44.774\\nATOM    428  N   PRO    61      -9.954 -19.835  48.559\\nATOM    429  CA  PRO    61      -9.851 -20.817  49.645\\nATOM    430  C   PRO    61      -9.028 -20.281  50.817\\nATOM    431  O   PRO    61      -9.351 -20.564  51.973\\nATOM    432  CB  PRO    61      -9.131 -21.994  48.982\\nATOM    433  CG  PRO    61      -9.495 -21.884  47.544\\nATOM    434  CD  PRO    61      -9.564 -20.408  47.259\\nATOM    435  N   PHE    62      -7.981 -19.517  50.522\\nATOM    436  CA  PHE    62      -7.181 -18.891  51.569\\nATOM    437  C   PHE    62      -8.022 -17.905  52.376\\nATOM    438  O   PHE    62      -7.931 -17.856  53.603\\nATOM    439  CB  PHE    62      -5.961 -18.176  50.981\\nATOM    440  CG  PHE    62      -4.856 -19.103  50.554\\nATOM    441  CD1 PHE    62      -4.850 -20.429  50.954\\nATOM    442  CD2 PHE    62      -3.807 -18.638  49.777\\nATOM    443  CE1 PHE    62      -3.829 -21.278  50.568\\nATOM    444  CE2 PHE    62      -2.783 -19.482  49.391\\nATOM    445  CZ  PHE    62      -2.794 -20.803  49.787\\nATOM    446  N   ALA    63      -8.839 -17.122  51.679\\nATOM    447  CA  ALA    63      -9.700 -16.141  52.330\\nATOM    448  C   ALA    63     -10.624 -16.807  53.346\\nATOM    449  O   ALA    63     -10.789 -16.321  54.465\\nATOM    450  CB  ALA    63     -10.512 -15.377  51.293\\nATOM    451  N   ILE    64     -11.220 -17.924  52.948\\nATOM    452  CA  ILE    64     -12.141 -18.655  53.810\\nATOM    453  C   ILE    64     -11.425 -19.250  55.017\\nATOM    454  O   ILE    64     -11.937 -19.216  56.136\\nATOM    455  CB  ILE    64     -12.840 -19.784  53.037\\nATOM    456  CG1 ILE    64     -13.527 -19.221  51.793\\nATOM    457  CG2 ILE    64     -13.838 -20.505  53.933\\nATOM    458  CD1 ILE    64     -14.063 -20.282  50.869\\nATOM    459  N   THR    65     -10.239 -19.800  54.780\\nATOM    460  CA  THR    65      -9.437 -20.399  55.838\\nATOM    461  C   THR    65      -9.094 -19.381  56.918\\nATOM    462  O   THR    65      -9.188 -19.669  58.112\\nATOM    463  CB  THR    65      -8.124 -20.972  55.275\\nATOM    464  CG2 THR    65      -7.259 -21.528  56.394\\nATOM    465  OG1 THR    65      -8.418 -22.016  54.338\\nATOM    466  N   ILE    66      -8.703 -18.187  56.485\\nATOM    467  CA  ILE    66      -8.212 -17.155  57.390\\nATOM    468  C   ILE    66      -9.331 -16.468  58.172\\nATOM    469  O   ILE    66      -9.077 -15.816  59.186\\nATOM    470  CB  ILE    66      -7.388 -16.097  56.624\\nATOM    471  CG1 ILE    66      -6.508 -15.298  57.586\\nATOM    472  CG2 ILE    66      -8.300 -15.178  55.822\\nATOM    473  CD1 ILE    66      -5.644 -14.265  56.900\\nATOM    474  N   SER    67     -10.568 -16.616  57.708\\nATOM    475  CA  SER    67     -11.709 -15.994  58.375\\nATOM    476  C   SER    67     -12.046 -16.690  59.693\\nATOM    477  O   SER    67     -12.965 -16.281  60.404\\nATOM    478  CB  SER    67     -12.936 -15.987  57.459\\nATOM    479  OG  SER    67     -13.478 -17.289  57.319\\nATOM    480  N   THR    68     -11.300 -17.742  60.014\\nATOM    481  CA  THR    68     -11.515 -18.483  61.251\\nATOM    482  C   THR    68     -10.640 -17.944  62.377\\nATOM    483  O   THR    68     -10.957 -18.109  63.555\\nATOM    484  CB  THR    68     -11.219 -19.981  61.070\\nATOM    485  CG2 THR    68     -12.040 -20.551  59.921\\nATOM    486  OG1 THR    68      -9.823 -20.166  60.799\\nATOM    487  N   GLY    69      -9.535 -17.302  62.009\\nATOM    488  CA  GLY    69      -8.605 -16.759  62.984\\nATOM    489  C   GLY    69      -7.849 -17.840  63.734\\nATOM    490  O   GLY    69      -7.484 -17.665  64.897\\nATOM    491  N   PHE    70      -7.608 -18.961  63.061\\nATOM    492  CA  PHE    70      -6.950 -20.108  63.679\\nATOM    493  C   PHE    70      -5.500 -19.809  64.058\\nATOM    494  O   PHE    70      -4.888 -18.877  63.537\\nATOM    495  CB  PHE    70      -6.998 -21.310  62.736\\nATOM    496  CG  PHE    70      -6.149 -21.148  61.510\\nATOM    497  CD1 PHE    70      -6.544 -20.306  60.484\\nATOM    498  CD2 PHE    70      -4.954 -21.837  61.383\\nATOM    499  CE1 PHE    70      -5.762 -20.153  59.354\\nATOM    500  CE2 PHE    70      -4.168 -21.690  60.256\\nATOM    501  CZ  PHE    70      -4.573 -20.846  59.240\\nATOM    502  N   CYX    71      -4.958 -20.610  64.969\\nATOM    503  CA  CYX    71      -3.574 -20.460  65.399\\nATOM    504  C   CYX    71      -2.628 -21.022  64.346\\nATOM    505  O   CYX    71      -2.803 -22.149  63.884\\nATOM    506  CB  CYX    71      -3.345 -21.179  66.730\\nATOM    507  SG  CYX    71      -4.342 -20.570  68.109\\nATOM    508  N   ALA    72      -1.627 -20.234  63.970\\nATOM    509  CA  ALA    72      -0.642 -20.672  62.988\\nATOM    510  C   ALA    72       0.710 -20.010  63.220\\nATOM    511  O   ALA    72       0.801 -18.982  63.895\\nATOM    512  CB  ALA    72      -1.139 -20.382  61.577\\nATOM    513  N   ALA    73       1.757 -20.609  62.662\\nATOM    514  CA  ALA    73       3.077 -20.002  62.684\\nATOM    515  C   ALA    73       3.019 -18.643  61.994\\nATOM    516  O   ALA    73       2.163 -18.409  61.140\\nATOM    517  CB  ALA    73       4.093 -20.910  61.989\\nATOM    518  N   CYX    74       3.922 -17.747  62.375\\nATOM    519  CA  CYX    74       3.908 -16.381  61.858\\nATOM    520  C   CYX    74       3.949 -16.314  60.332\\nATOM    521  O   CYX    74       2.984 -15.896  59.694\\nATOM    522  CB  CYX    74       5.069 -15.577  62.443\\nATOM    523  SG  CYX    74       5.320 -13.972  61.659\\nATOM    524  N   HIE    75       5.070 -16.729  59.753\\nATOM    525  CA  HIE    75       5.288 -16.586  58.317\\nATOM    526  C   HIE    75       4.308 -17.394  57.469\\nATOM    527  O   HIE    75       3.910 -16.960  56.387\\nATOM    528  CB  HIE    75       6.735 -16.929  57.959\\nATOM    529  CG  HIE    75       7.728 -15.934  58.471\\nATOM    530  CD2 HIE    75       8.099 -14.720  57.997\\nATOM    531  ND1 HIE    75       8.456 -16.133  59.625\\nATOM    532  CE1 HIE    75       9.239 -15.091  59.834\\nATOM    533  NE2 HIE    75       9.042 -14.219  58.861\\nATOM    534  N   GLY    76       3.922 -18.566  57.961\\nATOM    535  CA  GLY    76       2.938 -19.382  57.275\\nATOM    536  C   GLY    76       1.598 -18.675  57.206\\nATOM    537  O   GLY    76       0.879 -18.773  56.211\\nATOM    538  N   CYX    77       1.268 -17.957  58.275\\nATOM    539  CA  CYX    77       0.031 -17.190  58.345\\nATOM    540  C   CYX    77       0.065 -16.009  57.379\\nATOM    541  O   CYX    77      -0.958 -15.633  56.806\\nATOM    542  CB  CYX    77      -0.205 -16.692  59.773\\nATOM    543  SG  CYX    77      -1.577 -15.528  59.946\\nATOM    544  N   LEU    78       1.249 -15.431  57.204\\nATOM    545  CA  LEU    78       1.419 -14.275  56.331\\nATOM    546  C   LEU    78       1.251 -14.643  54.861\\nATOM    547  O   LEU    78       0.702 -13.866  54.079\\nATOM    548  CB  LEU    78       2.781 -13.618  56.569\\nATOM    549  CG  LEU    78       2.884 -12.806  57.863\\nATOM    550  CD1 LEU    78       4.330 -12.472  58.188\\nATOM    551  CD2 LEU    78       2.053 -11.538  57.757\\nATOM    552  N   PHE    79       1.719 -15.830  54.488\\nATOM    553  CA  PHE    79       1.585 -16.296  53.114\\nATOM    554  C   PHE    79       0.117 -16.431  52.718\\nATOM    555  O   PHE    79      -0.300 -15.941  51.670\\nATOM    556  CB  PHE    79       2.310 -17.628  52.918\\nATOM    557  CG  PHE    79       2.224 -18.158  51.516\\nATOM    558  CD1 PHE    79       3.085 -17.698  50.533\\nATOM    559  CD2 PHE    79       1.278 -19.110  51.178\\nATOM    560  CE1 PHE    79       3.006 -18.181  49.240\\nATOM    561  CE2 PHE    79       1.194 -19.596  49.887\\nATOM    562  CZ  PHE    79       2.059 -19.131  48.918\\nATOM    563  N   ILE    80      -0.663 -17.100  53.561\\nATOM    564  CA  ILE    80      -2.089 -17.273  53.310\\nATOM    565  C   ILE    80      -2.792 -15.927  53.181\\nATOM    566  O   ILE    80      -3.709 -15.769  52.376\\nATOM    567  CB  ILE    80      -2.765 -18.069  54.441\\nATOM    568  CG1 ILE    80      -2.159 -19.468  54.550\\nATOM    569  CG2 ILE    80      -4.266 -18.156  54.209\\nATOM    570  CD1 ILE    80      -2.812 -20.324  55.613\\nATOM    571  N   ALA    81      -2.354 -14.960  53.979\\nATOM    572  CA  ALA    81      -2.983 -13.645  54.005\\nATOM    573  C   ALA    81      -2.508 -12.747  52.867\\nATOM    574  O   ALA    81      -3.265 -11.915  52.369\\nATOM    575  CB  ALA    81      -2.737 -12.969  55.348\\nATOM    576  N   CYS    82      -1.257 -12.924  52.453\\nATOM    577  CA  CYS    82      -0.634 -12.009  51.500\\nATOM    578  C   CYS    82      -0.597 -12.513  50.058\\nATOM    579  O   CYS    82      -0.364 -11.730  49.137\\nATOM    580  CB  CYS    82       0.783 -11.648  51.955\\nATOM    581  SG  CYS    82       0.851 -10.613  53.436\\nATOM    582  N   PHE    83      -0.820 -13.808  49.856\\nATOM    583  CA  PHE    83      -0.715 -14.380  48.516\\nATOM    584  C   PHE    83      -1.604 -13.658  47.511\\nATOM    585  O   PHE    83      -1.219 -13.464  46.357\\nATOM    586  CB  PHE    83      -1.041 -15.874  48.519\\nATOM    587  CG  PHE    83      -0.966 -16.507  47.158\\nATOM    588  CD1 PHE    83       0.253 -16.663  46.520\\nATOM    589  CD2 PHE    83      -2.114 -16.940  46.513\\nATOM    590  CE1 PHE    83       0.329 -17.238  45.267\\nATOM    591  CE2 PHE    83      -2.045 -17.519  45.260\\nATOM    592  CZ  PHE    83      -0.822 -17.668  44.636\\nATOM    593  N   VAL    84      -2.793 -13.261  47.951\\nATOM    594  CA  VAL    84      -3.729 -12.565  47.078\\nATOM    595  C   VAL    84      -3.149 -11.229  46.613\\nATOM    596  O   VAL    84      -3.468 -10.748  45.525\\nATOM    597  CB  VAL    84      -5.093 -12.343  47.768\\nATOM    598  CG1 VAL    84      -4.959 -11.353  48.920\\nATOM    599  CG2 VAL    84      -6.131 -11.872  46.761\\nATOM    600  N   LEU    85      -2.287 -10.640  47.436\\nATOM    601  CA  LEU    85      -1.637  -9.382  47.087\\nATOM    602  C   LEU    85      -0.692  -9.582  45.907\\nATOM    603  O   LEU    85      -0.505  -8.682  45.088\\nATOM    604  CB  LEU    85      -0.879  -8.810  48.287\\nATOM    605  CG  LEU    85      -1.708  -8.588  49.554\\nATOM    606  CD1 LEU    85      -0.861  -7.963  50.654\\nATOM    607  CD2 LEU    85      -2.926  -7.727  49.256\\nATOM    608  N   VAL    86      -0.098 -10.768  45.828\\nATOM    609  CA  VAL    86       0.746 -11.121  44.694\\nATOM    610  C   VAL    86      -0.075 -11.091  43.411\\nATOM    611  O   VAL    86       0.303 -10.447  42.430\\nATOM    612  CB  VAL    86       1.356 -12.524  44.863\\nATOM    613  CG1 VAL    86       2.124 -12.922  43.612\\nATOM    614  CG2 VAL    86       2.253 -12.571  46.094\\nATOM    615  N   LEU    87      -1.207 -11.787  43.431\\nATOM    616  CA  LEU    87      -2.095 -11.856  42.277\\nATOM    617  C   LEU    87      -2.586 -10.475  41.852\\nATOM    618  O   LEU    87      -2.647 -10.168  40.663\\nATOM    619  CB  LEU    87      -3.288 -12.765  42.580\\nATOM    620  CG  LEU    87      -2.933 -14.195  42.987\\nATOM    621  CD1 LEU    87      -4.185 -15.047  43.113\\nATOM    622  CD2 LEU    87      -1.963 -14.803  41.988\\nATOM    623  N   THR    88      -2.934  -9.646  42.830\\nATOM    624  CA  THR    88      -3.443  -8.310  42.549\\nATOM    625  C   THR    88      -2.389  -7.442  41.864\\nATOM    626  O   THR    88      -2.678  -6.765  40.877\\nATOM    627  CB  THR    88      -3.925  -7.610  43.832\\nATOM    628  CG2 THR    88      -4.695  -6.343  43.491\\nATOM    629  OG1 THR    88      -4.774  -8.497  44.570\\nATOM    630  N   GLN    89      -1.168  -7.469  42.389\\nATOM    631  CA  GLN    89      -0.081  -6.683  41.818\\nATOM    632  C   GLN    89       0.198  -7.093  40.374\\nATOM    633  O   GLN    89       0.394  -6.244  39.506\\nATOM    634  CB  GLN    89       1.189  -6.822  42.660\\nATOM    635  CG  GLN    89       2.188  -5.703  42.432\\nATOM    636  CD  GLN    89       1.597  -4.341  42.740\\nATOM    637  NE2 GLN    89       1.791  -3.390  41.833\\nATOM    638  OE1 GLN    89       0.969  -4.146  43.781\\nATOM    639  N   SER    90       0.216  -8.398  40.126\\nATOM    640  CA  SER    90       0.411  -8.919  38.779\\nATOM    641  C   SER    90      -0.632  -8.344  37.827\\nATOM    642  O   SER    90      -0.308  -7.917  36.717\\nATOM    643  CB  SER    90       0.335 -10.447  38.781\\nATOM    644  OG  SER    90       0.525 -10.968  37.477\\nATOM    645  N   SER    91      -1.886  -8.338  38.270\\nATOM    646  CA  SER    91      -2.982  -7.787  37.481\\nATOM    647  C   SER    91      -2.711  -6.331  37.118\\nATOM    648  O   SER    91      -2.876  -5.926  35.967\\nATOM    649  CB  SER    91      -4.302  -7.897  38.248\\nATOM    650  OG  SER    91      -4.672  -9.251  38.441\\nATOM    651  N   ILE    92      -2.298  -5.549  38.111\\nATOM    652  CA  ILE    92      -1.950  -4.150  37.891\\nATOM    653  C   ILE    92      -0.922  -4.002  36.770\\nATOM    654  O   ILE    92      -1.103  -3.199  35.855\\nATOM    655  CB  ILE    92      -1.411  -3.494  39.178\\nATOM    656  CG1 ILE    92      -2.566  -3.137  40.114\\nATOM    657  CG2 ILE    92      -0.607  -2.248  38.848\\nATOM    658  CD1 ILE    92      -3.536  -2.141  39.518\\nATOM    659  N   PHE    93       0.152  -4.784  36.844\\nATOM    660  CA  PHE    93       1.203  -4.738  35.831\\nATOM    661  C   PHE    93       0.677  -5.106  34.445\\nATOM    662  O   PHE    93       1.081  -4.513  33.444\\nATOM    663  CB  PHE    93       2.370  -5.653  36.210\\nATOM    664  CG  PHE    93       3.192  -5.146  37.362\\nATOM    665  CD1 PHE    93       3.475  -5.965  38.444\\nATOM    666  CD2 PHE    93       3.676  -3.848  37.366\\nATOM    667  CE1 PHE    93       4.231  -5.501  39.505\\nATOM    668  CE2 PHE    93       4.431  -3.377  38.424\\nATOM    669  CZ  PHE    93       4.710  -4.205  39.495\\nATOM    670  N   SER    94      -0.221  -6.085  34.393\\nATOM    671  CA  SER    94      -0.806  -6.519  33.127\\nATOM    672  C   SER    94      -1.677  -5.432  32.502\\nATOM    673  O   SER    94      -1.594  -5.171  31.301\\nATOM    674  CB  SER    94      -1.616  -7.803  33.314\\nATOM    675  OG  SER    94      -0.766  -8.934  33.410\\nATOM    676  N   LEU    95      -2.512  -4.803  33.324\\nATOM    677  CA  LEU    95      -3.386  -3.733  32.857\\nATOM    678  C   LEU    95      -2.576  -2.531  32.383\\nATOM    679  O   LEU    95      -2.923  -1.886  31.395\\nATOM    680  CB  LEU    95      -4.356  -3.312  33.963\\nATOM    681  CG  LEU    95      -5.379  -4.362  34.399\\nATOM    682  CD1 LEU    95      -6.207  -3.852  35.568\\nATOM    683  CD2 LEU    95      -6.276  -4.754  33.232\\nATOM    684  N   LEU    96      -1.494  -2.237  33.095\\nATOM    685  CA  LEU    96      -0.623  -1.121  32.748\\nATOM    686  C   LEU    96       0.064  -1.359  31.404\\nATOM    687  O   LEU    96       0.151  -0.455  30.574\\nATOM    688  CB  LEU    96       0.415  -0.900  33.852\\nATOM    689  CG  LEU    96       1.412   0.251  33.698\\nATOM    690  CD1 LEU    96       0.708   1.547  33.329\\nATOM    691  CD2 LEU    96       2.212   0.426  34.981\\nATOM    692  N   ALA    97       0.541  -2.582  31.194\\nATOM    693  CA  ALA    97       1.225  -2.938  29.955\\nATOM    694  C   ALA    97       0.286  -2.894  28.753\\nATOM    695  O   ALA    97       0.710  -2.599  27.636\\nATOM    696  CB  ALA    97       1.864  -4.311  30.080\\nATOM    697  N   ILE    98      -0.988  -3.194  28.985\\nATOM    698  CA  ILE    98      -1.994  -3.125  27.931\\nATOM    699  C   ILE    98      -2.240  -1.678  27.525\\nATOM    700  O   ILE    98      -2.339  -1.364  26.338\\nATOM    701  CB  ILE    98      -3.324  -3.763  28.374\\nATOM    702  CG1 ILE    98      -3.150  -5.268  28.577\\nATOM    703  CG2 ILE    98      -4.418  -3.489  27.349\\nATOM    704  CD1 ILE    98      -4.388  -5.958  29.102\\nATOM    705  N   ALA    99      -2.336  -0.798  28.517\\nATOM    706  CA  ALA    99      -2.524   0.626  28.265\\nATOM    707  C   ALA    99      -1.404   1.162  27.387\\nATOM    708  O   ALA    99      -1.654   1.764  26.343\\nATOM    709  CB  ALA    99      -2.581   1.398  29.577\\nATOM    710  N   ILE   100      -0.169   0.935  27.821\\nATOM    711  CA  ILE   100       1.008   1.386  27.090\\nATOM    712  C   ILE   100       1.051   0.801  25.681\\nATOM    713  O   ILE   100       1.325   1.512  24.713\\nATOM    714  CB  ILE   100       2.301   1.016  27.839\\nATOM    715  CG1 ILE   100       2.333   1.706  29.206\\nATOM    716  CG2 ILE   100       3.525   1.387  27.013\\nATOM    717  CD1 ILE   100       3.489   1.279  30.082\\nATOM    718  N   ASP   101       0.776  -0.495  25.572\\nATOM    719  CA  ASP   101       0.753  -1.160  24.275\\nATOM    720  C   ASP   101      -0.187  -0.438  23.320\\nATOM    721  O   ASP   101       0.175  -0.148  22.180\\nATOM    722  CB  ASP   101       0.318  -2.619  24.419\\nATOM    723  CG  ASP   101       0.215  -3.329  23.081\\nATOM    724  OD1 ASP   101       1.262  -3.532  22.432\\nATOM    725  OD2 ASP   101      -0.912  -3.686  22.680\\nATOM    726  N   ARG   102      -1.395  -0.151  23.793\\nATOM    727  CA  ARG   102      -2.387   0.529  22.971\\nATOM    728  C   ARG   102      -1.975   1.970  22.694\\nATOM    729  O   ARG   102      -2.400   2.566  21.704\\nATOM    730  CB  ARG   102      -3.765   0.488  23.636\\nATOM    731  CG  ARG   102      -4.398  -0.897  23.693\\nATOM    732  CD  ARG   102      -4.608  -1.477  22.302\\nATOM    733  NE  ARG   102      -3.372  -2.005  21.733\\nATOM    734  CZ  ARG   102      -3.207  -2.306  20.449\\nATOM    735  NH1 ARG   102      -4.202  -2.128  19.591\\nATOM    736  NH2 ARG   102      -2.046  -2.780  20.023\\nATOM    737  N   TYR   103      -1.144   2.524  23.569\\nATOM    738  CA  TYR   103      -0.691   3.900  23.406\\nATOM    739  C   TYR   103       0.229   4.050  22.200\\nATOM    740  O   TYR   103      -0.051   4.825  21.287\\nATOM    741  CB  TYR   103       0.018   4.400  24.666\\nATOM    742  CG  TYR   103       0.537   5.811  24.526\\nATOM    743  CD1 TYR   103      -0.289   6.901  24.768\\nATOM    744  CD2 TYR   103       1.847   6.055  24.138\\nATOM    745  CE1 TYR   103       0.177   8.194  24.635\\nATOM    746  CE2 TYR   103       2.323   7.345  24.002\\nATOM    747  CZ  TYR   103       1.484   8.411  24.253\\nATOM    748  OH  TYR   103       1.952   9.698  24.119\\nATOM    749  N   ILE   104       1.329   3.304  22.201\\nATOM    750  CA  ILE   104       2.311   3.403  21.129\\nATOM    751  C   ILE   104       1.843   2.710  19.852\\nATOM    752  O   ILE   104       2.579   2.642  18.870\\nATOM    753  CB  ILE   104       3.676   2.833  21.557\\nATOM    754  CG1 ILE   104       3.559   1.347  21.893\\nATOM    755  CG2 ILE   104       4.222   3.600  22.750\\nATOM    756  CD1 ILE   104       4.852   0.740  22.390\\nATOM    757  N   ALA   105       0.615   2.202  19.870\\nATOM    758  CA  ALA   105       0.045   1.540  18.702\\nATOM    759  C   ALA   105      -0.940   2.455  17.984\\nATOM    760  O   ALA   105      -1.337   2.190  16.850\\nATOM    761  CB  ALA   105      -0.637   0.242  19.107\\nATOM    762  N   ILE   106      -1.325   3.538  18.650\\nATOM    763  CA  ILE   106      -2.329   4.446  18.108\\nATOM    764  C   ILE   106      -1.768   5.849  17.868\\nATOM    765  O   ILE   106      -2.289   6.601  17.044\\nATOM    766  CB  ILE   106      -3.571   4.510  19.023\\nATOM    767  CG1 ILE   106      -4.165   3.108  19.196\\nATOM    768  CG2 ILE   106      -4.610   5.467  18.459\\nATOM    769  CD1 ILE   106      -5.219   3.009  20.278\\nATOM    770  N   ARG   107      -0.700   6.194  18.579\\nATOM    771  CA  ARG   107      -0.072   7.499  18.407\\nATOM    772  C   ARG   107       1.235   7.376  17.633\\nATOM    773  O   ARG   107       1.663   8.317  16.963\\nATOM    774  CB  ARG   107       0.173   8.169  19.760\\nATOM    775  CG  ARG   107       0.275   9.685  19.680\\nATOM    776  CD  ARG   107       0.731  10.291  20.997\\nATOM    777  NE  ARG   107       2.130   9.988  21.281\\nATOM    778  CZ  ARG   107       3.158  10.628  20.733\\nATOM    779  NH1 ARG   107       2.945  11.608  19.865\\nATOM    780  NH2 ARG   107       4.399  10.287  21.049\\nATOM    781  N   ILE   108       1.868   6.210  17.726\\nATOM    782  CA  ILE   108       3.109   5.944  17.005\\nATOM    783  C   ILE   108       3.048   4.608  16.263\\nATOM    784  O   ILE   108       3.827   3.696  16.558\\nATOM    785  CB  ILE   108       4.317   5.927  17.960\\nATOM    786  CG1 ILE   108       4.179   7.020  19.022\\nATOM    787  CG2 ILE   108       5.617   6.080  17.183\\nATOM    788  CD1 ILE   108       5.235   6.960  20.106\\nATOM    789  N   PRO   109       2.129   4.487  15.294\\nATOM    790  CA  PRO   109       1.911   3.242  14.552\\nATOM    791  C   PRO   109       3.099   2.845  13.678\\nATOM    792  O   PRO   109       3.294   1.655  13.431\\nATOM    793  CB  PRO   109       0.702   3.583  13.663\\nATOM    794  CG  PRO   109       0.777   5.071  13.526\\nATOM    795  CD  PRO   109       1.144   5.505  14.907\\nATOM    796  N   LEU   110       3.883   3.818  13.224\\nATOM    797  CA  LEU   110       4.970   3.547  12.280\\nATOM    798  C   LEU   110       6.059   2.622  12.824\\nATOM    799  O   LEU   110       6.735   1.941  12.053\\nATOM    800  CB  LEU   110       5.585   4.860  11.773\\nATOM    801  CG  LEU   110       4.733   5.587  10.723\\nATOM    802  CD1 LEU   110       5.432   6.856  10.267\\nATOM    803  CD2 LEU   110       4.455   4.660   9.554\\nATOM    804  N   ARG   111       6.225   2.592  14.143\\nATOM    805  CA  ARG   111       7.278   1.784  14.738\\nATOM    806  C   ARG   111       6.756   0.874  15.852\\nATOM    807  O   ARG   111       7.484   0.550  16.787\\nATOM    808  CB  ARG   111       8.402   2.683  15.259\\nATOM    809  CG  ARG   111       9.190   3.384  14.161\\nATOM    810  CD  ARG   111      10.425   4.074  14.715\\nATOM    811  NE  ARG   111      10.089   5.158  15.635\\nATOM    812  CZ  ARG   111       9.812   6.405  15.261\\nATOM    813  NH1 ARG   111       9.827   6.743  13.976\\nATOM    814  NH2 ARG   111       9.517   7.318  16.178\\nATOM    815  N   TYR   112       5.495   0.463  15.747\\nATOM    816  CA  TYR   112       4.880  -0.379  16.774\\nATOM    817  C   TYR   112       5.393  -1.819  16.742\\nATOM    818  O   TYR   112       5.703  -2.396  17.783\\nATOM    819  CB  TYR   112       3.354  -0.367  16.652\\nATOM    820  CG  TYR   112       2.678  -1.427  17.492\\nATOM    821  CD1 TYR   112       2.525  -1.262  18.863\\nATOM    822  CD2 TYR   112       2.196  -2.595  16.916\\nATOM    823  CE1 TYR   112       1.911  -2.229  19.636\\nATOM    824  CE2 TYR   112       1.580  -3.567  17.680\\nATOM    825  CZ  TYR   112       1.440  -3.380  19.039\\nATOM    826  OH  TYR   112       0.826  -4.347  19.803\\nATOM    827  N   ASN   113       5.475  -2.396  15.547\\nATOM    828  CA  ASN   113       5.908  -3.784  15.403\\nATOM    829  C   ASN   113       7.409  -3.970  15.604\\nATOM    830  O   ASN   113       7.868  -5.056  15.957\\nATOM    831  CB  ASN   113       5.476  -4.351  14.050\\nATOM    832  CG  ASN   113       3.996  -4.679  14.003\\nATOM    833  ND2 ASN   113       3.431  -4.699  12.802\\nATOM    834  OD1 ASN   113       3.369  -4.915  15.036\\nATOM    835  N   GLY   114       8.169  -2.904  15.379\\nATOM    836  CA  GLY   114       9.604  -2.939  15.583\\nATOM    837  C   GLY   114       9.975  -2.670  17.029\\nATOM    838  O   GLY   114      11.121  -2.860  17.436\\nATOM    839  N   LEU   115       8.993  -2.228  17.808\\nATOM    840  CA  LEU   115       9.209  -1.911  19.214\\nATOM    841  C   LEU   115       8.552  -2.959  20.110\\nATOM    842  O   LEU   115       9.178  -3.484  21.032\\nATOM    843  CB  LEU   115       8.654  -0.521  19.532\\nATOM    844  CG  LEU   115       9.218   0.198  20.757\\nATOM    845  CD1 LEU   115      10.699   0.477  20.569\\nATOM    846  CD2 LEU   115       8.459   1.490  21.013\\nATOM    847  N   VAL   116       7.288  -3.260  19.828\\nATOM    848  CA  VAL   116       6.538  -4.250  20.592\\nATOM    849  C   VAL   116       6.577  -5.611  19.906\\nATOM    850  O   VAL   116       5.936  -5.813  18.874\\nATOM    851  CB  VAL   116       5.067  -3.827  20.769\\nATOM    852  CG1 VAL   116       4.298  -4.887  21.537\\nATOM    853  CG2 VAL   116       4.982  -2.486  21.475\\nATOM    854  N   THR   117       7.331  -6.541  20.484\\nATOM    855  CA  THR   117       7.450  -7.884  19.926\\nATOM    856  C   THR   117       7.111  -8.947  20.962\\nATOM    857  O   THR   117       7.200  -8.704  22.166\\nATOM    858  CB  THR   117       8.864  -8.148  19.380\\nATOM    859  CG2 THR   117       9.217  -7.132  18.304\\nATOM    860  OG1 THR   117       9.817  -8.065  20.449\\nATOM    861  N   GLY   118       6.722 -10.126  20.484\\nATOM    862  CA  GLY   118       6.357 -11.227  21.356\\nATOM    863  C   GLY   118       7.448 -11.582  22.345\\nATOM    864  O   GLY   118       7.172 -11.866  23.511\\nATOM    865  N   THR   119       8.693 -11.563  21.878\\nATOM    866  CA  THR   119       9.841 -11.877  22.721\\nATOM    867  C   THR   119       9.944 -10.928  23.910\\nATOM    868  O   THR   119      10.164 -11.357  25.043\\nATOM    869  CB  THR   119      11.154 -11.809  21.925\\nATOM    870  CG2 THR   119      12.343 -12.112  22.828\\nATOM    871  OG1 THR   119      11.114 -12.758  20.851\\nATOM    872  N   ARG   120       9.787  -9.636  23.642\\nATOM    873  CA  ARG   120       9.893  -8.621  24.683\\nATOM    874  C   ARG   120       8.710  -8.667  25.645\\nATOM    875  O   ARG   120       8.876  -8.490  26.853\\nATOM    876  CB  ARG   120      10.034  -7.230  24.060\\nATOM    877  CG  ARG   120      11.309  -7.071  23.250\\nATOM    878  CD  ARG   120      11.456  -5.677  22.670\\nATOM    879  NE  ARG   120      12.730  -5.531  21.974\\nATOM    880  CZ  ARG   120      13.078  -4.465  21.261\\nATOM    881  NH1 ARG   120      14.260  -4.424  20.663\\nATOM    882  NH2 ARG   120      12.243  -3.442  21.143\\nATOM    883  N   ALA   121       7.520  -8.909  25.106\\nATOM    884  CA  ALA   121       6.324  -9.029  25.931\\nATOM    885  C   ALA   121       6.516 -10.108  26.991\\nATOM    886  O   ALA   121       6.301  -9.869  28.180\\nATOM    887  CB  ALA   121       5.110  -9.337  25.069\\nATOM    888  N   LYS   122       6.926 -11.295  26.552\\nATOM    889  CA  LYS   122       7.179 -12.405  27.464\\nATOM    890  C   LYS   122       8.228 -12.035  28.508\\nATOM    891  O   LYS   122       8.132 -12.437  29.668\\nATOM    892  CB  LYS   122       7.623 -13.649  26.690\\nATOM    893  CG  LYS   122       6.523 -14.296  25.867\\nATOM    894  CD  LYS   122       7.056 -15.466  25.057\\nATOM    895  CE  LYS   122       5.954 -16.120  24.240\\nATOM    896  NZ  LYS   122       6.467 -17.242  23.405\\nATOM    897  N   GLY   123       9.230 -11.267  28.090\\nATOM    898  CA  GLY   123      10.271 -10.821  28.997\\nATOM    899  C   GLY   123       9.714  -9.933  30.092\\nATOM    900  O   GLY   123       9.964 -10.156  31.277\\nATOM    901  N   ILE   124       8.951  -8.923  29.690\\nATOM    902  CA  ILE   124       8.350  -7.987  30.631\\nATOM    903  C   ILE   124       7.402  -8.692  31.601\\nATOM    904  O   ILE   124       7.356  -8.363  32.787\\nATOM    905  CB  ILE   124       7.594  -6.867  29.890\\nATOM    906  CG1 ILE   124       8.578  -6.008  29.091\\nATOM    907  CG2 ILE   124       6.796  -6.018  30.870\\nATOM    908  CD1 ILE   124       7.918  -5.087  28.085\\nATOM    909  N   ILE   125       6.652  -9.663  31.089\\nATOM    910  CA  ILE   125       5.711 -10.423  31.906\\nATOM    911  C   ILE   125       6.429 -11.197  33.006\\nATOM    912  O   ILE   125       6.041 -11.143  34.173\\nATOM    913  CB  ILE   125       4.889 -11.405  31.050\\nATOM    914  CG1 ILE   125       3.968 -10.635  30.100\\nATOM    915  CG2 ILE   125       4.083 -12.342  31.938\\nATOM    916  CD1 ILE   125       3.402 -11.476  28.975\\nATOM    917  N   ALA   126       7.479 -11.916  32.624\\nATOM    918  CA  ALA   126       8.261 -12.697  33.575\\nATOM    919  C   ALA   126       8.763 -11.818  34.714\\nATOM    920  O   ALA   126       8.674 -12.190  35.884\\nATOM    921  CB  ALA   126       9.428 -13.376  32.872\\nATOM    922  N   ILE   127       9.288 -10.650  34.361\\nATOM    923  CA  ILE   127       9.822  -9.716  35.345\\nATOM    924  C   ILE   127       8.728  -9.206  36.280\\nATOM    925  O   ILE   127       8.937  -9.082  37.487\\nATOM    926  CB  ILE   127      10.510  -8.519  34.661\\nATOM    927  CG1 ILE   127      11.572  -9.010  33.677\\nATOM    928  CG2 ILE   127      11.130  -7.593  35.696\\nATOM    929  CD1 ILE   127      12.282  -7.897  32.940\\nATOM    930  N   CYS   128       7.559  -8.918  35.717\\nATOM    931  CA  CYS   128       6.446  -8.396  36.500\\nATOM    932  C   CYS   128       5.929  -9.405  37.523\\nATOM    933  O   CYS   128       5.450  -9.022  38.589\\nATOM    934  CB  CYS   128       5.312  -7.932  35.585\\nATOM    935  SG  CYS   128       5.681  -6.422  34.666\\nATOM    936  N   TRP   129       6.023 -10.691  37.201\\nATOM    937  CA  TRP   129       5.634 -11.733  38.147\\nATOM    938  C   TRP   129       6.621 -11.815  39.309\\nATOM    939  O   TRP   129       6.234 -12.091  40.444\\nATOM    940  CB  TRP   129       5.504 -13.092  37.453\\nATOM    941  CG  TRP   129       4.171 -13.305  36.794\\nATOM    942  CD1 TRP   129       3.890 -13.210  35.462\\nATOM    943  CD2 TRP   129       2.937 -13.645  37.441\\nATOM    944  CE2 TRP   129       1.953 -13.742  36.438\\nATOM    945  CE3 TRP   129       2.571 -13.878  38.770\\nATOM    946  NE1 TRP   129       2.559 -13.472  35.240\\nATOM    947  CZ2 TRP   129       0.626 -14.061  36.722\\nATOM    948  CZ3 TRP   129       1.252 -14.194  39.051\\nATOM    949  CH2 TRP   129       0.296 -14.283  38.031\\nATOM    950  N   VAL   130       7.896 -11.572  39.022\\nATOM    951  CA  VAL   130       8.919 -11.549  40.059\\nATOM    952  C   VAL   130       8.679 -10.394  41.025\\nATOM    953  O   VAL   130       8.685 -10.579  42.242\\nATOM    954  CB  VAL   130      10.330 -11.417  39.461\\nATOM    955  CG1 VAL   130      11.360 -11.244  40.568\\nATOM    956  CG2 VAL   130      10.656 -12.629  38.604\\nATOM    957  N   LEU   131       8.469  -9.201  40.475\\nATOM    958  CA  LEU   131       8.192  -8.021  41.287\\nATOM    959  C   LEU   131       6.918  -8.208  42.099\\nATOM    960  O   LEU   131       6.829  -7.758  43.240\\nATOM    961  CB  LEU   131       8.063  -6.776  40.407\\nATOM    962  CG  LEU   131       9.301  -6.326  39.633\\nATOM    963  CD1 LEU   131       8.978  -5.100  38.796\\nATOM    964  CD2 LEU   131      10.451  -6.042  40.584\\nATOM    965  N   SER   132       5.933  -8.871  41.501\\nATOM    966  CA  SER   132       4.658  -9.114  42.167\\nATOM    967  C   SER   132       4.842  -9.945  43.435\\nATOM    968  O   SER   132       4.230  -9.663  44.465\\nATOM    969  CB  SER   132       3.675  -9.802  41.217\\nATOM    970  OG  SER   132       3.337  -8.956  40.130\\nATOM    971  N   PHE   133       5.686 -10.969  43.354\\nATOM    972  CA  PHE   133       6.003 -11.781  44.524\\nATOM    973  C   PHE   133       6.777 -10.967  45.557\\nATOM    974  O   PHE   133       6.518 -11.060  46.756\\nATOM    975  CB  PHE   133       6.801 -13.025  44.125\\nATOM    976  CG  PHE   133       5.944 -14.177  43.686\\nATOM    977  CD1 PHE   133       5.632 -14.357  42.348\\nATOM    978  CD2 PHE   133       5.445 -15.078  44.613\\nATOM    979  CE1 PHE   133       4.839 -15.416  41.943\\nATOM    980  CE2 PHE   133       4.651 -16.138  44.216\\nATOM    981  CZ  PHE   133       4.348 -16.307  42.879\\nATOM    982  N   ALA   134       7.726 -10.168  45.079\\nATOM    983  CA  ALA   134       8.536  -9.328  45.953\\nATOM    984  C   ALA   134       7.674  -8.318  46.702\\nATOM    985  O   ALA   134       7.892  -8.057  47.884\\nATOM    986  CB  ALA   134       9.613  -8.614  45.147\\nATOM    987  N   ILE   135       6.693  -7.754  46.006\\nATOM    988  CA  ILE   135       5.815  -6.748  46.591\\nATOM    989  C   ILE   135       4.731  -7.376  47.463\\nATOM    990  O   ILE   135       4.510  -6.950  48.597\\nATOM    991  CB  ILE   135       5.152  -5.881  45.500\\nATOM    992  CG1 ILE   135       6.211  -5.073  44.746\\nATOM    993  CG2 ILE   135       4.104  -4.960  46.108\\nATOM    994  CD1 ILE   135       5.666  -4.310  43.557\\nATOM    995  N   GLY   136       4.060  -8.392  46.931\\nATOM    996  CA  GLY   136       2.968  -9.037  47.638\\nATOM    997  C   GLY   136       3.391  -9.763  48.902\\nATOM    998  O   GLY   136       2.628  -9.840  49.865\\nATOM    999  N   LEU   137       4.608 -10.297  48.902\\nATOM   1000  CA  LEU   137       5.096 -11.071  50.039\\nATOM   1001  C   LEU   137       6.127 -10.304  50.861\\nATOM   1002  O   LEU   137       6.957 -10.903  51.544\\nATOM   1003  CB  LEU   137       5.681 -12.404  49.569\\nATOM   1004  CG  LEU   137       4.679 -13.392  48.968\\nATOM   1005  CD1 LEU   137       5.353 -14.717  48.646\\nATOM   1006  CD2 LEU   137       3.496 -13.597  49.906\\nATOM   1007  N   THR   138       6.067  -8.978  50.794\\nATOM   1008  CA  THR   138       6.975  -8.126  51.558\\nATOM   1009  C   THR   138       6.856  -8.334  53.071\\nATOM   1010  O   THR   138       7.867  -8.362  53.773\\nATOM   1011  CB  THR   138       6.783  -6.631  51.218\\nATOM   1012  CG2 THR   138       7.456  -5.755  52.261\\nATOM   1013  OG1 THR   138       7.358  -6.354  49.935\\nATOM   1014  N   PRO   139       5.620  -8.472  53.582\\nATOM   1015  CA  PRO   139       5.457  -8.731  55.018\\nATOM   1016  C   PRO   139       6.185 -10.000  55.452\\nATOM   1017  O   PRO   139       6.656 -10.084  56.586\\nATOM   1018  CB  PRO   139       3.945  -8.909  55.170\\nATOM   1019  CG  PRO   139       3.364  -8.127  54.046\\nATOM   1020  CD  PRO   139       4.323  -8.300  52.904\\nATOM   1021  N   MET   140       6.272 -10.974  54.551\\nATOM   1022  CA  MET   140       6.982 -12.217  54.829\\nATOM   1023  C   MET   140       8.487 -12.004  54.924\\nATOM   1024  O   MET   140       9.203 -12.822  55.500\\nATOM   1025  CB  MET   140       6.685 -13.262  53.752\\nATOM   1026  CG  MET   140       5.535 -14.193  54.080\\nATOM   1027  SD  MET   140       5.659 -15.729  53.147\\nATOM   1028  CE  MET   140       7.396 -16.107  53.368\\nATOM   1029  N   LEU   141       8.963 -10.904  54.350\\nATOM   1030  CA  LEU   141      10.393 -10.622  54.313\\nATOM   1031  C   LEU   141      10.873  -9.915  55.578\\nATOM   1032  O   LEU   141      12.075  -9.742  55.780\\nATOM   1033  CB  LEU   141      10.743  -9.794  53.073\\nATOM   1034  CG  LEU   141      10.203 -10.324  51.742\\nATOM   1035  CD1 LEU   141      10.617  -9.419  50.593\\nATOM   1036  CD2 LEU   141      10.668 -11.749  51.497\\nATOM   1037  N   GLY   142       9.935  -9.506  56.428\\nATOM   1038  CA  GLY   142      10.290  -8.891  57.696\\nATOM   1039  C   GLY   142       9.340  -7.814  58.186\\nATOM   1040  O   GLY   142       9.326  -7.488  59.374\\nATOM   1041  N   TRP   143       8.546  -7.259  57.275\\nATOM   1042  CA  TRP   143       7.622  -6.181  57.613\\nATOM   1043  C   TRP   143       6.319  -6.726  58.203\\nATOM   1044  O   TRP   143       5.253  -6.584  57.602\\nATOM   1045  CB  TRP   143       7.314  -5.346  56.368\\nATOM   1046  CG  TRP   143       6.819  -3.961  56.662\\nATOM   1047  CD1 TRP   143       6.288  -3.511  57.837\\nATOM   1048  CD2 TRP   143       6.785  -2.851  55.756\\nATOM   1049  CE2 TRP   143       6.233  -1.758  56.453\\nATOM   1050  CE3 TRP   143       7.173  -2.673  54.423\\nATOM   1051  NE1 TRP   143       5.940  -2.186  57.722\\nATOM   1052  CZ2 TRP   143       6.058  -0.506  55.865\\nATOM   1053  CZ3 TRP   143       6.999  -1.429  53.841\\nATOM   1054  CH2 TRP   143       6.446  -0.363  54.561\\nATOM   1055  N   ASN   144       6.403  -7.343  59.379\\nATOM   1056  CA  ASN   144       5.231  -7.962  60.000\\nATOM   1057  C   ASN   144       5.113  -7.717  61.506\\nATOM   1058  O   ASN   144       5.944  -7.030  62.100\\nATOM   1059  CB  ASN   144       5.199  -9.463  59.708\\nATOM   1060  CG  ASN   144       6.464 -10.170  60.150\\nATOM   1061  ND2 ASN   144       6.308 -11.195  60.977\\nATOM   1062  OD1 ASN   144       7.568  -9.803  59.749\\nATOM   1063  N   ASN   145       4.079  -8.295  62.115\\nATOM   1064  CA  ASN   145       3.756  -8.029  63.517\\nATOM   1065  C   ASN   145       3.725  -9.256  64.428\\nATOM   1066  O   ASN   145       3.019  -9.259  65.435\\nATOM   1067  CB  ASN   145       2.407  -7.309  63.620\\nATOM   1068  CG  ASN   145       2.509  -5.829  63.319\\nATOM   1069  ND2 ASN   145       1.367  -5.154  63.286\\nATOM   1070  OD1 ASN   145       3.601  -5.297  63.124\\nATOM   1071  N   CYX   146       4.485 -10.291  64.089\\nATOM   1072  CA  CYX   146       4.487 -11.502  64.906\\nATOM   1073  C   CYX   146       5.882 -11.946  65.346\\nATOM   1074  O   CYX   146       6.025 -12.650  66.344\\nATOM   1075  CB  CYX   146       3.759 -12.645  64.188\\nATOM   1076  SG  CYX   146       3.952 -12.663  62.391\\nATOM   1077  N   GLY   147       6.905 -11.521  64.610\\nATOM   1078  CA  GLY   147       8.267 -11.965  64.858\\nATOM   1079  C   GLY   147       8.875 -11.540  66.189\\nATOM   1080  O   GLY   147      10.058 -11.784  66.440\\nATOM   1081  N   GLN   148       8.079 -10.902  67.044\\nATOM   1082  CA  GLN   148       8.567 -10.430  68.338\\nATOM   1083  C   GLN   148       7.638 -10.822  69.482\\nATOM   1084  O   GLN   148       7.580 -10.132  70.504\\nATOM   1085  CB  GLN   148       8.768  -8.910  68.322\\nATOM   1086  CG  GLN   148       9.661  -8.423  67.187\\nATOM   1087  CD  GLN   148       9.839  -6.918  67.194\\nATOM   1088  NE2 GLN   148      10.546  -6.398  66.192\\nATOM   1089  OE1 GLN   148       9.347  -6.228  68.091\\nATOM   1091  N   SER   156       0.404 -12.289  72.202\\nATOM   1092  CA  SER   156      -0.282 -13.281  71.371\\nATOM   1093  C   SER   156      -0.539 -14.545  72.189\\nATOM   1094  O   SER   156       0.276 -15.461  72.196\\nATOM   1095  CB  SER   156       0.596 -13.645  70.188\\nATOM   1096  OG  SER   156       1.652 -14.476  70.673\\nATOM   1097  N   GLN   157      -1.667 -14.594  72.888\\nATOM   1098  CA  GLN   157      -1.926 -15.727  73.767\\nATOM   1099  C   GLN   157      -3.155 -16.519  73.335\\nATOM   1100  O   GLN   157      -3.948 -16.067  72.517\\nATOM   1101  CB  GLN   157      -2.061 -15.267  75.222\\nATOM   1102  CG  GLN   157      -1.568 -16.284  76.241\\nATOM   1103  CD  GLN   157      -2.217 -16.109  77.595\\nATOM   1104  NE2 GLN   157      -1.399 -16.062  78.640\\nATOM   1105  OE1 GLN   157      -3.440 -16.023  77.703\\nATOM   1106  N   GLY   158      -3.296 -17.713  73.899\\nATOM   1107  CA  GLY   158      -4.361 -18.620  73.510\\nATOM   1108  C   GLY   158      -3.947 -19.530  72.372\\nATOM   1109  O   GLY   158      -4.712 -20.390  71.938\\nATOM   1110  N   CYX   159      -2.720 -19.346  71.894\\nATOM   1111  CA  CYX   159      -2.212 -20.099  70.749\\nATOM   1112  C   CYX   159      -0.913 -20.843  71.049\\nATOM   1113  O   CYX   159      -0.459 -21.661  70.245\\nATOM   1114  CB  CYX   159      -2.004 -19.174  69.545\\nATOM   1115  SG  CYX   159      -3.513 -18.788  68.628\\nATOM   1116  N   GLY   160      -0.317 -20.564  72.203\\nATOM   1117  CA  GLY   160       0.970 -21.143  72.543\\nATOM   1118  C   GLY   160       2.084 -20.457  71.774\\nATOM   1119  O   GLY   160       1.859 -19.944  70.680\\nATOM   1120  N   GLU   161       3.286 -20.445  72.340\\nATOM   1121  CA  GLU   161       4.407 -19.747  71.717\\nATOM   1122  C   GLU   161       4.747 -20.351  70.356\\nATOM   1123  O   GLU   161       4.569 -21.549  70.135\\nATOM   1124  CB  GLU   161       5.636 -19.772  72.630\\nATOM   1125  CG  GLU   161       6.546 -20.964  72.411\\nATOM   1126  CD  GLU   161       7.555 -20.737  71.297\\nATOM   1127  OE1 GLU   161       7.966 -21.727  70.655\\nATOM   1128  OE2 GLU   161       7.935 -19.569  71.062\\nATOM   1129  N   GLY   162       5.239 -19.513  69.449\\nATOM   1130  CA  GLY   162       5.580 -19.956  68.110\\nATOM   1131  C   GLY   162       4.385 -19.899  67.179\\nATOM   1132  O   GLY   162       4.497 -20.193  65.989\\nATOM   1133  N   GLN   163       3.235 -19.521  67.729\\nATOM   1134  CA  GLN   163       2.011 -19.408  66.949\\nATOM   1135  C   GLN   163       1.238 -18.150  67.316\\nATOM   1136  O   GLN   163       1.364 -17.629  68.423\\nATOM   1137  CB  GLN   163       1.124 -20.639  67.149\\nATOM   1138  CG  GLN   163       1.701 -21.921  66.569\\nATOM   1139  CD  GLN   163       0.712 -23.067  66.591\\nATOM   1140  NE2 GLN   163       1.131 -24.219  66.083\\nATOM   1141  OE1 GLN   163      -0.417 -22.920  67.058\\nATOM   1142  N   VAL   164       0.441 -17.666  66.371\\nATOM   1143  CA  VAL   164      -0.407 -16.505  66.599\\nATOM   1144  C   VAL   164      -1.750 -16.717  65.915\\nATOM   1145  O   VAL   164      -1.836 -17.431  64.911\\nATOM   1146  CB  VAL   164       0.248 -15.213  66.062\\nATOM   1147  CG1 VAL   164       1.561 -14.941  66.784\\nATOM   1148  CG2 VAL   164       0.472 -15.312  64.562\\nATOM   1149  N   ALA   165      -2.797 -16.118  66.470\\nATOM   1150  CA  ALA   165      -4.095 -16.130  65.820\\nATOM   1151  C   ALA   165      -3.971 -15.429  64.470\\nATOM   1152  O   ALA   165      -3.533 -14.280  64.394\\nATOM   1153  CB  ALA   165      -5.130 -15.433  66.691\\nATOM   1154  N   CYX   166      -4.338 -16.132  63.405\\nATOM   1155  CA  CYX   166      -4.200 -15.593  62.058\\nATOM   1156  C   CYX   166      -5.343 -14.641  61.704\\nATOM   1157  O   CYX   166      -6.267 -15.006  60.974\\nATOM   1158  CB  CYX   166      -4.111 -16.722  61.027\\nATOM   1159  SG  CYX   166      -3.427 -16.200  59.438\\nATOM   1160  N   LEU   167      -5.277 -13.425  62.239\\nATOM   1161  CA  LEU   167      -6.210 -12.364  61.866\\nATOM   1162  C   LEU   167      -5.485 -11.335  61.004\\nATOM   1163  O   LEU   167      -4.439 -10.812  61.395\\nATOM   1164  CB  LEU   167      -6.805 -11.687  63.105\\nATOM   1165  CG  LEU   167      -7.879 -12.449  63.888\\nATOM   1166  CD1 LEU   167      -8.728 -13.298  62.950\\nATOM   1167  CD2 LEU   167      -7.272 -13.293  64.998\\nATOM   1168  N   PHE   168      -6.043 -11.050  59.832\\nATOM   1169  CA  PHE   168      -5.392 -10.180  58.855\\nATOM   1170  C   PHE   168      -4.815  -8.905  59.469\\nATOM   1171  O   PHE   168      -3.625  -8.626  59.329\\nATOM   1172  CB  PHE   168      -6.361  -9.824  57.722\\nATOM   1173  CG  PHE   168      -5.702  -9.158  56.547\\nATOM   1174  CD1 PHE   168      -5.178  -9.912  55.511\\nATOM   1175  CD2 PHE   168      -5.604  -7.778  56.481\\nATOM   1176  CE1 PHE   168      -4.570  -9.303  54.430\\nATOM   1177  CE2 PHE   168      -4.999  -7.164  55.403\\nATOM   1178  CZ  PHE   168      -4.481  -7.928  54.376\\nATOM   1179  N   GLU   169      -5.658  -8.138  60.152\\nATOM   1180  CA  GLU   169      -5.236  -6.854  60.705\\nATOM   1181  C   GLU   169      -4.296  -7.006  61.901\\nATOM   1182  O   GLU   169      -3.751  -6.020  62.401\\nATOM   1183  CB  GLU   169      -6.452  -6.003  61.084\\nATOM   1184  CG  GLU   169      -7.340  -5.634  59.902\\nATOM   1185  CD  GLU   169      -8.281  -4.483  60.211\\nATOM   1186  OE1 GLU   169      -8.210  -3.933  61.331\\nATOM   1187  OE2 GLU   169      -9.091  -4.125  59.330\\nATOM   1188  N   ASP   170      -4.105  -8.242  62.351\\nATOM   1189  CA  ASP   170      -3.244  -8.516  63.497\\nATOM   1190  C   ASP   170      -1.823  -8.886  63.083\\nATOM   1191  O   ASP   170      -0.885  -8.737  63.865\\nATOM   1192  CB  ASP   170      -3.835  -9.636  64.356\\nATOM   1193  CG  ASP   170      -5.020  -9.178  65.178\\nATOM   1194  OD1 ASP   170      -5.343  -7.972  65.141\\nATOM   1195  OD2 ASP   170      -5.627 -10.025  65.866\\nATOM   1196  N   VAL   171      -1.667  -9.373  61.856\\nATOM   1197  CA  VAL   171      -0.364  -9.830  61.386\\nATOM   1198  C   VAL   171       0.179  -8.978  60.242\\nATOM   1199  O   VAL   171       1.393  -8.847  60.080\\nATOM   1200  CB  VAL   171      -0.404 -11.312  60.954\\nATOM   1201  CG1 VAL   171      -0.679 -12.205  62.152\\nATOM   1202  CG2 VAL   171      -1.452 -11.527  59.872\\nATOM   1203  N   VAL   172      -0.722  -8.402  59.452\\nATOM   1204  CA  VAL   172      -0.325  -7.558  58.330\\nATOM   1205  C   VAL   172      -0.389  -6.081  58.704\\nATOM   1206  O   VAL   172      -1.473  -5.528  58.879\\nATOM   1207  CB  VAL   172      -1.216  -7.800  57.096\\nATOM   1208  CG1 VAL   172      -0.686  -7.023  55.898\\nATOM   1209  CG2 VAL   172      -1.296  -9.288  56.781\\nATOM   1210  N   PRO   173       0.783  -5.438  58.826\\nATOM   1211  CA  PRO   173       0.900  -4.022  59.193\\nATOM   1212  C   PRO   173       0.084  -3.110  58.278\\nATOM   1213  O   PRO   173       0.177  -3.217  57.055\\nATOM   1214  CB  PRO   173       2.394  -3.740  59.014\\nATOM   1215  CG  PRO   173       3.049  -5.061  59.201\\nATOM   1216  CD  PRO   173       2.099  -6.068  58.626\\nATOM   1217  N   MET   174      -0.700  -2.215  58.873\\nATOM   1218  CA  MET   174      -1.556  -1.314  58.107\\nATOM   1219  C   MET   174      -0.770  -0.258  57.339\\nATOM   1220  O   MET   174      -1.190   0.171  56.264\\nATOM   1221  CB  MET   174      -2.594  -0.649  59.010\\nATOM   1222  CG  MET   174      -3.827  -1.503  59.263\\nATOM   1223  SD  MET   174      -4.686  -1.938  57.736\\nATOM   1224  CE  MET   174      -4.860  -0.325  56.985\\nATOM   1225  N   ASN   175       0.364   0.165  57.887\\nATOM   1226  CA  ASN   175       1.216   1.123  57.191\\nATOM   1227  C   ASN   175       1.737   0.544  55.877\\nATOM   1228  O   ASN   175       2.000   1.275  54.922\\nATOM   1229  CB  ASN   175       2.368   1.605  58.082\\nATOM   1230  CG  ASN   175       3.259   0.473  58.556\\nATOM   1231  ND2 ASN   175       4.440   0.822  59.054\\nATOM   1232  OD1 ASN   175       2.891  -0.698  58.481\\nATOM   1233  N   TYR   176       1.873  -0.777  55.835\\nATOM   1234  CA  TYR   176       2.216  -1.469  54.602\\nATOM   1235  C   TYR   176       1.033  -1.439  53.639\\nATOM   1236  O   TYR   176       1.189  -1.150  52.453\\nATOM   1237  CB  TYR   176       2.610  -2.921  54.889\\nATOM   1238  CG  TYR   176       2.598  -3.802  53.658\\nATOM   1239  CD1 TYR   176       1.463  -4.523  53.307\\nATOM   1240  CD2 TYR   176       3.717  -3.905  52.842\\nATOM   1241  CE1 TYR   176       1.445  -5.323  52.181\\nATOM   1242  CE2 TYR   176       3.709  -4.703  51.715\\nATOM   1243  CZ  TYR   176       2.571  -5.410  51.389\\nATOM   1244  OH  TYR   176       2.558  -6.206  50.267\\nATOM   1245  N   MET   177      -0.151  -1.738  54.165\\nATOM   1246  CA  MET   177      -1.358  -1.824  53.351\\nATOM   1247  C   MET   177      -1.750  -0.485  52.736\\nATOM   1248  O   MET   177      -2.261  -0.434  51.618\\nATOM   1249  CB  MET   177      -2.520  -2.380  54.177\\nATOM   1250  CG  MET   177      -2.387  -3.855  54.509\\nATOM   1251  SD  MET   177      -2.208  -4.878  53.030\\nATOM   1252  CE  MET   177      -3.760  -4.553  52.203\\nATOM   1253  N   VAL   178      -1.508   0.596  53.469\\nATOM   1254  CA  VAL   178      -1.914   1.923  53.020\\nATOM   1255  C   VAL   178      -0.839   2.623  52.191\\nATOM   1256  O   VAL   178      -1.091   3.040  51.062\\nATOM   1257  CB  VAL   178      -2.308   2.819  54.208\\nATOM   1258  CG1 VAL   178      -2.574   4.239  53.733\\nATOM   1259  CG2 VAL   178      -3.529   2.248  54.914\\nATOM   1260  N   TYR   179       0.359   2.747  52.755\\nATOM   1261  CA  TYR   179       1.442   3.465  52.089\\nATOM   1262  C   TYR   179       2.035   2.699  50.912\\nATOM   1263  O   TYR   179       2.060   3.195  49.787\\nATOM   1264  CB  TYR   179       2.547   3.822  53.085\\nATOM   1265  CG  TYR   179       2.148   4.896  54.067\\nATOM   1266  CD1 TYR   179       2.201   4.669  55.435\\nATOM   1267  CD2 TYR   179       1.705   6.135  53.624\\nATOM   1268  CE1 TYR   179       1.833   5.650  56.336\\nATOM   1269  CE2 TYR   179       1.334   7.119  54.515\\nATOM   1270  CZ  TYR   179       1.400   6.873  55.869\\nATOM   1271  OH  TYR   179       1.029   7.854  56.755\\nATOM   1272  N   PHE   180       2.517   1.490  51.176\\nATOM   1273  CA  PHE   180       3.219   0.722  50.155\\nATOM   1274  C   PHE   180       2.264   0.072  49.157\\nATOM   1275  O   PHE   180       2.359   0.307  47.953\\nATOM   1276  CB  PHE   180       4.126  -0.329  50.798\\nATOM   1277  CG  PHE   180       5.168  -0.875  49.869\\nATOM   1278  CD1 PHE   180       6.067  -0.027  49.245\\nATOM   1279  CD2 PHE   180       5.254  -2.234  49.621\\nATOM   1280  CE1 PHE   180       7.030  -0.524  48.387\\nATOM   1281  CE2 PHE   180       6.217  -2.738  48.765\\nATOM   1282  CZ  PHE   180       7.105  -1.881  48.148\\nATOM   1283  N   ASN   181       1.342  -0.741  49.660\\nATOM   1284  CA  ASN   181       0.401  -1.434  48.792\\nATOM   1285  C   ASN   181      -0.528  -0.479  48.051\\nATOM   1286  O   ASN   181      -0.493  -0.397  46.825\\nATOM   1287  CB  ASN   181      -0.412  -2.465  49.578\\nATOM   1288  CG  ASN   181      -1.188  -3.404  48.675\\nATOM   1289  ND2 ASN   181      -0.688  -4.626  48.525\\nATOM   1290  OD1 ASN   181      -2.225  -3.038  48.120\\nATOM   1291  N   PHE   182      -1.355   0.248  48.795\\nATOM   1292  CA  PHE   182      -2.356   1.106  48.172\\nATOM   1293  C   PHE   182      -1.764   2.290  47.404\\nATOM   1294  O   PHE   182      -1.845   2.338  46.178\\nATOM   1295  CB  PHE   182      -3.385   1.593  49.195\\nATOM   1296  CG  PHE   182      -4.462   2.457  48.598\\nATOM   1297  CD1 PHE   182      -5.027   2.133  47.374\\nATOM   1298  CD2 PHE   182      -4.915   3.585  49.260\\nATOM   1299  CE1 PHE   182      -6.016   2.922  46.819\\nATOM   1300  CE2 PHE   182      -5.906   4.378  48.710\\nATOM   1301  CZ  PHE   182      -6.458   4.045  47.488\\nATOM   1302  N   PHE   183      -1.170   3.238  48.121\\nATOM   1303  CA  PHE   183      -0.698   4.473  47.496\\nATOM   1304  C   PHE   183       0.335   4.250  46.393\\nATOM   1305  O   PHE   183       0.170   4.735  45.274\\nATOM   1306  CB  PHE   183      -0.140   5.445  48.543\\nATOM   1307  CG  PHE   183      -1.187   6.043  49.439\\nATOM   1308  CD1 PHE   183      -2.462   6.300  48.963\\nATOM   1309  CD2 PHE   183      -0.890   6.366  50.753\\nATOM   1310  CE1 PHE   183      -3.427   6.855  49.785\\nATOM   1311  CE2 PHE   183      -1.850   6.923  51.578\\nATOM   1312  CZ  PHE   183      -3.119   7.167  51.093\\nATOM   1313  N   ALA   184       1.394   3.514  46.709\\nATOM   1314  CA  ALA   184       2.518   3.367  45.789\\nATOM   1315  C   ALA   184       2.287   2.334  44.686\\nATOM   1316  O   ALA   184       2.670   2.550  43.536\\nATOM   1317  CB  ALA   184       3.791   3.040  46.561\\nATOM   1318  N   CYS   185       1.661   1.215  45.036\\nATOM   1319  CA  CYS   185       1.569   0.082  44.118\\nATOM   1320  C   CYS   185       0.235  -0.043  43.378\\nATOM   1321  O   CYS   185       0.155  -0.719  42.352\\nATOM   1322  CB  CYS   185       1.891  -1.221  44.855\\nATOM   1323  SG  CYS   185       3.576  -1.303  45.509\\nATOM   1324  N   VAL   186      -0.806   0.605  43.889\\nATOM   1325  CA  VAL   186      -2.122   0.523  43.263\\nATOM   1326  C   VAL   186      -2.606   1.877  42.747\\nATOM   1327  O   VAL   186      -2.959   2.017  41.575\\nATOM   1328  CB  VAL   186      -3.173  -0.054  44.231\\nATOM   1329  CG1 VAL   186      -4.548  -0.076  43.574\\nATOM   1330  CG2 VAL   186      -2.766  -1.448  44.683\\nATOM   1331  N   LEU   187      -2.618   2.869  43.629\\nATOM   1332  CA  LEU   187      -3.128   4.194  43.294\\nATOM   1333  C   LEU   187      -2.351   4.839  42.146\\nATOM   1334  O   LEU   187      -2.945   5.354  41.197\\nATOM   1335  CB  LEU   187      -3.109   5.097  44.531\\nATOM   1336  CG  LEU   187      -3.723   6.494  44.406\\nATOM   1337  CD1 LEU   187      -5.079   6.436  43.722\\nATOM   1338  CD2 LEU   187      -3.839   7.147  45.775\\nATOM   1339  N   VAL   188      -1.025   4.802  42.234\\nATOM   1340  CA  VAL   188      -0.168   5.419  41.224\\nATOM   1341  C   VAL   188      -0.351   4.819  39.825\\nATOM   1342  O   VAL   188      -0.502   5.556  38.851\\nATOM   1343  CB  VAL   188       1.322   5.376  41.633\\nATOM   1344  CG1 VAL   188       2.210   5.755  40.458\\nATOM   1345  CG2 VAL   188       1.571   6.297  42.818\\nATOM   1346  N   PRO   189      -0.329   3.479  39.718\\nATOM   1347  CA  PRO   189      -0.566   2.835  38.421\\nATOM   1348  C   PRO   189      -1.943   3.153  37.838\\nATOM   1349  O   PRO   189      -2.050   3.392  36.636\\nATOM   1350  CB  PRO   189      -0.467   1.343  38.750\\nATOM   1351  CG  PRO   189       0.411   1.285  39.947\\nATOM   1352  CD  PRO   189       0.064   2.502  40.749\\nATOM   1353  N   LEU   190      -2.976   3.153  38.676\\nATOM   1354  CA  LEU   190      -4.333   3.444  38.216\\nATOM   1355  C   LEU   190      -4.454   4.841  37.610\\nATOM   1356  O   LEU   190      -5.047   5.013  36.546\\nATOM   1357  CB  LEU   190      -5.345   3.273  39.352\\nATOM   1358  CG  LEU   190      -5.760   1.839  39.684\\nATOM   1359  CD1 LEU   190      -6.728   1.818  40.858\\nATOM   1360  CD2 LEU   190      -6.377   1.164  38.467\\nATOM   1361  N   LEU   191      -3.897   5.836  38.293\\nATOM   1362  CA  LEU   191      -3.911   7.204  37.783\\nATOM   1363  C   LEU   191      -3.065   7.314  36.521\\nATOM   1364  O   LEU   191      -3.392   8.068  35.603\\nATOM   1365  CB  LEU   191      -3.414   8.188  38.844\\nATOM   1366  CG  LEU   191      -4.337   8.405  40.047\\nATOM   1367  CD1 LEU   191      -3.940   9.659  40.809\\nATOM   1368  CD2 LEU   191      -5.794   8.478  39.608\\nATOM   1369  N   LEU   192      -1.975   6.555  36.483\\nATOM   1370  CA  LEU   192      -1.107   6.519  35.315\\nATOM   1371  C   LEU   192      -1.847   5.907  34.130\\nATOM   1372  O   LEU   192      -1.710   6.367  32.998\\nATOM   1373  CB  LEU   192       0.163   5.724  35.617\\nATOM   1374  CG  LEU   192       1.253   5.763  34.547\\nATOM   1375  CD1 LEU   192       1.642   7.200  34.240\\nATOM   1376  CD2 LEU   192       2.466   4.959  34.992\\nATOM   1377  N   MET   193      -2.634   4.870  34.401\\nATOM   1378  CA  MET   193      -3.447   4.235  33.369\\nATOM   1379  C   MET   193      -4.597   5.137  32.935\\nATOM   1380  O   MET   193      -5.082   5.041  31.808\\nATOM   1381  CB  MET   193      -3.987   2.888  33.854\\nATOM   1382  CG  MET   193      -2.996   1.744  33.719\\nATOM   1383  SD  MET   193      -3.674   0.150  34.221\\nATOM   1384  CE  MET   193      -3.505   0.246  36.002\\nATOM   1385  N   LEU   194      -5.032   6.011  33.835\\nATOM   1386  CA  LEU   194      -6.098   6.952  33.522\\nATOM   1387  C   LEU   194      -5.593   8.018  32.560\\nATOM   1388  O   LEU   194      -6.285   8.394  31.614\\nATOM   1389  CB  LEU   194      -6.639   7.600  34.797\\nATOM   1390  CG  LEU   194      -7.751   8.635  34.613\\nATOM   1391  CD1 LEU   194      -8.880   8.074  33.760\\nATOM   1392  CD2 LEU   194      -8.278   9.100  35.963\\nATOM   1393  N   GLY   195      -4.379   8.499  32.806\\nATOM   1394  CA  GLY   195      -3.775   9.507  31.956\\nATOM   1395  C   GLY   195      -3.492   8.991  30.559\\nATOM   1396  O   GLY   195      -3.694   9.698  29.572\\nATOM   1397  N   VAL   196      -3.024   7.750  30.474\\nATOM   1398  CA  VAL   196      -2.691   7.143  29.190\\nATOM   1399  C   VAL   196      -3.923   6.951  28.310\\nATOM   1400  O   VAL   196      -3.912   7.306  27.131\\nATOM   1401  CB  VAL   196      -1.985   5.787  29.369\\nATOM   1402  CG1 VAL   196      -1.747   5.134  28.018\\nATOM   1403  CG2 VAL   196      -0.677   5.969  30.120\\nATOM   1404  N   TYR   197      -4.981   6.386  28.882\\nATOM   1405  CA  TYR   197      -6.213   6.167  28.133\\nATOM   1406  C   TYR   197      -6.853   7.482  27.710\\nATOM   1407  O   TYR   197      -7.323   7.614  26.580\\nATOM   1408  CB  TYR   197      -7.203   5.313  28.930\\nATOM   1409  CG  TYR   197      -7.000   3.826  28.738\\nATOM   1410  CD1 TYR   197      -7.207   3.234  27.497\\nATOM   1411  CD2 TYR   197      -6.603   3.014  29.793\\nATOM   1412  CE1 TYR   197      -7.022   1.876  27.312\\nATOM   1413  CE2 TYR   197      -6.416   1.654  29.616\\nATOM   1414  CZ  TYR   197      -6.627   1.091  28.373\\nATOM   1415  OH  TYR   197      -6.444  -0.260  28.190\\nATOM   1416  N   LEU   198      -6.864   8.454  28.616\\nATOM   1417  CA  LEU   198      -7.392   9.774  28.300\\nATOM   1418  C   LEU   198      -6.676  10.381  27.098\\nATOM   1419  O   LEU   198      -7.308  10.977  26.227\\nATOM   1420  CB  LEU   198      -7.288  10.707  29.507\\nATOM   1421  CG  LEU   198      -8.371  10.534  30.574\\nATOM   1422  CD1 LEU   198      -8.174  11.528  31.710\\nATOM   1423  CD2 LEU   198      -9.756  10.684  29.958\\nATOM   1424  N   ARG   199      -5.356  10.224  27.053\\nATOM   1425  CA  ARG   199      -4.567  10.746  25.941\\nATOM   1426  C   ARG   199      -4.863   9.997  24.641\\nATOM   1427  O   ARG   199      -4.855  10.585  23.559\\nATOM   1428  CB  ARG   199      -3.071  10.697  26.262\\nATOM   1429  CG  ARG   199      -2.198  11.282  25.165\\nATOM   1430  CD  ARG   199      -0.813  11.638  25.674\\nATOM   1431  NE  ARG   199      -0.037  12.348  24.661\\nATOM   1432  CZ  ARG   199       1.160  12.885  24.875\\nATOM   1433  NH1 ARG   199       1.724  12.796  26.072\\nATOM   1434  NH2 ARG   199       1.793  13.512  23.892\\nATOM   1435  N   ILE   200      -5.127   8.700  24.753\\nATOM   1436  CA  ILE   200      -5.502   7.903  23.592\\nATOM   1437  C   ILE   200      -6.825   8.399  23.014\\nATOM   1438  O   ILE   200      -6.962   8.566  21.802\\nATOM   1439  CB  ILE   200      -5.626   6.408  23.946\\nATOM   1440  CG1 ILE   200      -4.259   5.829  24.317\\nATOM   1441  CG2 ILE   200      -6.231   5.631  22.786\\nATOM   1442  CD1 ILE   200      -4.312   4.385  24.772\\nATOM   1443  N   PHE   201      -7.793   8.643  23.893\\nATOM   1444  CA  PHE   201      -9.119   9.085  23.472\\nATOM   1445  C   PHE   201      -9.089  10.482  22.858\\nATOM   1446  O   PHE   201      -9.659  10.712  21.792\\nATOM   1447  CB  PHE   201     -10.101   9.048  24.646\\nATOM   1448  CG  PHE   201     -10.261   7.687  25.260\\nATOM   1449  CD1 PHE   201     -10.304   7.531  26.636\\nATOM   1450  CD2 PHE   201     -10.360   6.560  24.461\\nATOM   1451  CE1 PHE   201     -10.450   6.279  27.203\\nATOM   1452  CE2 PHE   201     -10.505   5.305  25.021\\nATOM   1453  CZ  PHE   201     -10.549   5.165  26.394\\nATOM   1454  N   LEU   202      -8.424  11.411  23.536\\nATOM   1455  CA  LEU   202      -8.326  12.787  23.059\\nATOM   1456  C   LEU   202      -7.702  12.854  21.668\\nATOM   1457  O   LEU   202      -7.996  13.761  20.890\\nATOM   1458  CB  LEU   202      -7.519  13.639  24.043\\nATOM   1459  CG  LEU   202      -8.162  13.865  25.414\\nATOM   1460  CD1 LEU   202      -7.183  14.521  26.378\\nATOM   1461  CD2 LEU   202      -9.426  14.699  25.278\\nATOM   1462  N   ALA   203      -6.844  11.886  21.360\\nATOM   1463  CA  ALA   203      -6.160  11.848  20.073\\nATOM   1464  C   ALA   203      -7.101  11.433  18.945\\nATOM   1465  O   ALA   203      -6.902  11.807  17.790\\nATOM   1466  CB  ALA   203      -4.958  10.915  20.137\\nATOM   1467  N   ALA   204      -8.126  10.659  19.285\\nATOM   1468  CA  ALA   204      -9.109  10.219  18.302\\nATOM   1469  C   ALA   204     -10.167  11.292  18.085\\nATOM   1470  O   ALA   204     -11.004  11.184  17.188\\nATOM   1471  CB  ALA   204      -9.756   8.917  18.742\\nATOM   1472  N   ARG   205     -10.123  12.327  18.916\\nATOM   1473  CA  ARG   205     -11.076  13.424  18.825\\nATOM   1474  C   ARG   205     -10.382  14.705  18.383\\nATOM   1475  O   ARG   205     -10.940  15.795  18.497\\nATOM   1476  CB  ARG   205     -11.773  13.633  20.170\\nATOM   1477  CG  ARG   205     -12.585  12.434  20.629\\nATOM   1478  CD  ARG   205     -13.927  12.370  19.918\\nATOM   1479  NE  ARG   205     -14.907  13.251  20.545\\nATOM   1480  CZ  ARG   205     -15.865  12.835  21.367\\nATOM   1481  NH1 ARG   205     -15.983  11.545  21.652\\nATOM   1482  NH2 ARG   205     -16.712  13.707  21.897\\nATOM   1483  N   ARG   206      -9.161  14.566  17.875\\nATOM   1484  CA  ARG   206      -8.394  15.716  17.415\\nATOM   1485  C   ARG   206      -9.059  16.364  16.204\\nATOM   1486  O   ARG   206      -9.722  15.694  15.413\\nATOM   1487  CB  ARG   206      -6.960  15.308  17.072\\nATOM   1488  CG  ARG   206      -6.839  14.476  15.807\\nATOM   1489  CD  ARG   206      -5.397  14.393  15.337\\nATOM   1490  NE  ARG   206      -4.572  13.595  16.237\\nATOM   1491  CZ  ARG   206      -4.200  12.343  15.993\\nATOM   1492  NH1 ARG   206      -3.448  11.689  16.868\\nATOM   1493  NH2 ARG   206      -4.578  11.745  14.871\\nATOM   1494  N   GLN   207      -8.875  17.673  16.070\\nATOM   1495  CA  GLN   207      -9.440  18.427  14.957\\nATOM   1496  C   GLN   207      -8.716  18.092  13.656\\nATOM   1497  O   GLN   207      -7.486  18.114  13.599\\nATOM   1498  CB  GLN   207      -9.346  19.924  15.246\\nATOM   1499  CG  GLN   207     -10.010  20.811  14.215\\nATOM   1500  CD  GLN   207      -9.989  22.270  14.622\\nATOM   1501  NE2 GLN   207     -10.826  23.076  13.982\\nATOM   1502  OE1 GLN   207      -9.229  22.667  15.506\\nATOM   1503  N   LEU   208      -9.480  17.785  12.613\\nATOM   1504  CA  LEU   208      -8.898  17.347  11.347\\nATOM   1505  C   LEU   208      -8.603  18.497  10.386\\nATOM   1506  O   LEU   208      -9.305  19.509  10.368\\nATOM   1507  CB  LEU   208      -9.789  16.301  10.668\\nATOM   1508  CG  LEU   208      -9.887  14.946  11.375\\nATOM   1509  CD1 LEU   208     -10.804  14.004  10.617\\nATOM   1510  CD2 LEU   208      -8.509  14.326  11.545\\nATOM   1512  N   ARG   222     -11.775  10.677   9.647\\nATOM   1513  CA  ARG   222     -12.290  10.630  11.008\\nATOM   1514  C   ARG   222     -12.676   9.199  11.369\\nATOM   1515  O   ARG   222     -12.618   8.803  12.533\\nATOM   1516  CB  ARG   222     -13.496  11.559  11.158\\nATOM   1517  CG  ARG   222     -13.821  11.937  12.594\\nATOM   1518  CD  ARG   222     -14.998  12.896  12.650\\nATOM   1519  NE  ARG   222     -14.928  13.901  11.592\\nATOM   1520  CZ  ARG   222     -14.362  15.094  11.731\\nATOM   1521  NH1 ARG   222     -14.343  15.944  10.714\\nATOM   1522  NH2 ARG   222     -13.814  15.439  12.887\\nATOM   1523  N   SER   223     -13.067   8.427  10.359\\nATOM   1524  CA  SER   223     -13.426   7.025  10.553\\nATOM   1525  C   SER   223     -12.208   6.202  10.949\\nATOM   1526  O   SER   223     -12.293   5.325  11.807\\nATOM   1527  CB  SER   223     -14.053   6.445   9.283\\nATOM   1528  OG  SER   223     -15.348   6.975   9.063\\nATOM   1529  N   THR   224     -11.078   6.488  10.312\\nATOM   1530  CA  THR   224      -9.833   5.790  10.605\\nATOM   1531  C   THR   224      -9.468   5.912  12.080\\nATOM   1532  O   THR   224      -9.091   4.932  12.720\\nATOM   1533  CB  THR   224      -8.672   6.335   9.756\\nATOM   1534  CG2 THR   224      -7.371   5.638  10.122\\nATOM   1535  OG1 THR   224      -8.951   6.118   8.367\\nATOM   1536  N   LEU   225      -9.588   7.122  12.615\\nATOM   1537  CA  LEU   225      -9.235   7.385  14.005\\nATOM   1538  C   LEU   225     -10.215   6.742  14.985\\nATOM   1539  O   LEU   225      -9.818   6.275  16.052\\nATOM   1540  CB  LEU   225      -9.154   8.893  14.258\\nATOM   1541  CG  LEU   225      -8.155   9.679  13.406\\nATOM   1542  CD1 LEU   225      -8.248  11.168  13.704\\nATOM   1543  CD2 LEU   225      -6.738   9.171  13.630\\nATOM   1544  N   GLN   226     -11.494   6.719  14.619\\nATOM   1545  CA  GLN   226     -12.534   6.208  15.510\\nATOM   1546  C   GLN   226     -12.592   4.682  15.562\\nATOM   1547  O   GLN   226     -13.175   4.109  16.483\\nATOM   1548  CB  GLN   226     -13.902   6.788  15.137\\nATOM   1549  CG  GLN   226     -14.149   8.182  15.698\\nATOM   1550  CD  GLN   226     -15.426   8.812  15.175\\nATOM   1551  NE2 GLN   226     -15.861   9.889  15.818\\nATOM   1552  OE1 GLN   226     -16.013   8.338  14.201\\nATOM   1553  N   LYS   227     -11.990   4.029  14.575\\nATOM   1554  CA  LYS   227     -11.891   2.574  14.580\\nATOM   1555  C   LYS   227     -10.575   2.157  15.222\\nATOM   1556  O   LYS   227     -10.461   1.078  15.803\\nATOM   1557  CB  LYS   227     -11.977   2.021  13.156\\nATOM   1558  CG  LYS   227     -13.293   2.310  12.452\\nATOM   1559  CD  LYS   227     -13.339   1.654  11.081\\nATOM   1560  CE  LYS   227     -14.691   1.854  10.415\\nATOM   1561  NZ  LYS   227     -14.764   1.183   9.087\\nATOM   1562  N   GLU   228      -9.586   3.037  15.115\\nATOM   1563  CA  GLU   228      -8.250   2.792  15.640\\nATOM   1564  C   GLU   228      -8.217   3.003  17.153\\nATOM   1565  O   GLU   228      -7.149   3.043  17.761\\nATOM   1566  CB  GLU   228      -7.256   3.732  14.951\\nATOM   1567  CG  GLU   228      -5.793   3.347  15.081\\nATOM   1568  CD  GLU   228      -4.899   4.177  14.175\\nATOM   1569  OE1 GLU   228      -5.392   4.661  13.133\\nATOM   1570  OE2 GLU   228      -3.704   4.342  14.501\\nATOM   1571  N   VAL   229      -9.397   3.131  17.754\\nATOM   1572  CA  VAL   229      -9.511   3.446  19.176\\nATOM   1573  C   VAL   229     -10.665   2.692  19.841\\nATOM   1574  O   VAL   229     -10.672   2.495  21.057\\nATOM   1575  CB  VAL   229      -9.673   4.973  19.393\\nATOM   1576  CG1 VAL   229     -10.374   5.271  20.710\\nATOM   1577  CG2 VAL   229      -8.320   5.666  19.329\\nATOM   1578  N   HIE   230     -11.631   2.262  19.035\\nATOM   1579  CA  HIE   230     -12.804   1.554  19.544\\nATOM   1580  C   HIE   230     -12.439   0.366  20.434\\nATOM   1581  O   HIE   230     -13.137   0.068  21.403\\nATOM   1582  CB  HIE   230     -13.693   1.089  18.388\\nATOM   1583  CG  HIE   230     -14.795   0.167  18.806\\nATOM   1584  CD2 HIE   230     -14.977  -1.159  18.594\\nATOM   1585  ND1 HIE   230     -15.886   0.591  19.534\\nATOM   1586  CE1 HIE   230     -16.691  -0.433  19.755\\nATOM   1587  NE2 HIE   230     -16.162  -1.506  19.195\\nATOM   1588  N   ALA   231     -11.346  -0.311  20.099\\nATOM   1589  CA  ALA   231     -10.897  -1.466  20.869\\nATOM   1590  C   ALA   231     -10.318  -1.045  22.217\\nATOM   1591  O   ALA   231     -10.462  -1.754  23.214\\nATOM   1592  CB  ALA   231      -9.874  -2.268  20.075\\nATOM   1593  N   ALA   232      -9.666   0.112  22.242\\nATOM   1594  CA  ALA   232      -9.054   0.617  23.465\\nATOM   1595  C   ALA   232     -10.106   1.015  24.499\\nATOM   1596  O   ALA   232      -9.813   1.103  25.692\\nATOM   1597  CB  ALA   232      -8.133   1.788  23.156\\nATOM   1598  N   LYS   233     -11.330   1.258  24.041\\nATOM   1599  CA  LYS   233     -12.415   1.559  24.964\\nATOM   1600  C   LYS   233     -12.798   0.302  25.738\\nATOM   1601  O   LYS   233     -13.029   0.352  26.947\\nATOM   1602  CB  LYS   233     -13.633   2.121  24.230\\nATOM   1603  CG  LYS   233     -14.674   2.714  25.169\\nATOM   1604  CD  LYS   233     -16.029   2.875  24.501\\nATOM   1605  CE  LYS   233     -17.081   3.308  25.512\\nATOM   1606  NZ  LYS   233     -18.444   3.366  24.917\\nATOM   1607  N   SER   234     -12.859  -0.824  25.032\\nATOM   1608  CA  SER   234     -13.153  -2.111  25.652\\nATOM   1609  C   SER   234     -12.181  -2.393  26.791\\nATOM   1610  O   SER   234     -12.586  -2.758  27.895\\nATOM   1611  CB  SER   234     -13.064  -3.236  24.619\\nATOM   1612  OG  SER   234     -13.873  -2.969  23.488\\nATOM   1613  N   LEU   235     -10.893  -2.218  26.513\\nATOM   1614  CA  LEU   235      -9.844  -2.486  27.491\\nATOM   1615  C   LEU   235      -9.870  -1.488  28.646\\nATOM   1616  O   LEU   235      -9.561  -1.838  29.784\\nATOM   1617  CB  LEU   235      -8.473  -2.475  26.813\\nATOM   1618  CG  LEU   235      -8.301  -3.468  25.659\\nATOM   1619  CD1 LEU   235      -7.050  -3.159  24.851\\nATOM   1620  CD2 LEU   235      -8.274  -4.899  26.177\\nATOM   1621  N   ALA   236     -10.237  -0.245  28.350\\nATOM   1622  CA  ALA   236     -10.314   0.791  29.375\\nATOM   1623  C   ALA   236     -11.406   0.471  30.392\\nATOM   1624  O   ALA   236     -11.276   0.775  31.580\\nATOM   1625  CB  ALA   236     -10.554   2.152  28.741\\nATOM   1626  N   ILE   237     -12.484  -0.144  29.916\\nATOM   1627  CA  ILE   237     -13.571  -0.575  30.784\\nATOM   1628  C   ILE   237     -13.067  -1.595  31.799\\nATOM   1629  O   ILE   237     -13.527  -1.632  32.940\\nATOM   1630  CB  ILE   237     -14.729  -1.177  29.965\\nATOM   1631  CG1 ILE   237     -15.422  -0.080  29.154\\nATOM   1632  CG2 ILE   237     -15.725  -1.885  30.874\\nATOM   1633  CD1 ILE   237     -16.417  -0.598  28.141\\nATOM   1634  N   ILE   238     -12.110  -2.417  31.377\\nATOM   1635  CA  ILE   238     -11.506  -3.413  32.254\\nATOM   1636  C   ILE   238     -10.858  -2.764  33.474\\nATOM   1637  O   ILE   238     -10.987  -3.261  34.592\\nATOM   1638  CB  ILE   238     -10.443  -4.243  31.512\\nATOM   1639  CG1 ILE   238     -11.053  -4.929  30.288\\nATOM   1640  CG2 ILE   238      -9.819  -5.269  32.447\\nATOM   1641  CD1 ILE   238     -12.018  -6.042  30.624\\nATOM   1642  N   VAL   239     -10.158  -1.655  33.255\\nATOM   1643  CA  VAL   239      -9.477  -0.957  34.340\\nATOM   1644  C   VAL   239     -10.471  -0.282  35.280\\nATOM   1645  O   VAL   239     -10.279  -0.269  36.495\\nATOM   1646  CB  VAL   239      -8.495   0.109  33.813\\nATOM   1647  CG1 VAL   239      -7.679   0.688  34.962\\nATOM   1648  CG2 VAL   239      -7.581  -0.482  32.751\\nATOM   1649  N   GLY   240     -11.530   0.283  34.708\\nATOM   1650  CA  GLY   240     -12.555   0.949  35.491\\nATOM   1651  C   GLY   240     -13.228   0.010  36.473\\nATOM   1652  O   GLY   240     -13.550   0.396  37.597\\nATOM   1653  N   LEU   241     -13.437  -1.231  36.046\\nATOM   1654  CA  LEU   241     -14.073  -2.234  36.893\\nATOM   1655  C   LEU   241     -13.127  -2.721  37.986\\nATOM   1656  O   LEU   241     -13.542  -2.934  39.126\\nATOM   1657  CB  LEU   241     -14.577  -3.406  36.050\\nATOM   1658  CG  LEU   241     -15.793  -3.087  35.176\\nATOM   1659  CD1 LEU   241     -16.031  -4.179  34.148\\nATOM   1660  CD2 LEU   241     -17.033  -2.873  36.033\\nATOM   1661  N   PHE   242     -11.857  -2.893  37.637\\nATOM   1662  CA  PHE   242     -10.845  -3.248  38.626\\nATOM   1663  C   PHE   242     -10.835  -2.225  39.757\\nATOM   1664  O   PHE   242     -10.903  -2.582  40.933\\nATOM   1665  CB  PHE   242      -9.461  -3.326  37.979\\nATOM   1666  CG  PHE   242      -8.366  -3.710  38.935\\nATOM   1667  CD1 PHE   242      -7.961  -5.030  39.050\\nATOM   1668  CD2 PHE   242      -7.745  -2.752  39.721\\nATOM   1669  CE1 PHE   242      -6.956  -5.388  39.929\\nATOM   1670  CE2 PHE   242      -6.740  -3.104  40.604\\nATOM   1671  CZ  PHE   242      -6.344  -4.424  40.707\\nATOM   1672  N   ALA   243     -10.750  -0.949  39.388\\nATOM   1673  CA  ALA   243     -10.740   0.140  40.360\\nATOM   1674  C   ALA   243     -11.982   0.108  41.240\\nATOM   1675  O   ALA   243     -11.899   0.271  42.456\\nATOM   1676  CB  ALA   243     -10.634   1.478  39.648\\nATOM   1677  N   LEU   244     -13.134  -0.104  40.614\\nATOM   1678  CA  LEU   244     -14.403  -0.139  41.328\\nATOM   1679  C   LEU   244     -14.451  -1.279  42.344\\nATOM   1680  O   LEU   244     -14.981  -1.119  43.443\\nATOM   1681  CB  LEU   244     -15.560  -0.274  40.336\\nATOM   1682  CG  LEU   244     -16.968  -0.045  40.883\\nATOM   1683  CD1 LEU   244     -17.124   1.389  41.368\\nATOM   1684  CD2 LEU   244     -18.009  -0.377  39.825\\nATOM   1685  N   CYS   245     -13.890  -2.425  41.973\\nATOM   1686  CA  CYS   245     -13.943  -3.617  42.816\\nATOM   1687  C   CYS   245     -12.944  -3.597  43.974\\nATOM   1688  O   CYS   245     -13.134  -4.295  44.971\\nATOM   1689  CB  CYS   245     -13.727  -4.879  41.974\\nATOM   1690  SG  CYS   245     -15.093  -5.300  40.862\\nATOM   1691  N   TRP   246     -11.886  -2.802  43.845\\nATOM   1692  CA  TRP   246     -10.810  -2.816  44.836\\nATOM   1693  C   TRP   246     -10.731  -1.573  45.717\\nATOM   1694  O   TRP   246     -10.282  -1.649  46.860\\nATOM   1695  CB  TRP   246      -9.459  -3.066  44.161\\nATOM   1696  CG  TRP   246      -9.238  -4.503  43.819\\nATOM   1697  CD1 TRP   246      -9.386  -5.088  42.595\\nATOM   1698  CD2 TRP   246      -8.842  -5.547  44.718\\nATOM   1699  CE2 TRP   246      -8.763  -6.736  43.967\\nATOM   1700  CE3 TRP   246      -8.542  -5.589  46.083\\nATOM   1701  NE1 TRP   246      -9.100  -6.430  42.675\\nATOM   1702  CZ2 TRP   246      -8.398  -7.956  44.536\\nATOM   1703  CZ3 TRP   246      -8.178  -6.799  46.645\\nATOM   1704  CH2 TRP   246      -8.110  -7.966  45.874\\nATOM   1705  N   LEU   247     -11.160  -0.431  45.191\\nATOM   1706  CA  LEU   247     -11.084   0.818  45.946\\nATOM   1707  C   LEU   247     -11.787   0.768  47.308\\nATOM   1708  O   LEU   247     -11.209   1.180  48.312\\nATOM   1709  CB  LEU   247     -11.585   2.002  45.112\\nATOM   1710  CG  LEU   247     -10.563   2.572  44.125\\nATOM   1711  CD1 LEU   247     -11.165   3.706  43.310\\nATOM   1712  CD2 LEU   247      -9.313   3.037  44.860\\nATOM   1713  N   PRO   248     -13.033   0.263  47.348\\nATOM   1714  CA  PRO   248     -13.748   0.185  48.629\\nATOM   1715  C   PRO   248     -12.893  -0.404  49.751\\nATOM   1716  O   PRO   248     -12.811   0.180  50.831\\nATOM   1717  CB  PRO   248     -14.921  -0.741  48.311\\nATOM   1718  CG  PRO   248     -15.196  -0.493  46.870\\nATOM   1719  CD  PRO   248     -13.859  -0.221  46.227\\nATOM   1720  N   LEU   249     -12.261  -1.544  49.495\\nATOM   1721  CA  LEU   249     -11.425  -2.190  50.499\\nATOM   1722  C   LEU   249     -10.244  -1.305  50.898\\nATOM   1723  O   LEU   249      -9.921  -1.184  52.081\\nATOM   1724  CB  LEU   249     -10.934  -3.548  49.990\\nATOM   1725  CG  LEU   249     -10.316  -4.500  51.017\\nATOM   1726  CD1 LEU   249     -11.125  -4.505  52.305\\nATOM   1727  CD2 LEU   249     -10.203  -5.908  50.444\\nATOM   1728  N   HIE   250      -9.606  -0.685  49.909\\nATOM   1729  CA  HIE   250      -8.469   0.196  50.163\\nATOM   1730  C   HIE   250      -8.866   1.403  51.006\\nATOM   1731  O   HIE   250      -8.135   1.810  51.909\\nATOM   1732  CB  HIE   250      -7.849   0.675  48.850\\nATOM   1733  CG  HIE   250      -7.085  -0.383  48.119\\nATOM   1734  CD2 HIE   250      -7.293  -0.958  46.911\\nATOM   1735  ND1 HIE   250      -5.943  -0.961  48.627\\nATOM   1736  CE1 HIE   250      -5.483  -1.854  47.767\\nATOM   1737  NE2 HIE   250      -6.284  -1.870  46.718\\nATOM   1738  N   ILE   251     -10.024   1.977  50.699\\nATOM   1739  CA  ILE   251     -10.500   3.163  51.400\\nATOM   1740  C   ILE   251     -10.815   2.855  52.860\\nATOM   1741  O   ILE   251     -10.497   3.643  53.751\\nATOM   1742  CB  ILE   251     -11.743   3.762  50.714\\nATOM   1743  CG1 ILE   251     -11.443   4.065  49.245\\nATOM   1744  CG2 ILE   251     -12.195   5.023  51.437\\nATOM   1745  CD1 ILE   251     -12.633   4.593  48.472\\nATOM   1746  N   ILE   252     -11.437   1.704  53.098\\nATOM   1747  CA  ILE   252     -11.742   1.268  54.457\\nATOM   1748  C   ILE   252     -10.462   1.104  55.274\\nATOM   1749  O   ILE   252     -10.417   1.455  56.453\\nATOM   1750  CB  ILE   252     -12.530  -0.052  54.464\\nATOM   1751  CG1 ILE   252     -13.925   0.161  53.877\\nATOM   1752  CG2 ILE   252     -12.633  -0.604  55.875\\nATOM   1753  CD1 ILE   252     -14.764  -1.098  53.831\\nATOM   1754  N   ASN   253      -9.423   0.569  54.641\\nATOM   1755  CA  ASN   253      -8.125   0.442  55.292\\nATOM   1756  C   ASN   253      -7.597   1.802  55.737\\nATOM   1757  O   ASN   253      -7.055   1.940  56.834\\nATOM   1758  CB  ASN   253      -7.119  -0.239  54.362\\nATOM   1759  CG  ASN   253      -7.341  -1.736  54.258\\nATOM   1760  ND2 ASN   253      -6.734  -2.355  53.254\\nATOM   1761  OD1 ASN   253      -8.046  -2.329  55.073\\nATOM   1762  N   CYS   254      -7.766   2.803  54.879\\nATOM   1763  CA  CYS   254      -7.315   4.158  55.176\\nATOM   1764  C   CYS   254      -8.019   4.726  56.405\\nATOM   1765  O   CYS   254      -7.388   5.357  57.252\\nATOM   1766  CB  CYS   254      -7.531   5.073  53.968\\nATOM   1767  SG  CYS   254      -6.517   4.654  52.531\\nATOM   1768  N   PHE   255      -9.327   4.503  56.495\\nATOM   1769  CA  PHE   255     -10.099   4.925  57.661\\nATOM   1770  C   PHE   255      -9.546   4.321  58.942\\nATOM   1771  O   PHE   255      -9.179   5.035  59.878\\nATOM   1772  CB  PHE   255     -11.572   4.538  57.501\\nATOM   1773  CG  PHE   255     -12.398   5.571  56.783\\nATOM   1774  CD1 PHE   255     -12.154   5.875  55.453\\nATOM   1775  CD2 PHE   255     -13.432   6.227  57.434\\nATOM   1776  CE1 PHE   255     -12.917   6.822  54.790\\nATOM   1777  CE2 PHE   255     -14.199   7.174  56.776\\nATOM   1778  CZ  PHE   255     -13.940   7.471  55.451\\nATOM   1779  N   THR   256      -9.510   2.993  58.979\\nATOM   1780  CA  THR   256      -8.965   2.266  60.111\\nATOM   1781  C   THR   256      -7.596   2.810  60.418\\nATOM   1782  O   THR   256      -7.298   3.123  61.556\\nATOM   1783  CB  THR   256      -8.810   0.762  59.806\\nATOM   1784  CG2 THR   256      -8.272   0.017  61.030\\nATOM   1785  OG1 THR   256     -10.077   0.227  59.397\\nATOM   1786  N   PHE   257      -6.746   2.919  59.411\\nATOM   1787  CA  PHE   257      -5.420   3.428  59.649\\nATOM   1788  C   PHE   257      -5.300   4.856  60.222\\nATOM   1789  O   PHE   257      -4.646   5.052  61.263\\nATOM   1790  CB  PHE   257      -4.624   3.425  58.356\\nATOM   1791  CG  PHE   257      -3.129   3.605  58.553\\nATOM   1792  CD1 PHE   257      -2.457   4.625  57.895\\nATOM   1793  CD2 PHE   257      -2.396   2.738  59.351\\nATOM   1794  CE1 PHE   257      -1.084   4.801  58.055\\nATOM   1795  CE2 PHE   257      -1.026   2.907  59.516\\nATOM   1796  CZ  PHE   257      -0.365   3.937  58.870\\nATOM   1797  N   PHE   258      -5.989   5.811  59.600\\nATOM   1798  CA  PHE   258      -5.833   7.229  59.892\\nATOM   1799  C   PHE   258      -6.705   7.669  61.074\\nATOM   1800  O   PHE   258      -6.415   8.683  61.684\\nATOM   1801  CB  PHE   258      -6.105   8.120  58.661\\nATOM   1802  CG  PHE   258      -5.030   8.047  57.627\\nATOM   1803  CD1 PHE   258      -5.313   7.633  56.338\\nATOM   1804  CD2 PHE   258      -3.714   8.336  57.961\\nATOM   1805  CE1 PHE   258      -4.319   7.544  55.393\\nATOM   1806  CE2 PHE   258      -2.711   8.245  57.013\\nATOM   1807  CZ  PHE   258      -3.019   7.849  55.731\\nATOM   1808  N   CYX   259      -7.757   6.922  61.389\\nATOM   1809  CA  CYX   259      -8.599   7.266  62.537\\nATOM   1810  C   CYX   259      -8.664   6.097  63.508\\nATOM   1811  O   CYX   259      -9.649   5.353  63.526\\nATOM   1812  CB  CYX   259     -10.016   7.641  62.090\\nATOM   1813  SG  CYX   259     -11.014   8.532  63.314\\nATOM   1814  N   PRO   260      -7.610   5.929  64.318\\nATOM   1815  CA  PRO   260      -7.395   4.767  65.187\\nATOM   1816  C   PRO   260      -8.511   4.559  66.206\\nATOM   1817  O   PRO   260      -8.921   3.421  66.432\\nATOM   1818  CB  PRO   260      -6.087   5.109  65.911\\nATOM   1819  CG  PRO   260      -5.415   6.114  65.041\\nATOM   1820  CD  PRO   260      -6.520   6.910  64.429\\nATOM   1821  N   ASP   261      -8.991   5.641  66.810\\nATOM   1822  CA  ASP   261      -9.975   5.531  67.883\\nATOM   1823  C   ASP   261     -11.417   5.743  67.423\\nATOM   1824  O   ASP   261     -12.277   6.134  68.212\\nATOM   1825  CB  ASP   261      -9.634   6.484  69.034\\nATOM   1826  CG  ASP   261      -9.600   7.935  68.600\\nATOM   1827  OD1 ASP   261     -10.062   8.237  67.479\\nATOM   1828  OD2 ASP   261      -9.112   8.776  69.384\\nATOM   1829  N   CYX   262     -11.676   5.488  66.145\\nATOM   1830  CA  CYX   262     -13.041   5.484  65.634\\nATOM   1831  C   CYX   262     -13.572   4.058  65.659\\nATOM   1832  O   CYX   262     -12.797   3.103  65.648\\nATOM   1833  CB  CYX   262     -13.092   6.036  64.211\\nATOM   1834  SG  CYX   262     -12.743   7.799  64.087\\nATOM   1835  N   SER   263     -14.892   3.914  65.699\\nATOM   1836  CA  SER   263     -15.500   2.589  65.689\\nATOM   1837  C   SER   263     -15.206   1.894  64.364\\nATOM   1838  O   SER   263     -15.559   2.398  63.298\\nATOM   1839  CB  SER   263     -17.010   2.676  65.929\\nATOM   1840  OG  SER   263     -17.646   3.451  64.928\\nATOM   1841  N   HIP   264     -14.550   0.741  64.439\\nATOM   1842  CA  HIP   264     -14.152   0.005  63.245\\nATOM   1843  C   HIP   264     -15.355  -0.349  62.375\\nATOM   1844  O   HIP   264     -16.475  -0.476  62.868\\nATOM   1845  CB  HIP   264     -13.393  -1.268  63.630\\nATOM   1846  CG  HIP   264     -12.692  -1.924  62.481\\nATOM   1847  CD2 HIP   264     -11.387  -1.931  62.120\\nATOM   1848  ND1 HIP   264     -13.353  -2.688  61.543\\nATOM   1849  CE1 HIP   264     -12.486  -3.134  60.651\\nATOM   1850  NE2 HIP   264     -11.286  -2.690  60.979\\nATOM   1851  N   ALA   265     -15.114  -0.502  61.077\\nATOM   1852  CA  ALA   265     -16.159  -0.912  60.149\\nATOM   1853  C   ALA   265     -16.736  -2.260  60.568\\nATOM   1854  O   ALA   265     -15.990  -3.186  60.889\\nATOM   1855  CB  ALA   265     -15.610  -0.984  58.735\\nATOM   1856  N   PRO   266     -18.071  -2.373  60.568\\nATOM   1857  CA  PRO   266     -18.739  -3.617  60.964\\nATOM   1858  C   PRO   266     -18.298  -4.791  60.095\\nATOM   1859  O   PRO   266     -17.888  -4.588  58.951\\nATOM   1860  CB  PRO   266     -20.226  -3.314  60.740\\nATOM   1861  CG  PRO   266     -20.270  -2.098  59.875\\nATOM   1862  CD  PRO   266     -19.020  -1.331  60.141\\nATOM   1863  N   LEU   267     -18.386  -6.002  60.637\\nATOM   1864  CA  LEU   267     -17.934  -7.196  59.931\\nATOM   1865  C   LEU   267     -18.657  -7.409  58.606\\nATOM   1866  O   LEU   267     -18.049  -7.843  57.628\\nATOM   1867  CB  LEU   267     -18.089  -8.438  60.811\\nATOM   1868  CG  LEU   267     -17.278  -8.465  62.105\\nATOM   1869  CD1 LEU   267     -17.136  -9.895  62.602\\nATOM   1870  CD2 LEU   267     -15.914  -7.840  61.890\\nATOM   1871  N   TRP   268     -19.953  -7.112  58.574\\nATOM   1872  CA  TRP   268     -20.738  -7.305  57.358\\nATOM   1873  C   TRP   268     -20.199  -6.449  56.216\\nATOM   1874  O   TRP   268     -20.115  -6.904  55.076\\nATOM   1875  CB  TRP   268     -22.226  -7.020  57.600\\nATOM   1876  CG  TRP   268     -22.551  -5.571  57.818\\nATOM   1877  CD1 TRP   268     -22.734  -4.943  59.016\\nATOM   1878  CD2 TRP   268     -22.738  -4.571  56.809\\nATOM   1879  CE2 TRP   268     -23.026  -3.360  57.470\\nATOM   1880  CE3 TRP   268     -22.686  -4.581  55.410\\nATOM   1881  NE1 TRP   268     -23.018  -3.614  58.816\\nATOM   1882  CZ2 TRP   268     -23.262  -2.171  56.781\\nATOM   1883  CZ3 TRP   268     -22.919  -3.399  54.728\\nATOM   1884  CH2 TRP   268     -23.205  -2.211  55.414\\nATOM   1885  N   LEU   269     -19.827  -5.211  56.528\\nATOM   1886  CA  LEU   269     -19.253  -4.318  55.529\\nATOM   1887  C   LEU   269     -17.882  -4.817  55.097\\nATOM   1888  O   LEU   269     -17.525  -4.755  53.920\\nATOM   1889  CB  LEU   269     -19.139  -2.893  56.075\\nATOM   1890  CG  LEU   269     -18.371  -1.905  55.191\\nATOM   1891  CD1 LEU   269     -18.995  -1.813  53.805\\nATOM   1892  CD2 LEU   269     -18.301  -0.533  55.842\\nATOM   1893  N   MET   270     -17.118  -5.319  56.060\\nATOM   1894  CA  MET   270     -15.766  -5.786  55.795\\nATOM   1895  C   MET   270     -15.766  -6.934  54.790\\nATOM   1896  O   MET   270     -15.067  -6.886  53.778\\nATOM   1897  CB  MET   270     -15.090  -6.221  57.096\\nATOM   1898  CG  MET   270     -13.621  -5.860  57.165\\nATOM   1899  SD  MET   270     -13.379  -4.076  57.266\\nATOM   1900  CE  MET   270     -11.601  -3.970  57.080\\nATOM   1901  N   TYR   271     -16.559  -7.964  55.069\\nATOM   1902  CA  TYR   271     -16.615  -9.132  54.197\\nATOM   1903  C   TYR   271     -17.362  -8.845  52.899\\nATOM   1904  O   TYR   271     -17.279  -9.615  51.943\\nATOM   1905  CB  TYR   271     -17.221 -10.332  54.931\\nATOM   1906  CG  TYR   271     -16.272 -10.942  55.937\\nATOM   1907  CD1 TYR   271     -15.270 -11.813  55.531\\nATOM   1908  CD2 TYR   271     -16.364 -10.632  57.287\\nATOM   1909  CE1 TYR   271     -14.392 -12.366  56.441\\nATOM   1910  CE2 TYR   271     -15.489 -11.181  58.206\\nATOM   1911  CZ  TYR   271     -14.505 -12.048  57.777\\nATOM   1912  OH  TYR   271     -13.631 -12.599  58.686\\nATOM   1913  N   LEU   272     -18.080  -7.729  52.866\\nATOM   1914  CA  LEU   272     -18.768  -7.311  51.652\\nATOM   1915  C   LEU   272     -17.763  -6.709  50.676\\nATOM   1916  O   LEU   272     -17.865  -6.901  49.465\\nATOM   1917  CB  LEU   272     -19.875  -6.308  51.980\\nATOM   1918  CG  LEU   272     -20.917  -6.032  50.893\\nATOM   1919  CD1 LEU   272     -22.254  -5.654  51.514\\nATOM   1920  CD2 LEU   272     -20.438  -4.952  49.933\\nATOM   1921  N   ALA   273     -16.787  -5.985  51.214\\nATOM   1922  CA  ALA   273     -15.734  -5.393  50.399\\nATOM   1923  C   ALA   273     -14.786  -6.473  49.892\\nATOM   1924  O   ALA   273     -14.212  -6.356  48.809\\nATOM   1925  CB  ALA   273     -14.974  -4.345  51.194\\nATOM   1926  N   ILE   274     -14.629  -7.527  50.687\\nATOM   1927  CA  ILE   274     -13.780  -8.654  50.319\\nATOM   1928  C   ILE   274     -14.413  -9.482  49.202\\nATOM   1929  O   ILE   274     -13.742  -9.855  48.241\\nATOM   1930  CB  ILE   274     -13.480  -9.550  51.535\\nATOM   1931  CG1 ILE   274     -12.554  -8.819  52.511\\nATOM   1932  CG2 ILE   274     -12.860 -10.864  51.091\\nATOM   1933  CD1 ILE   274     -12.396  -9.515  53.846\\nATOM   1934  N   VAL   275     -15.707  -9.761  49.329\\nATOM   1935  CA  VAL   275     -16.438 -10.478  48.289\\nATOM   1936  C   VAL   275     -16.405  -9.700  46.977\\nATOM   1937  O   VAL   275     -16.211 -10.274  45.903\\nATOM   1938  CB  VAL   275     -17.906 -10.723  48.693\\nATOM   1939  CG1 VAL   275     -18.697 -11.279  47.517\\nATOM   1940  CG2 VAL   275     -17.979 -11.666  49.883\\nATOM   1941  N   LEU   276     -16.591  -8.389  47.076\\nATOM   1942  CA  LEU   276     -16.586  -7.512  45.909\\nATOM   1943  C   LEU   276     -15.272  -7.592  45.134\\nATOM   1944  O   LEU   276     -15.271  -7.709  43.907\\nATOM   1945  CB  LEU   276     -16.862  -6.068  46.338\\nATOM   1946  CG  LEU   276     -16.746  -4.977  45.273\\nATOM   1947  CD1 LEU   276     -17.644  -5.280  44.082\\nATOM   1948  CD2 LEU   276     -17.084  -3.622  45.874\\nATOM   1949  N   SER   277     -14.154  -7.530  45.852\\nATOM   1950  CA  SER   277     -12.841  -7.559  45.218\\nATOM   1951  C   SER   277     -12.603  -8.874  44.481\\nATOM   1952  O   SER   277     -11.899  -8.910  43.471\\nATOM   1953  CB  SER   277     -11.735  -7.324  46.250\\nATOM   1954  OG  SER   277     -11.650  -8.403  47.164\\nATOM   1955  N   HIS   278     -13.194  -9.952  44.989\\nATOM   1956  CA  HIS   278     -13.048 -11.266  44.370\\nATOM   1957  C   HIS   278     -13.870 -11.380  43.093\\nATOM   1958  O   HIS   278     -13.520 -12.134  42.185\\nATOM   1959  CB  HIS   278     -13.449 -12.376  45.344\\nATOM   1960  CG  HIS   278     -12.540 -12.501  46.525\\nATOM   1961  CD2 HIS   278     -11.202 -12.329  46.641\\nATOM   1962  ND1 HIS   278     -12.995 -12.832  47.782\\nATOM   1963  CE1 HIS   278     -11.974 -12.867  48.621\\nATOM   1964  NE2 HIS   278     -10.876 -12.564  47.954\\nATOM   1965  N   THR   279     -14.968 -10.633  43.031\\nATOM   1966  CA  THR   279     -15.844 -10.652  41.867\\nATOM   1967  C   THR   279     -15.120 -10.105  40.640\\nATOM   1968  O   THR   279     -15.466 -10.429  39.502\\nATOM   1969  CB  THR   279     -17.134  -9.843  42.122\\nATOM   1970  CG2 THR   279     -18.012  -9.825  40.881\\nATOM   1971  OG1 THR   279     -17.865 -10.435  43.204\\nATOM   1972  N   ASN   280     -14.103  -9.284  40.882\\nATOM   1973  CA  ASN   280     -13.321  -8.689  39.805\\nATOM   1974  C   ASN   280     -12.632  -9.731  38.929\\nATOM   1975  O   ASN   280     -12.240  -9.443  37.798\\nATOM   1976  CB  ASN   280     -12.281  -7.722  40.374\\nATOM   1977  CG  ASN   280     -11.432  -7.081  39.294\\nATOM   1978  ND2 ASN   280     -12.081  -6.389  38.364\\nATOM   1979  OD1 ASN   280     -10.209  -7.212  39.291\\nATOM   1980  N   SER   281     -12.484 -10.942  39.456\\nATOM   1981  CA  SER   281     -11.821 -12.015  38.725\\nATOM   1982  C   SER   281     -12.802 -12.799  37.858\\nATOM   1983  O   SER   281     -12.443 -13.813  37.259\\nATOM   1984  CB  SER   281     -11.101 -12.956  39.691\\nATOM   1985  OG  SER   281     -10.035 -12.289  40.346\\nATOM   1986  N   VAL   282     -14.038 -12.318  37.788\\nATOM   1987  CA  VAL   282     -15.079 -12.993  37.025\\nATOM   1988  C   VAL   282     -15.547 -12.167  35.827\\nATOM   1989  O   VAL   282     -15.970 -12.719  34.812\\nATOM   1990  CB  VAL   282     -16.301 -13.303  37.915\\nATOM   1991  CG1 VAL   282     -17.359 -14.060  37.126\\nATOM   1992  CG2 VAL   282     -15.875 -14.093  39.142\\nATOM   1993  N   VAL   283     -15.455 -10.846  35.949\\nATOM   1994  CA  VAL   283     -16.075  -9.930  34.990\\nATOM   1995  C   VAL   283     -15.399  -9.853  33.619\\nATOM   1996  O   VAL   283     -16.071  -9.657  32.606\\nATOM   1997  CB  VAL   283     -16.187  -8.504  35.574\\nATOM   1998  CG1 VAL   283     -17.233  -8.466  36.678\\nATOM   1999  CG2 VAL   283     -14.839  -8.034  36.097\\nATOM   2000  N   ASN   284     -14.078 -10.003  33.587\\nATOM   2001  CA  ASN   284     -13.316  -9.827  32.350\\nATOM   2002  C   ASN   284     -13.806 -10.646  31.149\\nATOM   2003  O   ASN   284     -14.026 -10.091  30.072\\nATOM   2004  CB  ASN   284     -11.820 -10.062  32.587\\nATOM   2005  CG  ASN   284     -11.172  -8.939  33.371\\nATOM   2006  ND2 ASN   284      -9.851  -8.994  33.504\\nATOM   2007  OD1 ASN   284     -11.850  -8.030  33.851\\nATOM   2008  N   PRO   285     -13.970 -11.968  31.324\\nATOM   2009  CA  PRO   285     -14.420 -12.801  30.202\\nATOM   2010  C   PRO   285     -15.742 -12.309  29.612\\nATOM   2011  O   PRO   285     -15.917 -12.343  28.393\\nATOM   2012  CB  PRO   285     -14.605 -14.180  30.843\\nATOM   2013  CG  PRO   285     -13.697 -14.173  32.023\\nATOM   2014  CD  PRO   285     -13.722 -12.764  32.539\\nATOM   2015  N   PHE   286     -16.654 -11.860  30.470\\nATOM   2016  CA  PHE   286     -17.950 -11.357  30.023\\nATOM   2017  C   PHE   286     -17.789 -10.122  29.145\\nATOM   2018  O   PHE   286     -18.522  -9.937  28.174\\nATOM   2019  CB  PHE   286     -18.847 -11.034  31.221\\nATOM   2020  CG  PHE   286     -19.409 -12.249  31.906\\nATOM   2021  CD1 PHE   286     -18.751 -12.822  32.982\\nATOM   2022  CD2 PHE   286     -20.595 -12.817  31.473\\nATOM   2023  CE1 PHE   286     -19.267 -13.939  33.613\\nATOM   2024  CE2 PHE   286     -21.115 -13.935  32.101\\nATOM   2025  CZ  PHE   286     -20.451 -14.496  33.171\\nATOM   2026  N   ILE   287     -16.823  -9.280  29.495\\nATOM   2027  CA  ILE   287     -16.561  -8.055  28.750\\nATOM   2028  C   ILE   287     -16.008  -8.349  27.358\\nATOM   2029  O   ILE   287     -16.424  -7.735  26.375\\nATOM   2030  CB  ILE   287     -15.589  -7.145  29.515\\nATOM   2031  CG1 ILE   287     -16.139  -6.861  30.913\\nATOM   2032  CG2 ILE   287     -15.358  -5.850  28.750\\nATOM   2033  CD1 ILE   287     -15.083  -6.504  31.922\\nATOM   2034  N   TYR   288     -15.072  -9.289  27.275\\nATOM   2035  CA  TYR   288     -14.516  -9.687  25.988\\nATOM   2036  C   TYR   288     -15.621 -10.195  25.067\\nATOM   2037  O   TYR   288     -15.616  -9.926  23.866\\nATOM   2038  CB  TYR   288     -13.449 -10.771  26.159\\nATOM   2039  CG  TYR   288     -12.305 -10.390  27.072\\nATOM   2040  CD1 TYR   288     -11.762  -9.115  27.042\\nATOM   2041  CD2 TYR   288     -11.756 -11.315  27.950\\nATOM   2042  CE1 TYR   288     -10.713  -8.765  27.872\\nATOM   2043  CE2 TYR   288     -10.706 -10.976  28.782\\nATOM   2044  CZ  TYR   288     -10.188  -9.700  28.739\\nATOM   2045  OH  TYR   288      -9.142  -9.354  29.565\\nATOM   2046  N   ALA   289     -16.567 -10.931  25.641\\nATOM   2047  CA  ALA   289     -17.669 -11.501  24.875\\nATOM   2048  C   ALA   289     -18.582 -10.419  24.304\\nATOM   2049  O   ALA   289     -18.965 -10.472  23.134\\nATOM   2050  CB  ALA   289     -18.465 -12.472  25.735\\nATOM   2051  N   TYR   290     -18.924  -9.436  25.132\\nATOM   2052  CA  TYR   290     -19.839  -8.374  24.725\\nATOM   2053  C   TYR   290     -19.234  -7.391  23.725\\nATOM   2054  O   TYR   290     -19.890  -7.001  22.759\\nATOM   2055  CB  TYR   290     -20.354  -7.604  25.944\\nATOM   2056  CG  TYR   290     -21.489  -8.283  26.676\\nATOM   2057  CD1 TYR   290     -22.657  -8.634  26.012\\nATOM   2058  CD2 TYR   290     -21.401  -8.556  28.034\\nATOM   2059  CE1 TYR   290     -23.700  -9.250  26.678\\nATOM   2060  CE2 TYR   290     -22.439  -9.172  28.709\\nATOM   2061  CZ  TYR   290     -23.586  -9.516  28.025\\nATOM   2062  OH  TYR   290     -24.622 -10.128  28.692\\nATOM   2063  N   ARG   291     -17.987  -6.990  23.957\\nATOM   2064  CA  ARG   291     -17.407  -5.882  23.201\\nATOM   2065  C   ARG   291     -16.383  -6.289  22.145\\nATOM   2066  O   ARG   291     -16.150  -5.549  21.190\\nATOM   2067  CB  ARG   291     -16.798  -4.847  24.151\\nATOM   2068  CG  ARG   291     -17.736  -4.406  25.261\\nATOM   2069  CD  ARG   291     -17.363  -3.033  25.793\\nATOM   2070  NE  ARG   291     -17.908  -1.957  24.969\\nATOM   2071  CZ  ARG   291     -17.265  -1.390  23.954\\nATOM   2072  NH1 ARG   291     -16.046  -1.792  23.629\\nATOM   2073  NH2 ARG   291     -17.842  -0.417  23.262\\nATOM   2074  N   ILE   292     -15.769  -7.455  22.311\\nATOM   2075  CA  ILE   292     -14.772  -7.912  21.345\\nATOM   2076  C   ILE   292     -15.295  -9.067  20.496\\nATOM   2077  O   ILE   292     -15.572 -10.154  20.999\\nATOM   2078  CB  ILE   292     -13.446  -8.301  22.020\\nATOM   2079  CG1 ILE   292     -12.979  -7.180  22.950\\nATOM   2080  CG2 ILE   292     -12.387  -8.599  20.969\\nATOM   2081  CD1 ILE   292     -11.564  -7.352  23.455\\nATOM   2082  N   ARG   293     -15.416  -8.811  19.198\\nATOM   2083  CA  ARG   293     -16.036  -9.744  18.263\\nATOM   2084  C   ARG   293     -15.274 -11.063  18.111\\nATOM   2085  O   ARG   293     -15.871 -12.140  18.167\\nATOM   2086  CB  ARG   293     -16.206  -9.066  16.901\\nATOM   2087  CG  ARG   293     -16.739  -9.965  15.804\\nATOM   2088  CD  ARG   293     -16.782  -9.220  14.480\\nATOM   2089  NE  ARG   293     -16.744 -10.130  13.339\\nATOM   2090  CZ  ARG   293     -15.636 -10.707  12.885\\nATOM   2091  NH1 ARG   293     -14.474 -10.474  13.480\\nATOM   2092  NH2 ARG   293     -15.688 -11.521  11.839\\nATOM   2093  N   GLU   294     -13.961 -10.979  17.920\\nATOM   2094  CA  GLU   294     -13.154 -12.171  17.670\\nATOM   2095  C   GLU   294     -13.092 -13.104  18.885\\nATOM   2096  O   GLU   294     -12.837 -14.300  18.741\\nATOM   2097  CB  GLU   294     -11.743 -11.790  17.206\\nATOM   2098  CG  GLU   294     -10.964 -12.934  16.557\\nATOM   2099  CD  GLU   294     -11.184 -13.028  15.055\\nATOM   2100  OE1 GLU   294     -11.220 -11.972  14.390\\nATOM   2101  OE2 GLU   294     -11.306 -14.159  14.536\\nATOM   2102  N   PHE   295     -13.317 -12.556  20.077\\nATOM   2103  CA  PHE   295     -13.416 -13.376  21.282\\nATOM   2104  C   PHE   295     -14.772 -14.065  21.330\\nATOM   2105  O   PHE   295     -14.863 -15.276  21.531\\nATOM   2106  CB  PHE   295     -13.225 -12.532  22.546\\nATOM   2107  CG  PHE   295     -11.796 -12.427  23.000\\nATOM   2108  CD1 PHE   295     -11.181 -13.488  23.646\\nATOM   2109  CD2 PHE   295     -11.071 -11.266  22.791\\nATOM   2110  CE1 PHE   295      -9.866 -13.395  24.067\\nATOM   2111  CE2 PHE   295      -9.756 -11.166  23.210\\nATOM   2112  CZ  PHE   295      -9.153 -12.231  23.849\\nATOM   2113  N   ARG   296     -15.825 -13.276  21.140\\nATOM   2114  CA  ARG   296     -17.193 -13.776  21.163\\nATOM   2115  C   ARG   296     -17.389 -14.945  20.198\\nATOM   2116  O   ARG   296     -17.998 -15.956  20.548\\nATOM   2117  CB  ARG   296     -18.168 -12.643  20.831\\nATOM   2118  CG  ARG   296     -19.635 -13.035  20.882\\nATOM   2119  CD  ARG   296     -20.543 -11.810  20.794\\nATOM   2120  NE  ARG   296     -20.388 -11.085  19.534\\nATOM   2121  CZ  ARG   296     -19.688  -9.962  19.395\\nATOM   2122  NH1 ARG   296     -19.604  -9.375  18.208\\nATOM   2123  NH2 ARG   296     -19.073  -9.425  20.440\\nATOM   2124  N   GLN   297     -16.866 -14.804  18.985\\nATOM   2125  CA  GLN   297     -17.005 -15.846  17.973\\nATOM   2126  C   GLN   297     -16.233 -17.111  18.339\\nATOM   2127  O   GLN   297     -16.684 -18.222  18.061\\nATOM   2128  CB  GLN   297     -16.562 -15.329  16.602\\nATOM   2129  CG  GLN   297     -17.526 -14.334  15.978\\nATOM   2130  CD  GLN   297     -17.069 -13.852  14.615\\nATOM   2131  NE2 GLN   297     -18.008 -13.349  13.821\\nATOM   2132  OE1 GLN   297     -15.887 -13.929  14.279\\nATOM   2133  N   THR   298     -15.071 -16.940  18.960\\nATOM   2134  CA  THR   298     -14.259 -18.079  19.370\\nATOM   2135  C   THR   298     -14.892 -18.796  20.559\\nATOM   2136  O   THR   298     -14.816 -20.020  20.668\\nATOM   2137  CB  THR   298     -12.821 -17.659  19.724\\nATOM   2138  CG2 THR   298     -11.983 -18.879  20.075\\nATOM   2139  OG1 THR   298     -12.229 -16.988  18.605\\nATOM   2140  N   PHE   299     -15.520 -18.030  21.446\\nATOM   2141  CA  PHE   299     -16.214 -18.612  22.588\\nATOM   2142  C   PHE   299     -17.369 -19.496  22.127\\nATOM   2143  O   PHE   299     -17.487 -20.647  22.552\\nATOM   2144  CB  PHE   299     -16.725 -17.526  23.537\\nATOM   2145  CG  PHE   299     -15.636 -16.784  24.258\\nATOM   2146  CD1 PHE   299     -14.375 -17.338  24.398\\nATOM   2147  CD2 PHE   299     -15.883 -15.541  24.817\\nATOM   2148  CE1 PHE   299     -13.374 -16.657  25.066\\nATOM   2149  CE2 PHE   299     -14.887 -14.857  25.490\\nATOM   2150  CZ  PHE   299     -13.631 -15.416  25.614\\nATOM   2151  N   ARG   300     -18.221 -18.954  21.260\\nATOM   2152  CA  ARG   300     -19.321 -19.728  20.691\\nATOM   2153  C   ARG   300     -18.828 -21.043  20.103\\nATOM   2154  O   ARG   300     -19.433 -22.094  20.313\\nATOM   2155  CB  ARG   300     -20.048 -18.931  19.607\\nATOM   2156  CG  ARG   300     -21.392 -18.376  20.035\\nATOM   2157  CD  ARG   300     -22.287 -18.144  18.829\\nATOM   2158  NE  ARG   300     -21.705 -17.181  17.901\\nATOM   2159  CZ  ARG   300     -21.814 -15.864  18.033\\nATOM   2160  NH1 ARG   300     -22.483 -15.354  19.059\\nATOM   2161  NH2 ARG   300     -21.254 -15.056  17.144\\nATOM   2162  N   LYS   301     -17.728 -20.972  19.361\\nATOM   2163  CA  LYS   301     -17.153 -22.144  18.715\\nATOM   2164  C   LYS   301     -16.710 -23.177  19.744\\nATOM   2165  O   LYS   301     -16.936 -24.374  19.572\\nATOM   2166  CB  LYS   301     -15.962 -21.735  17.848\\nATOM   2167  CG  LYS   301     -15.271 -22.892  17.148\\nATOM   2168  CD  LYS   301     -13.883 -22.491  16.677\\nATOM   2169  CE  LYS   301     -13.921 -21.198  15.875\\nATOM   2170  NZ  LYS   301     -12.554 -20.679  15.589\\nATOM   2171  N   ILE   302     -16.077 -22.705  20.813\\nATOM   2172  CA  ILE   302     -15.558 -23.588  21.851\\nATOM   2173  C   ILE   302     -16.682 -24.247  22.642\\nATOM   2174  O   ILE   302     -16.663 -25.455  22.881\\nATOM   2175  CB  ILE   302     -14.629 -22.831  22.822\\nATOM   2176  CG1 ILE   302     -13.359 -22.378  22.098\\nATOM   2177  CG2 ILE   302     -14.283 -23.702  24.020\\nATOM   2178  CD1 ILE   302     -12.365 -21.674  22.992\\nATOM   2179  N   ILE   303     -17.660 -23.446  23.047\\nATOM   2180  CA  ILE   303     -18.774 -23.945  23.842\\nATOM   2181  C   ILE   303     -19.618 -24.951  23.064\\nATOM   2182  O   ILE   303     -20.005 -25.992  23.595\\nATOM   2183  CB  ILE   303     -19.660 -22.791  24.351\\nATOM   2184  CG1 ILE   303     -18.863 -21.901  25.307\\nATOM   2185  CG2 ILE   303     -20.904 -23.332  25.038\\nATOM   2186  CD1 ILE   303     -19.660 -20.756  25.890\\nATOM   2187  N   ARG   304     -19.891 -24.647  21.800\\nATOM   2188  CA  ARG   304     -20.729 -25.516  20.981\\nATOM   2189  C   ARG   304     -20.014 -26.773  20.489\\nATOM   2190  O   ARG   304     -20.600 -27.854  20.461\\nATOM   2191  CB  ARG   304     -21.341 -24.736  19.812\\nATOM   2192  CG  ARG   304     -22.727 -24.203  20.133\\nATOM   2193  CD  ARG   304     -23.068 -22.925  19.386\\nATOM   2194  NE  ARG   304     -24.231 -22.277  19.989\\nATOM   2195  CZ  ARG   304     -24.817 -21.181  19.516\\nATOM   2196  NH1 ARG   304     -25.869 -20.670  20.141\\nATOM   2197  NH2 ARG   304     -24.354 -20.598  18.419\\nATOM   2198  N   SER   305     -18.747 -26.635  20.117\\nATOM   2199  CA  SER   305     -18.000 -27.764  19.572\\nATOM   2200  C   SER   305     -17.352 -28.649  20.637\\nATOM   2201  O   SER   305     -17.592 -29.855  20.673\\nATOM   2202  CB  SER   305     -16.951 -27.284  18.565\\nATOM   2203  OG  SER   305     -17.557 -26.887  17.348\\nATOM   2204  N   HIE   306     -16.537 -28.051  21.501\\nATOM   2205  CA  HIE   306     -15.743 -28.826  22.454\\nATOM   2206  C   HIE   306     -16.439 -29.072  23.793\\nATOM   2207  O   HIE   306     -16.175 -30.071  24.457\\nATOM   2208  CB  HIE   306     -14.384 -28.162  22.690\\nATOM   2209  CG  HIE   306     -13.657 -27.813  21.431\\nATOM   2210  CD2 HIE   306     -12.906 -28.568  20.595\\nATOM   2211  ND1 HIE   306     -13.664 -26.542  20.896\\nATOM   2212  CE1 HIE   306     -12.946 -26.529  19.788\\nATOM   2213  NE2 HIE   306     -12.476 -27.747  19.582\\nATOM   2214  N   VAL   307     -17.320 -28.163  24.191\\nATOM   2215  CA  VAL   307     -17.978 -28.270  25.491\\nATOM   2216  C   VAL   307     -19.256 -29.103  25.432\\nATOM   2217  O   VAL   307     -19.410 -30.068  26.178\\nATOM   2218  CB  VAL   307     -18.260 -26.879  26.099\\nATOM   2219  CG1 VAL   307     -19.165 -26.999  27.314\\nATOM   2220  CG2 VAL   307     -16.956 -26.186  26.469\\nATOM   2221  N   LEU   308     -20.175 -28.725  24.553\\nATOM   2222  CA  LEU   308     -21.364 -29.522  24.324\\nATOM   2223  C   LEU   308     -20.998 -30.704  23.454\\nATOM   2224  O   LEU   308     -21.699 -31.715  23.435\\nATOM   2225  CB  LEU   308     -22.461 -28.668  23.673\\nATOM   2226  CG  LEU   308     -23.432 -27.973  24.646\\nATOM   2227  CD1 LEU   308     -22.791 -27.762  25.997\\nATOM   2228  CD2 LEU   308     -23.883 -26.652  24.058\\nATOM   2229  N   ARG   309     -19.878 -30.584  22.758\\nATOM   2230  CA  ARG   309     -19.477 -31.616  21.824\\nATOM   2231  C   ARG   309     -20.459 -31.736  20.690\\nATOM   2232  O   ARG   309     -20.645 -32.827  20.154\\nATOM   2233  CB  ARG   309     -19.368 -32.969  22.507\\nATOM   2234  CG  ARG   309     -18.201 -33.061  23.453\\nATOM   2235  CD  ARG   309     -16.877 -32.644  22.807\\nATOM   2236  NE  ARG   309     -16.070 -33.794  22.388\\nATOM   2237  CZ  ARG   309     -14.862 -33.698  21.840\\nATOM   2238  NH1 ARG   309     -14.333 -32.500  21.621\\nATOM   2239  NH2 ARG   309     -14.194 -34.792  21.497\\nATOM   2240  N   GLN   310     -21.100 -30.616  20.366\\nATOM   2241  CA  GLN   310     -22.030 -30.506  19.246\\nATOM   2242  C   GLN   310     -23.336 -29.820  19.651\\nATOM   2243  O   GLN   310     -23.606 -28.679  19.263\\nATOM   2244  CB  GLN   310     -22.314 -31.870  18.620\\nATOM   2245  CG  GLN   310     -22.486 -31.839  17.115\\nATOM   2246  CD  GLN   310     -21.312 -31.188  16.403\\nATOM   2247  NE2 GLN   310     -20.989 -31.690  15.215\\nATOM   2248  OE1 GLN   310     -20.703 -30.245  16.912\\n'"
      ]
     },
     "execution_count": 23,
     "metadata": {},
     "output_type": "execute_result"
    }
   ],
   "source": [
    "# string, input protein PDB file\n",
    "response['protein']"
   ]
  },
  {
   "cell_type": "code",
   "execution_count": 24,
   "id": "5d9c66bc5f1bd3b5",
   "metadata": {
    "ExecuteTime": {
     "end_time": "2024-04-05T20:07:10.273237Z",
     "start_time": "2024-04-05T20:07:10.271156Z"
    }
   },
   "outputs": [
    {
     "data": {
      "text/plain": [
       "'Nc5nc(N3CCN2C[C@@H](Cn1ccnc1)CC[C@H]2C3)nc6nc(c4ccco4)nn56\\nCN4CCC(CC(=O)Nc3cc(n1nc(C)cc1C)nc(c2ccc(C)o2)n3)CC4\\nCOc5ccc(NC(=O)Nc3nc1nn(C)c(SC)c1c4nc(c2ccco2)nn34)cc5'"
      ]
     },
     "execution_count": 24,
     "metadata": {},
     "output_type": "execute_result"
    }
   ],
   "source": [
    "# string, input ligand file\n",
    "response['ligand']"
   ]
  },
  {
   "cell_type": "markdown",
   "id": "362b7763",
   "metadata": {},
   "source": [
    "# Usage case 2: multi GPU, large dataset\n",
    "\n",
    "In a multi-GPU instance, triton will handle concurrent requests and distribute them across the GPUs. \n",
    "\n",
    "Here is one way to do this: \n",
    "\n",
    "1. Split our input file into `N` batches, where `N` = number of GPUs on your instance.\n",
    "2. Use `asyncio` to simulataneoulsy sumbit these batches to the server. \n",
    "3. Triton server will parallelize the requests to the GPUs and return the results of each GPU. \n",
    "4. We will process the results of each GPU and combine them into a single SDF file. "
   ]
  },
  {
   "cell_type": "markdown",
   "id": "84ded3fa",
   "metadata": {},
   "source": [
    "## Input file structure\n",
    "\n",
    "Prepare a file structure like this: \n",
    "\n",
    "```bash\n",
    "batch_input_large/\n",
    "├── target1\n",
    "    |--receptor.pdb\n",
    "    |--batches\n",
    "        |--batch_0\n",
    "            |--status.csv\n",
    "        |--batch_1\n",
    "            |--status.csv\n",
    "        |--batch_2\n",
    "            |--status.csv\n",
    "        |--batch_3\n",
    "            |--status.csv\n",
    "        |--batch_4\n",
    "            |--status.csv\n",
    "        |--batch_5\n",
    "            |--status.csv\n",
    "        |--batch_6\n",
    "            |--status.csv\n",
    "        |--batch_7\n",
    "            |--status.csv\n",
    "|--target2\n",
    "...\n",
    "```\n",
    "\n",
    "Specifically:  \n",
    "- `receptor.pdb`: a PDB file of the target\n",
    "- `batches`: a folder that contains multiple batches of SMILES files. Each batch is a folder that contains a `status.csv` file. The number of batches is the same as number of GPUs. \n",
    "- `status.csv`: a CSV file that contains the status of each compound in the batch. See the next section for more details. \n",
    "\n",
    "**Example files**: See `batch_input_large` folder. "
   ]
  },
  {
   "cell_type": "markdown",
   "id": "dc75a114",
   "metadata": {},
   "source": [
    "## Prepare status.csv\n",
    "\n",
    "When running many ligands at once, it could be helpful to track the status (success, failed, timeout etc) of each ligand. In this case, instead of directly using txt file as input, we will first build a CSV file like this: \n",
    "\n",
    "```csv\n",
    "molecule_id,category,smiles,status,fail\n",
    "0,active,Nc5nc(N3CCN2C[C@@H](Cn1ccnc1)CC[C@H]2C3)nc6nc(c4ccco4)nn56,pending,0\n",
    "1,active,CN4CCC(CC(=O)Nc3cc(n1nc(C)cc1C)nc(c2ccc(C)o2)n3)CC4,pending,0\n",
    "2,active,COc5ccc(NC(=O)Nc3nc1nn(C)c(SC)c1c4nc(c2ccco2)nn34)cc5,pending,0\n",
    "```\n",
    "\n",
    "- `molecule_id`: unique ID of the molecule. \n",
    "- `category`: optional, can be a field used as some kind of notes. In this case I labeled the compound as `active` or `decoy`\n",
    "- `smiles`: SMILES\n",
    "- `status`: status of the molecule: `pending`: not predicted. `success`: predicted. `timeout`: timedout\n",
    "- `fail`: used as a flag to indicate if the molecule failed to predict. 0: not failed. 1: failed. \n",
    "\n",
    "\n",
    "**Tips**: \n",
    "1. I recommend splitting each batch **roughly** the same size. For example, if target1 has 80 compounds to predict, and we have 8 GPUs, then we will split its compound into 8 batches of 10 compounds/batch. Then we look at target2, if it has 800 compounds to predict, then we will split into 8 batches of 100 compounds/batch. Etc. \n",
    "2. In general, as you increase the batch size (e.g. number of ligands in each batch), the per-ligand prediction time will decrease. So it is desirable to use as a large batch size as possible. In practice, there are some considerations :\n",
    "    - By default, there is a limit of 4 hours per batch. This number can be changed by going into `/opt/inference.py` INSIDE the container, and modify the `TRITON_TIMEOUT` variable. So if you batch size is too large, per-batch prediction might go beyond this time limit, then you will get timeout errors.  \n",
    "    - Some GPUs might have smaller memory. If the batch size is too large, you might get out of memory erros \n",
    "    - Because of these factors, it is recommended that you try out different batch size to make sure the prediction doesn't time out and the GPU is fully utilized.\n",
    "    - Because we are iterating by target, a smaller batch might finish earlier, then its GPU becomes idle and will need to wait for the larger batch to finish.  Therefore, keeping the batches of the same target roughly the same size helps to uitilize the GPU more efficiently. \n",
    " \n",
    "\n",
    "\n",
    "**Example files**: See `batch_input_large` folder. These are taken from [DUD-E](https://dude.docking.org/). The example has 80 compounds for aa2ar, and 40 compounds for abl1."
   ]
  },
  {
   "cell_type": "markdown",
   "id": "817df744",
   "metadata": {},
   "source": [
    "## Run prediction"
   ]
  },
  {
   "cell_type": "markdown",
   "id": "f2a1a520",
   "metadata": {},
   "source": [
    "First install additional packages: \n",
    "\n",
    "```bash\n",
    "pip install aiofiles aiohttp loguru rdkit\n",
    "```\n",
    "\n",
    "Then run the prediction with \n",
    "```bash\n",
    "python3 run_diffdock_asyncio.py\n",
    "```"
   ]
  },
  {
   "cell_type": "markdown",
   "id": "6c605316",
   "metadata": {},
   "source": [
    "## Analyze the results"
   ]
  },
  {
   "cell_type": "markdown",
   "id": "73c0efce",
   "metadata": {},
   "source": [
    "### Output files"
   ]
  },
  {
   "cell_type": "markdown",
   "id": "5f20122a",
   "metadata": {},
   "source": [
    "The output file is structured like this: \n",
    "\n",
    "```bash\n",
    "output\n",
    "|--batch_output_large\n",
    "    |--5_poses_trial_0\n",
    "        |--aa2ar\n",
    "            |--batch_0\n",
    "                |--output.sdf\n",
    "                |--status.csv\n",
    "            |--batch_1\n",
    "                |--output.sdf\n",
    "                |--status.csv\n",
    "            |--batch_2\n",
    "                |--output.sdf\n",
    "                |--status.csv\n",
    "            |--batch_3\n",
    "                |--output.sdf\n",
    "                |--status.csv\n",
    "            |--batch_4\n",
    "                |--output.sdf\n",
    "                |--status.csv\n",
    "            |--batch_5\n",
    "                |--output.sdf\n",
    "                |--status.csv\n",
    "            |--batch_6\n",
    "                |--output.sdf\n",
    "                |--status.csv\n",
    "            |--batch_7\n",
    "                |--output.sdf\n",
    "                |--status.csv\n",
    "            |--log.log\n",
    "            |--time.pkl\n",
    "        |--ab1\n",
    "        ...\n",
    "```\n",
    "\n",
    "The actual folder names might differ depending on how you set it up in the python script. \n",
    "\n",
    "Specifically: \n",
    "- `output.sdf`: this is the file containing the poses of each ligand in the batch. The ID of the molecule is similar to this format: `active_ligand_id_pose_id`. The confidence score is stored as the `Confidence` property. \n",
    "- `status.csv`: this is the updated `status.csv` file containing the status of each ligand in the batch.\n",
    "- `log.log`: loguru logs. \n",
    "- `time.pkl`: This pickle file contains the total runtime in seconds (`total_runtime_sec`) and failed batch ids (`failed_batches`). The total runtime is the wall time of all batches in that specific target. The failed batches is the ID of the batches that the server returned a non-200 status code. \n"
   ]
  },
  {
   "cell_type": "markdown",
   "id": "d0d1ba53",
   "metadata": {},
   "source": [
    "### Runtime"
   ]
  },
  {
   "cell_type": "markdown",
   "id": "86c2c3f3",
   "metadata": {},
   "source": [
    "Below is the runtime using Diffodck version `nvcr.io/nim/mit/diffdock:1.2.0`\n",
    "\n",
    "\n",
    "| instance | number of poses | dataset | total run time (sec) | per ligand runtime (sec) |\n",
    "| -------- | ---------- | -------- | -------- | -------- |\n",
    "| AWS g5.48xlarge (8xA10) | 5 | aa2ar example | 19.3 | 0.24|\n",
    "| AWS g5.48xlarge (8xA10) | 5 | abl1 example | 10.9 |  0.27 |\n",
    "| AWS p3.16xlarge (8xV100)\t | 5 | aa2ar example |24.1 | 0.30 |\n",
    "| AWS p3.16xlarge (8xV100) | 5 | abl1 example| 14.3 | 0.36 |\n",
    "| DGXC 8xA100 | 5 | aa2ar example | 18.4| 0.23 |\n",
    "| DGXC 8xA100 | 5 | abl1 example |10.5 | 0.26 |\n",
    "\n",
    "Notes: \n",
    "- aa2ar example: 80 compounds, split into 8 batches of 10 compounds/batch\n",
    "- abl1 example: 40 compounds, split into 8 batches of 5 compounds/batch\n",
    "- `per ligand runtime = total runtime/number of ligands`. \n",
    "\n"
   ]
  },
  {
   "cell_type": "code",
   "execution_count": null,
   "id": "dc2dd8ec",
   "metadata": {},
   "outputs": [],
   "source": []
  },
  {
   "cell_type": "code",
   "execution_count": null,
   "id": "f8052877",
   "metadata": {},
   "outputs": [],
   "source": []
  }
 ],
 "metadata": {
  "kernelspec": {
   "display_name": "Python 3 (ipykernel)",
   "language": "python",
   "name": "python3"
  },
  "language_info": {
   "codemirror_mode": {
    "name": "ipython",
    "version": 3
   },
   "file_extension": ".py",
   "mimetype": "text/x-python",
   "name": "python",
   "nbconvert_exporter": "python",
   "pygments_lexer": "ipython3",
   "version": "3.10.12"
  }
 },
 "nbformat": 4,
 "nbformat_minor": 5
}
