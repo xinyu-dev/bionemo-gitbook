{
 "cells": [
  {
   "cell_type": "markdown",
   "metadata": {},
   "source": [
    "# Run Diffdock NIM on SageMaker JupyterLab App"
   ]
  },
  {
   "cell_type": "code",
   "execution_count": 2,
   "metadata": {},
   "outputs": [],
   "source": [
    "import boto3, requests"
   ]
  },
  {
   "cell_type": "markdown",
   "metadata": {},
   "source": [
    "## Initiate boto3 session"
   ]
  },
  {
   "cell_type": "code",
   "execution_count": 3,
   "metadata": {},
   "outputs": [],
   "source": [
    "session = boto3.Session(\n",
    "    aws_access_key_id='my_access_key_id',\n",
    "    aws_secret_access_key='my_secret_access_key',\n",
    "    aws_session_token='my_session_token'\n",
    ")"
   ]
  },
  {
   "cell_type": "code",
   "execution_count": 1,
   "metadata": {},
   "outputs": [],
   "source": [
    "# Test connection by listing buckets\n",
    "# s3_client = session.client('s3')\n",
    "# s3_client.list_buckets()"
   ]
  },
  {
   "cell_type": "markdown",
   "metadata": {},
   "source": [
    "## Create presigned domain URL"
   ]
  },
  {
   "cell_type": "code",
   "execution_count": 4,
   "metadata": {},
   "outputs": [],
   "source": [
    "def create_presigned_domain_url(domain_id, user_profile_name, space_name, seession_expiration_duration_in_seconds=43200, expires_in_seconds=300):\n",
    "\n",
    "    \"\"\"\n",
    "    Create a presigned domain URL for a SageMaker domain\n",
    "    :param domain_id: str, the ID of the SageMaker domain\n",
    "    :param user_profile_name: str, the name of the user profile\n",
    "    :param space_name: str, the name of the space (JupyterLab App)\n",
    "    :param seession_expiration_duration_in_seconds: int, the duration of the session expiration, default is 43200 seconds (12 hours)\n",
    "    :param expires_in_seconds: int, the duration of the presigned URL expiration, default is 300 seconds (5 minutes)\n",
    "    :return: str, the presigned domain URL, or None if an error occurs\n",
    "    \"\"\"\n",
    "    # Initialize a SageMaker client\n",
    "    sagemaker_client = boto3.client('sagemaker')\n",
    "\n",
    "    try: \n",
    "    # Create the presigned domain URL\n",
    "        response = sagemaker_client.create_presigned_domain_url(\n",
    "            DomainId=domain_id,\n",
    "            UserProfileName=user_profile_name,\n",
    "            SpaceName=space_name, \n",
    "            SessionExpirationDurationInSeconds=seession_expiration_duration_in_seconds, \n",
    "            ExpiresInSeconds=expires_in_seconds\n",
    "        )\n",
    "        presigned_url = response.get('AuthorizedUrl', None)\n",
    "        return presigned_url  \n",
    "    except Exception as e:\n",
    "        print(f\"Error creating presigned domain URL: {e}\")\n",
    "        return None"
   ]
  },
  {
   "cell_type": "code",
   "execution_count": 5,
   "metadata": {},
   "outputs": [
    {
     "name": "stdout",
     "output_type": "stream",
     "text": [
      "https://swbf6c9wfmnzhag.studio.us-east-1.sagemaker.aws/auth?token=eyJhbGciOiJIUzI1NiJ9.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.51jzZ_XJa2BY7s3L5E-HyFRskfTlw9BYiDt9bPysEDY\n"
     ]
    }
   ],
   "source": [
    "# Example usage\n",
    "domain_id = 'd-d9a41j1d4had'\n",
    "user_profile_name = 'xiyu'\n",
    "space_name = 'xyu-bionemo-nim' # name of the Jupyterlab app\n",
    "\n",
    "presigned_url = create_presigned_domain_url(domain_id, user_profile_name, space_name)   \n",
    "print(f\"{presigned_url}\")"
   ]
  },
  {
   "cell_type": "code",
   "execution_count": 6,
   "metadata": {},
   "outputs": [],
   "source": [
    "# create a session with the presigned URL\n",
    "session = requests.Session()\n",
    "response = session.get(presigned_url)\n",
    "assert response.status_code == 200\n"
   ]
  },
  {
   "cell_type": "markdown",
   "metadata": {},
   "source": [
    "## Build urls\n",
    "\n",
    "First, go to the running JuptyerLab. Find the `sagemaker-space-id` on your browser. It looks something like this: \n",
    "\n",
    "```\n",
    "https://<sagemaker-space-id>.studio.us-east-2.sagemaker.aws/jupyterlab/default/\n",
    "```\n",
    "\n",
    "![](../images/jupyterlab-app-url-example.png)"
   ]
  },
  {
   "cell_type": "code",
   "execution_count": 7,
   "metadata": {},
   "outputs": [],
   "source": [
    "sagemaker_space_id = 'swbf6c9wfmnzhag' # replace with your space id\n",
    "base_url = f'https://{sagemaker_space_id}.studio.us-east-1.sagemaker.aws/jupyterlab/default/proxy/8000'\n",
    "health_check_url = f'{base_url}/v1/health/ready'\n",
    "query_url = f'{base_url}/molecular-docking/diffdock/generate'"
   ]
  },
  {
   "cell_type": "markdown",
   "metadata": {},
   "source": [
    "## Run health check remotely"
   ]
  },
  {
   "cell_type": "code",
   "execution_count": 8,
   "metadata": {},
   "outputs": [],
   "source": [
    "response = session.get(health_check_url)\n",
    "assert response.text == \"true\", \"Health check failed\""
   ]
  },
  {
   "cell_type": "code",
   "execution_count": null,
   "metadata": {},
   "outputs": [],
   "source": []
  },
  {
   "cell_type": "markdown",
   "metadata": {},
   "source": [
    "## Submit query remotely"
   ]
  },
  {
   "cell_type": "code",
   "execution_count": 9,
   "metadata": {},
   "outputs": [],
   "source": [
    "def submit_query(protein_file_path, ligand_file_path, num_poses=20, time_divisions=20, steps=18):\n",
    "    \"\"\"\n",
    "    Submit a query to the server\n",
    "    :param protein_file_path: path to the protein file, must be a PDB file\n",
    "    :param ligand_file_path: path to the ligand file, must be a txt, SDF, MOL2, file. If using batch-docking, only txt and SDF are supported. \n",
    "    :param num_poses: int, number of poses to be generated, default is 20\n",
    "    :param time_divisions: int, number of time divisions, default is 20\n",
    "    :param steps: int, number of diffusion steps, default is 18\n",
    "    :return: dict of response, status code and JSON response content if successful, otherwise return status code and error message\n",
    "    \"\"\"\n",
    "\n",
    "    with open(protein_file_path, 'r') as file:\n",
    "        protein_bytes = file.read()\n",
    "    with open(ligand_file_path, 'r') as file:\n",
    "        ligand_bytes = file.read()\n",
    "\n",
    "    ligand_file_type = ligand_file_path.split('.')[-1]\n",
    "    \n",
    "    data = {\n",
    "        \"ligand\": ligand_bytes,\n",
    "        \"ligand_file_type\": ligand_file_type, # txt, sdf, mol2\n",
    "        \"protein\": protein_bytes,\n",
    "        \"num_poses\": num_poses,\n",
    "        \"time_divisions\": time_divisions,\n",
    "        \"steps\": steps,\n",
    "        \"save_trajectory\": False, # diffusion trajectory\n",
    "        \"is_staged\": False\n",
    "    }\n",
    "    \n",
    "    headers = {\"Content-Type\": \"application/json\"}\n",
    "\n",
    "    response = session.post(query_url, headers=headers, json=data)\n",
    "    status_code = response.status_code\n",
    "    try:\n",
    "        response.raise_for_status() # optional, immediately fails if the status code is not 200\n",
    "        output = {\n",
    "            \"status_code\": status_code,\n",
    "            \"response\": response.json()\n",
    "        }\n",
    "    except:\n",
    "        output = {\n",
    "            \"status_code\": status_code,\n",
    "            \"response\": response.text()   \n",
    "        }\n",
    "    \n",
    "    return output\n"
   ]
  },
  {
   "cell_type": "code",
   "execution_count": 10,
   "metadata": {},
   "outputs": [
    {
     "name": "stdout",
     "output_type": "stream",
     "text": [
      "CPU times: user 5.04 ms, sys: 1.96 ms, total: 7 ms\n",
      "Wall time: 7.84 s\n"
     ]
    }
   ],
   "source": [
    "%%time\n",
    "result = submit_query(\n",
    "    protein_file_path=\"data/batch_input_small/receptor.pdb\",\n",
    "    ligand_file_path=\"data/batch_input_small/input_smiles.txt\",\n",
    "    num_poses=5, \n",
    "    time_divisions=20, \n",
    "    steps=18\n",
    ")"
   ]
  },
  {
   "cell_type": "markdown",
   "metadata": {},
   "source": [
    "## Analyze results"
   ]
  },
  {
   "cell_type": "code",
   "execution_count": 16,
   "metadata": {},
   "outputs": [
    {
     "data": {
      "text/plain": [
       "dict_keys(['status_code', 'response'])"
      ]
     },
     "execution_count": 16,
     "metadata": {},
     "output_type": "execute_result"
    }
   ],
   "source": [
    "result.keys()"
   ]
  },
  {
   "cell_type": "code",
   "execution_count": 17,
   "metadata": {},
   "outputs": [
    {
     "data": {
      "text/plain": [
       "dict_keys(['trajectory', 'ligand_positions', 'position_confidence', 'status', 'protein', 'ligand'])"
      ]
     },
     "execution_count": 17,
     "metadata": {},
     "output_type": "execute_result"
    }
   ],
   "source": [
    "response = result['response']\n",
    "response.keys()"
   ]
  },
  {
   "cell_type": "code",
   "execution_count": 18,
   "metadata": {},
   "outputs": [
    {
     "data": {
      "text/plain": [
       "['success', 'success', 'success']"
      ]
     },
     "execution_count": 18,
     "metadata": {},
     "output_type": "execute_result"
    }
   ],
   "source": [
    "# 3 input ligands, all showed success\n",
    "response['status']"
   ]
  },
  {
   "cell_type": "code",
   "execution_count": 19,
   "metadata": {},
   "outputs": [
    {
     "data": {
      "text/plain": [
       "'protein_ligand_0\\n     RDKit          3D\\n\\n 31 36  0  0  0  0  0  0  0  0999 V2000\\n   -8.0381   -4.8383   56.1620 N   0  0  0  0  0  0  0  0  0  0  0  0\\n   -8.3271   -6.1432   55.7041 C   0  0  0  0  0  0  0  0  0  0  0  0\\n   -9.0236   -7.0513   56.4274 N   0  0  0  0  0  0  0  0  0  0  0  0\\n   -9.2966   -8.2848   55.9944 C   0  0  0  0  0  0  0  0  0  0  0  0\\n  -10.0287   -9.2136   56.7750 N   0  0  0  0  0  0  0  0  0  0  0  0\\n  -10.3223  -10.5127   56.1703 C   0  0  0  0  0  0  0  0  0  0  0  0\\n  -10.9089  -11.3569   57.3107 C   0  0  0  0  0  0  0  0  0  0  0  0\\n  -12.0309  -10.6637   57.8155 N   0  0  0  0  0  0  0  0  0  0  0  0\\n  -13.1384  -11.4212   58.2274 C   0  0  0  0  0  0  0  0  0  0  0  0\\n  -13.3743  -11.4900   59.7065 C   0  0  1  0  0  0  0  0  0  0  0  0\\n  -13.5281  -12.9604   60.1133 C   0  0  0  0  0  0  0  0  0  0  0  0\\n  -14.4159  -13.1156   61.2228 N   0  0  0  0  0  0  0  0  0  0  0  0\\n  -14.4055  -14.0703   62.1678 C   0  0  0  0  0  0  0  0  0  0  0  0\\n  -15.4443  -13.8516   63.0650 C   0  0  0  0  0  0  0  0  0  0  0  0\\n  -16.0704  -12.7511   62.6355 N   0  0  0  0  0  0  0  0  0  0  0  0\\n  -15.4454  -12.3064   61.5185 C   0  0  0  0  0  0  0  0  0  0  0  0\\n  -12.2241  -10.9013   60.4788 C   0  0  0  0  0  0  0  0  0  0  0  0\\n  -11.9213   -9.5064   59.9802 C   0  0  0  0  0  0  0  0  0  0  0  0\\n  -11.7868   -9.4415   58.4891 C   0  0  1  0  0  0  0  0  0  0  0  0\\n  -10.4516   -8.8675   58.1007 C   0  0  0  0  0  0  0  0  0  0  0  0\\n   -8.8536   -8.6351   54.7769 N   0  0  0  0  0  0  0  0  0  0  0  0\\n   -8.1498   -7.7526   54.0174 C   0  0  0  0  0  0  0  0  0  0  0  0\\n   -7.5957   -7.8331   52.7863 N   0  0  0  0  0  0  0  0  0  0  0  0\\n   -6.9940   -6.6610   52.4780 C   0  0  0  0  0  0  0  0  0  0  0  0\\n   -6.2835   -6.3587   51.2304 C   0  0  0  0  0  0  0  0  0  0  0  0\\n   -5.8442   -7.2721   50.2802 C   0  0  0  0  0  0  0  0  0  0  0  0\\n   -5.2298   -6.5592   49.2747 C   0  0  0  0  0  0  0  0  0  0  0  0\\n   -5.3211   -5.2366   49.6563 C   0  0  0  0  0  0  0  0  0  0  0  0\\n   -5.9455   -5.1804   50.8051 O   0  0  0  0  0  0  0  0  0  0  0  0\\n   -7.1892   -5.8611   53.5415 N   0  0  0  0  0  0  0  0  0  0  0  0\\n   -7.8865   -6.5196   54.4704 N   0  0  0  0  0  0  0  0  0  0  0  0\\n  1  2  1  0\\n  2  3  2  0\\n  3  4  1  0\\n  4  5  1  0\\n  5  6  1  0\\n  6  7  1  0\\n  7  8  1  0\\n  8  9  1  0\\n  9 10  1  0\\n 10 11  1  1\\n 11 12  1  0\\n 12 13  1  0\\n 13 14  2  0\\n 14 15  1  0\\n 15 16  2  0\\n 10 17  1  0\\n 17 18  1  0\\n 19 18  1  1\\n 19 20  1  0\\n  4 21  2  0\\n 21 22  1  0\\n 22 23  2  0\\n 23 24  1  0\\n 24 25  1  0\\n 25 26  2  0\\n 26 27  1  0\\n 27 28  2  0\\n 28 29  1  0\\n 24 30  2  0\\n 30 31  1  0\\n 16 12  1  0\\n 19  8  1  0\\n 20  5  1  0\\n 29 25  1  0\\n 31  2  1  0\\n 31 22  1  0\\nM  END\\n$$$$\\n'"
      ]
     },
     "execution_count": 19,
     "metadata": {},
     "output_type": "execute_result"
    }
   ],
   "source": [
    "poses = response['ligand_positions']\n",
    "\n",
    "assert len(poses) == 3 # we have 3 ligandsin the `input_smiles.txt` file. \n",
    "\n",
    "# let's look at the first ligand. It has 5 predicted poses\n",
    "assert len(poses[0]) == 5\n",
    "\n",
    "# let's look at the first pose of the first ligand. \n",
    "poses[0][0]"
   ]
  },
  {
   "cell_type": "code",
   "execution_count": 20,
   "metadata": {},
   "outputs": [
    {
     "data": {
      "text/plain": [
       "[-0.6733115315437317,\n",
       " -0.8990067839622498,\n",
       " -1.310671329498291,\n",
       " -1.9104959964752197,\n",
       " -3.0547292232513428]"
      ]
     },
     "execution_count": 20,
     "metadata": {},
     "output_type": "execute_result"
    }
   ],
   "source": [
    "# this is a list of 3 input ligands\n",
    "assert len(response['position_confidence']) == 3\n",
    "\n",
    "# each sublist has 5 scores, one score for each pose\n",
    "assert len(response['position_confidence'][0]) == 5\n",
    "\n",
    "# here is what the confidence scores of the 1st ligand looks like\n",
    "response['position_confidence'][0]"
   ]
  },
  {
   "cell_type": "code",
   "execution_count": 20,
   "metadata": {},
   "outputs": [],
   "source": [
    "from rdkit import Chem\n",
    "from rdkit.Chem import AllChem, SDWriter\n",
    "import os\n",
    "import numpy as np\n",
    "import shutil\n",
    "\n",
    "# utility function to prepare (start clean) the output directory\n",
    "def prepare_directory(temp):\n",
    "    \"\"\"\n",
    "    Create a new directory and delete the old one if it exists\n",
    "    :param temp: str: path to the directory\n",
    "    \"\"\"\n",
    "    if os.path.exists(temp):\n",
    "        # Remove the directory and all its contents\n",
    "        shutil.rmtree(temp)\n",
    "    # Recreate the directory\n",
    "    os.makedirs(temp)\n",
    "\n",
    "\n",
    "# change it to your desired output directory. use the `prepare_directory` function to start clean. \n",
    "output_dir = \"output/batch_output_small\" \n",
    "prepare_directory(output_dir) \n",
    "\n",
    "# output SDF file which has all ligands and all poses\n",
    "output_sdf_file = os.path.join(output_dir, 'output.sdf') # output file path\n",
    "\n",
    "# create a writer\n",
    "writer = SDWriter(output_sdf_file)\n",
    "\n",
    "# select indices where status is succes\n",
    "status_array = np.array(response['status'])\n",
    "success_indices = np.where(status_array == 'success')[0]\n",
    "\n",
    "for i in success_indices:\n",
    "    # e.g. ligand ID will be ligand_0, ligand_1, etc\n",
    "    ligand_id = 'ligand_' + str(i)\n",
    "\n",
    "    # get the ligand poses and confidence scores\n",
    "    ligand_positions = response['ligand_positions'][i]\n",
    "    confidence_scores = response['position_confidence'][i]\n",
    "\n",
    "    # write to SDF file\n",
    "    for idx, sdf_str in enumerate(ligand_positions):\n",
    "        mol = Chem.MolFromMolBlock(sdf_str)\n",
    "        if mol:\n",
    "            try: \n",
    "                # sanitize the molecule\n",
    "                Chem.SanitizeMol(mol)\n",
    "                # set the name, like ligand_0_pose_0, ligand_0_pose_1, etc \n",
    "                mol.SetProp(\"_Name\", ligand_id+f'_pose_{str(idx)}')\n",
    "                # set the confidence score as a property\n",
    "                mol.SetProp(\"Confidence\", str(np.round(confidence_scores[idx], 4)))\n",
    "                writer.write(mol)\n",
    "            except:\n",
    "                print(f\"Failed to sanitize molecule {ligand_id}_pose_{str(idx)}\")\n",
    "                continue\n"
   ]
  },
  {
   "cell_type": "markdown",
   "metadata": {},
   "source": [
    "You can now go to `output_dir = \"output/batch_output_small\" ` and see the output SDF file. "
   ]
  },
  {
   "cell_type": "markdown",
   "metadata": {},
   "source": [
    "![](../images/Diffdock_result.png)"
   ]
  },
  {
   "cell_type": "code",
   "execution_count": null,
   "metadata": {},
   "outputs": [],
   "source": []
  }
 ],
 "metadata": {
  "kernelspec": {
   "display_name": "bionemo-api",
   "language": "python",
   "name": "python3"
  },
  "language_info": {
   "codemirror_mode": {
    "name": "ipython",
    "version": 3
   },
   "file_extension": ".py",
   "mimetype": "text/x-python",
   "name": "python",
   "nbconvert_exporter": "python",
   "pygments_lexer": "ipython3",
   "version": "3.12.5"
  }
 },
 "nbformat": 4,
 "nbformat_minor": 2
}
