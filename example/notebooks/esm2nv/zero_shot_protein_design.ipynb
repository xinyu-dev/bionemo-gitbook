{
 "cells": [
  {
   "cell_type": "markdown",
   "id": "ddb3e4bc32d2a772",
   "metadata": {
    "collapsed": false
   },
   "source": [
    "# Zero Shot Protein Design using ESM2"
   ]
  },
  {
   "cell_type": "code",
   "execution_count": 1,
   "id": "c4bf4e0888849de1",
   "metadata": {
    "ExecuteTime": {
     "end_time": "2024-02-08T17:27:56.459697Z",
     "start_time": "2024-02-08T17:27:55.418546Z"
    },
    "collapsed": false
   },
   "outputs": [],
   "source": [
    "from bionemo.api import BionemoClient\n",
    "from bionemo.request_id import RequestId\n",
    "import torch\n",
    "from transformers import AutoTokenizer\n",
    "import pandas as pd\n"
   ]
  },
  {
   "cell_type": "markdown",
   "id": "c4c8034f7185efe4",
   "metadata": {
    "collapsed": false
   },
   "source": [
    "# Credentials"
   ]
  },
  {
   "cell_type": "code",
   "execution_count": 2,
   "id": "6ebf530ee54beb5a",
   "metadata": {
    "ExecuteTime": {
     "end_time": "2024-02-08T16:47:06.735419Z",
     "start_time": "2024-02-08T16:47:05.917334Z"
    },
    "collapsed": false
   },
   "outputs": [],
   "source": [
    "# use NGC api key. Must have access to BioNeMo service (not the BioNeMo framework)\n",
    "api = BionemoClient(\n",
    "    api_key='YOUR_API_KEY',\n",
    ")"
   ]
  },
  {
   "cell_type": "markdown",
   "id": "8f09a02308a07ed7",
   "metadata": {
    "collapsed": false
   },
   "source": [
    "# Prepare data"
   ]
  },
  {
   "cell_type": "code",
   "execution_count": 3,
   "id": "48d00d5291934e91",
   "metadata": {
    "ExecuteTime": {
     "end_time": "2024-02-08T17:07:00.741057Z",
     "start_time": "2024-02-08T17:07:00.735794Z"
    },
    "collapsed": false
   },
   "outputs": [
    {
     "name": "stdout",
     "output_type": "stream",
     "text": [
      "Length of Protein 1:  148\n",
      "Length of Protein 2:  1210\n"
     ]
    }
   ],
   "source": [
    "# sequences\n",
    "# lsozyme\n",
    "protein1 = \"MKALIVLGLVLLSVTVQGKVFERCELARTLKRLGMDGYRGISLANWMCLAKWESGYNTRATNYNAGDRSTDYGIFQINSRYWCNDGKTPGAVNACHLSCSALLQDNIADAVACAKRVVRDPQGIRAWVAWRNRCQNRDVRQYVQGCGV\"\n",
    "\n",
    "# EGFR\n",
    "protein2 = \"MRPSGTAGAALLALLAALCPASRALEEKKVCQGTSNKLTQLGTFEDHFLSLQRMFNNCEVVLGNLEITYVQRNYDLSFLKTIQEVAGYVLIALNTVERIPLENLQIIRGNMYYENSYALAVLSNYDANKTGLKELPMRNLQEILHGAVRFSNNPALCNVESIQWRDIVSSDFLSNMSMDFQNHLGSCQKCDPSCPNGSCWGAGEENCQKLTKIICAQQCSGRCRGKSPSDCCHNQCAAGCTGPRESDCLVCRKFRDEATCKDTCPPLMLYNPTTYQMDVNPEGKYSFGATCVKKCPRNYVVTDHGSCVRACGADSYEMEEDGVRKCKKCEGPCRKVCNGIGIGEFKDSLSINATNIKHFKNCTSISGDLHILPVAFRGDSFTHTPPLDPQELDILKTVKEITGFLLIQAWPENRTDLHAFENLEIIRGRTKQHGQFSLAVVSLNITSLGLRSLKEISDGDVIISGNKNLCYANTINWKKLFGTSGQKTKIISNRGENSCKATGQVCHALCSPEGCWGPEPRDCVSCRNVSRGRECVDKCNLLEGEPREFVENSECIQCHPECLPQAMNITCTGRGPDNCIQCAHYIDGPHCVKTCPAGVMGENNTLVWKYADAGHVCHLCHPNCTYGCTGPGLEGCPTNGPKIPSIATGMVGALLLLLVVALGIGLFMRRRHIVRKRTLRRLLQERELVEPLTPSGEAPNQALLRILKETEFKKIKVLGSGAFGTVYKGLWIPEGEKVKIPVAIKELREATSPKANKEILDEAYVMASVDNPHVCRLLGICLTSTVQLITQLMPFGCLLDYVREHKDNIGSQYLLNWCVQIAKGMNYLEDRRLVHRDLAARNVLVKTPQHVKITDFGLAKLLGAEEKEYHAEGGKVPIKWMALESILHRIYTHQSDVWSYGVTVWELMTFGSKPYDGIPASEISSILEKGERLPQPPICTIDVYMIMVKCWMIDADSRPKFRELIIEFSKMARDPQRYLVIQGDERMHLPSPTDSNFYRALMDEEDMDDVVDADEYLIPQQGFFSSPSTSRTPLLSSLSATSNNSTVACIDRNGLQSCPIKEDSFLQRYSSDPTGALTEDSIDDTFLPVPEYINQSVPKRPAGSVQNPVYHNQPLNPAPSRDPHYQDPHSTAVGNPEYLNTVQPTCVNSTFDSPAHWAQKGSHQISLDNPDYQQDFFPKEAKPNGIFKGSTAENAEYLRVAPQSSEFIGA\"\n",
    "\n",
    "print(\"Length of Protein 1: \", len(protein1))\n",
    "print(\"Length of Protein 2: \", len(protein2))"
   ]
  },
  {
   "cell_type": "markdown",
   "id": "49aafac0d4ab0e47",
   "metadata": {
    "collapsed": false
   },
   "source": [
    "Note that the Protein 2 has a sequence longer than 1024 amino acid. This will result in an error during call. Truncate it to 1024 amino acid."
   ]
  },
  {
   "cell_type": "code",
   "execution_count": 4,
   "id": "1467e936b46b71b4",
   "metadata": {
    "ExecuteTime": {
     "end_time": "2024-02-08T17:07:02.436067Z",
     "start_time": "2024-02-08T17:07:02.434578Z"
    },
    "collapsed": false
   },
   "outputs": [],
   "source": [
    "max_input_length = 1024\n",
    "protein2 = protein2[:max_input_length]"
   ]
  },
  {
   "cell_type": "markdown",
   "id": "a0fc4f8b601c9f91",
   "metadata": {
    "collapsed": false
   },
   "source": [
    "# ESM2\n",
    "\n",
    "Current version only has `sync` prediction, but no `async`"
   ]
  },
  {
   "cell_type": "markdown",
   "id": "b405b0be2398ce8a",
   "metadata": {
    "collapsed": false
   },
   "source": [
    "## Submit request"
   ]
  },
  {
   "cell_type": "code",
   "execution_count": 5,
   "id": "1246920804f0828c",
   "metadata": {
    "ExecuteTime": {
     "end_time": "2024-02-08T17:07:14.418474Z",
     "start_time": "2024-02-08T17:07:04.687452Z"
    },
    "collapsed": false
   },
   "outputs": [],
   "source": [
    "result = api.esm2_sync(\n",
    "    sequences=[protein1, protein2], \n",
    "    model=\"650m\", # 650m, 3b, 15b \n",
    ")\n"
   ]
  },
  {
   "cell_type": "markdown",
   "id": "aa97ec91cc8c1cf7",
   "metadata": {
    "collapsed": false
   },
   "source": [
    "## Results"
   ]
  },
  {
   "cell_type": "code",
   "execution_count": 6,
   "id": "b08baff670c90e84",
   "metadata": {
    "ExecuteTime": {
     "end_time": "2024-02-08T17:38:49.216645Z",
     "start_time": "2024-02-08T17:38:49.211037Z"
    },
    "collapsed": false
   },
   "outputs": [
    {
     "data": {
      "text/plain": [
       "2"
      ]
     },
     "execution_count": 6,
     "metadata": {},
     "output_type": "execute_result"
    }
   ],
   "source": [
    "# lengths of resullt = number of proteins\n",
    "len(result)"
   ]
  },
  {
   "cell_type": "code",
   "execution_count": 7,
   "id": "6812028bffac1c39",
   "metadata": {
    "ExecuteTime": {
     "end_time": "2024-02-08T17:38:49.564674Z",
     "start_time": "2024-02-08T17:38:49.548835Z"
    },
    "collapsed": false
   },
   "outputs": [
    {
     "data": {
      "text/plain": [
       "dict_keys(['embeddings', 'logits', 'tokens', 'representations'])"
      ]
     },
     "execution_count": 7,
     "metadata": {},
     "output_type": "execute_result"
    }
   ],
   "source": [
    "protein_id = 0\n",
    "result[protein_id].keys()"
   ]
  },
  {
   "cell_type": "markdown",
   "id": "67e4d6dce7cf1240",
   "metadata": {
    "collapsed": false
   },
   "source": [
    "### Per sequence embedding\n",
    "\n",
    "Get per sequence embedding. Shape = (Number_of_features, )\n"
   ]
  },
  {
   "cell_type": "code",
   "execution_count": 8,
   "id": "c509fca2c99b3c95",
   "metadata": {
    "ExecuteTime": {
     "end_time": "2024-02-08T17:38:50.768243Z",
     "start_time": "2024-02-08T17:38:50.763107Z"
    },
    "collapsed": false
   },
   "outputs": [
    {
     "data": {
      "text/plain": [
       "(1280,)"
      ]
     },
     "execution_count": 8,
     "metadata": {},
     "output_type": "execute_result"
    }
   ],
   "source": [
    "result[protein_id]['embeddings'].shape"
   ]
  },
  {
   "cell_type": "markdown",
   "id": "e5f6baeb77ed0a76",
   "metadata": {
    "collapsed": false
   },
   "source": [
    "### Per residue embedding\n",
    "\n",
    "Get per residue embedding. Shape = (Number_of_residues, Number_of_features)"
   ]
  },
  {
   "cell_type": "code",
   "execution_count": 9,
   "id": "7ac478e436f3e10e",
   "metadata": {
    "ExecuteTime": {
     "end_time": "2024-02-08T17:38:52.010851Z",
     "start_time": "2024-02-08T17:38:52.007438Z"
    },
    "collapsed": false
   },
   "outputs": [
    {
     "data": {
      "text/plain": [
       "(148, 1280)"
      ]
     },
     "execution_count": 9,
     "metadata": {},
     "output_type": "execute_result"
    }
   ],
   "source": [
    "# logits\n",
    "result[protein_id]['representations'].shape"
   ]
  },
  {
   "cell_type": "markdown",
   "id": "3e9b18347b0925ea",
   "metadata": {
    "collapsed": false
   },
   "source": [
    "note that the sequences in the same requests are NOT padded to the longest length in the submission. "
   ]
  },
  {
   "cell_type": "markdown",
   "id": "ebec4410958dce12",
   "metadata": {
    "collapsed": false
   },
   "source": [
    "## Zero-shot protein design workflow"
   ]
  },
  {
   "cell_type": "markdown",
   "id": "7bc6739ed34bb76b",
   "metadata": {
    "collapsed": false
   },
   "source": [
    "The model's probability prediction for each token at each position. Can be used for zero-shot protein/antibody designs as described by [papers like this](https://www.nature.com/articles/s41587-023-01763-2):  \n",
    "\n",
    "The tokens used in ESM2nv-650M is same as in the [huggingface hub](https://huggingface.co/facebook/esm2_t33_650M_UR50D/blob/main/vocab.txt). For example, here we have 33 tokens. Hence the logits has shape (Number_of_residues, 33)"
   ]
  },
  {
   "cell_type": "code",
   "execution_count": 10,
   "id": "5bc9f5bc3a12b443",
   "metadata": {
    "ExecuteTime": {
     "end_time": "2024-02-08T17:39:26.839054Z",
     "start_time": "2024-02-08T17:39:26.822335Z"
    },
    "collapsed": false
   },
   "outputs": [
    {
     "data": {
      "text/plain": [
       "(148, 33)"
      ]
     },
     "execution_count": 10,
     "metadata": {},
     "output_type": "execute_result"
    }
   ],
   "source": [
    "result[protein_id]['logits'].shape"
   ]
  },
  {
   "cell_type": "markdown",
   "id": "98699fcdea882726",
   "metadata": {
    "collapsed": false
   },
   "source": [
    "The model assigns a probability to each of the tokens at each position in the protein. The token with the highest probability is the predicted token. You can retrieve the probability using the `softmax` function."
   ]
  },
  {
   "cell_type": "code",
   "execution_count": 11,
   "id": "57b337723e3373d3",
   "metadata": {
    "ExecuteTime": {
     "end_time": "2024-02-08T17:39:32.916404Z",
     "start_time": "2024-02-08T17:39:32.900161Z"
    },
    "collapsed": false
   },
   "outputs": [
    {
     "data": {
      "text/plain": [
       "torch.Size([148, 33])"
      ]
     },
     "execution_count": 11,
     "metadata": {},
     "output_type": "execute_result"
    }
   ],
   "source": [
    "probs = torch.softmax(torch.tensor(result[protein_id]['logits']), dim=-1)\n",
    "probs.shape"
   ]
  },
  {
   "cell_type": "markdown",
   "id": "f014f5ddae66fe0c",
   "metadata": {
    "collapsed": false
   },
   "source": [
    "Get the token with the highest probability: "
   ]
  },
  {
   "cell_type": "code",
   "execution_count": 12,
   "id": "19e1b37e6e130e7b",
   "metadata": {
    "ExecuteTime": {
     "end_time": "2024-02-08T17:39:34.817325Z",
     "start_time": "2024-02-08T17:39:34.811508Z"
    },
    "collapsed": false
   },
   "outputs": [
    {
     "data": {
      "text/plain": [
       "tensor([20, 15,  5,  4, 12,  7,  4,  6,  4,  7,  4,  4,  8,  7, 11,  7, 16,  6,\n",
       "        15,  7, 18,  9, 10, 23,  9,  4,  5, 10, 11,  4, 15, 10,  4,  6, 20, 13,\n",
       "         6, 19, 10,  6, 12,  8,  4,  5, 17,  4, 20, 23,  4,  5, 15, 22,  9,  8,\n",
       "         6, 19, 17, 11, 10,  5, 11, 17, 19, 17,  5,  6, 13, 10,  8, 11,  7, 19,\n",
       "         6, 12, 18, 16, 12, 17,  8, 10, 19, 22, 23, 17, 13,  6, 15, 11, 14,  6,\n",
       "         5,  7, 17,  5, 23, 21,  4,  8, 23,  8,  5,  4,  4, 16, 13, 17, 12,  5,\n",
       "        13,  5,  7,  5, 23,  5, 15, 10,  7,  7, 10, 13, 14, 16,  6, 12, 10,  5,\n",
       "        22,  7,  5, 22, 10, 17, 10, 23, 16, 17, 10, 13,  7, 10, 16, 19,  7, 16,\n",
       "         6, 23,  6,  7])"
      ]
     },
     "execution_count": 12,
     "metadata": {},
     "output_type": "execute_result"
    }
   ],
   "source": [
    "preds = torch.argmax(probs, axis =-1)\n",
    "preds"
   ]
  },
  {
   "cell_type": "markdown",
   "id": "2d5b11e92db2ee6b",
   "metadata": {
    "collapsed": false
   },
   "source": [
    "To conver the token back to amino acids, use tokenizer: "
   ]
  },
  {
   "cell_type": "code",
   "execution_count": 13,
   "id": "ee9f940aaadf1178",
   "metadata": {
    "ExecuteTime": {
     "end_time": "2024-02-08T17:39:37.343421Z",
     "start_time": "2024-02-08T17:39:36.768533Z"
    },
    "collapsed": false
   },
   "outputs": [],
   "source": [
    "# load the tokenizer, for example, 650M \n",
    "tokenizer = AutoTokenizer.from_pretrained(\"facebook/esm2_t33_650M_UR50D\") # change it to a different tokenizer if it is not ESM2nv-650M"
   ]
  },
  {
   "cell_type": "code",
   "execution_count": 14,
   "id": "b02b810b1ecef65a",
   "metadata": {
    "ExecuteTime": {
     "end_time": "2024-02-08T17:39:40.041414Z",
     "start_time": "2024-02-08T17:39:40.028316Z"
    },
    "collapsed": false
   },
   "outputs": [
    {
     "data": {
      "text/plain": [
       "'MKALIVLGLVLLSVTVQGKVFERCELARTLKRLGMDGYRGISLANLMCLAKWESGYNTRATNYNAGDRSTVYGIFQINSRYWCNDGKTPGAVNACHLSCSALLQDNIADAVACAKRVVRDPQGIRAWVAWRNRCQNRDVRQYVQGCGV'"
      ]
     },
     "execution_count": 14,
     "metadata": {},
     "output_type": "execute_result"
    }
   ],
   "source": [
    "# look at the predicted sequence\n",
    "protein1_pred = ''.join(tokenizer.convert_ids_to_tokens(preds))\n",
    "protein1_pred"
   ]
  },
  {
   "cell_type": "markdown",
   "id": "30f121d75dab20dc",
   "metadata": {
    "collapsed": false
   },
   "source": [
    "Now we can align the original protein 1 and the predicted protein 1 sequence. An exmaple is shown below \n",
    "\n",
    "![image](https://github.com/xinyu-dev/bionemo-demo/blob/main/assets/images/notebook_lysozyme_zero_shot.png?raw=true)"
   ]
  },
  {
   "cell_type": "markdown",
   "id": "177ef99702dc01f1",
   "metadata": {
    "collapsed": false
   },
   "source": [
    "Note that in most positions, the model predicted the same amino acid as the original input. This is expected for a protein that is evolved through the natural selection process. \n",
    "\n",
    "The model proposed 2 mutations: \n",
    "- W46L\n",
    "- D71V\n",
    "\n",
    "Single and/or combo mutations can the be designed for testing in wet lab. \n",
    "\n",
    "You can also view the complete probability matrix like this: "
   ]
  },
  {
   "cell_type": "code",
   "execution_count": 15,
   "id": "11c8b5df74fdde52",
   "metadata": {
    "ExecuteTime": {
     "end_time": "2024-02-08T17:39:48.273057Z",
     "start_time": "2024-02-08T17:39:48.269970Z"
    },
    "collapsed": false
   },
   "outputs": [
    {
     "data": {
      "text/html": [
       "<div>\n",
       "<style scoped>\n",
       "    .dataframe tbody tr th:only-of-type {\n",
       "        vertical-align: middle;\n",
       "    }\n",
       "\n",
       "    .dataframe tbody tr th {\n",
       "        vertical-align: top;\n",
       "    }\n",
       "\n",
       "    .dataframe thead th {\n",
       "        text-align: right;\n",
       "    }\n",
       "</style>\n",
       "<table border=\"1\" class=\"dataframe\">\n",
       "  <thead>\n",
       "    <tr style=\"text-align: right;\">\n",
       "      <th></th>\n",
       "      <th>&lt;cls&gt;</th>\n",
       "      <th>&lt;pad&gt;</th>\n",
       "      <th>&lt;eos&gt;</th>\n",
       "      <th>&lt;unk&gt;</th>\n",
       "      <th>L</th>\n",
       "      <th>A</th>\n",
       "      <th>G</th>\n",
       "      <th>V</th>\n",
       "      <th>S</th>\n",
       "      <th>E</th>\n",
       "      <th>...</th>\n",
       "      <th>C</th>\n",
       "      <th>X</th>\n",
       "      <th>B</th>\n",
       "      <th>U</th>\n",
       "      <th>Z</th>\n",
       "      <th>O</th>\n",
       "      <th>.</th>\n",
       "      <th>-</th>\n",
       "      <th>&lt;null_1&gt;</th>\n",
       "      <th>&lt;mask&gt;</th>\n",
       "    </tr>\n",
       "  </thead>\n",
       "  <tbody>\n",
       "    <tr>\n",
       "      <th>0</th>\n",
       "      <td>8.093410e-08</td>\n",
       "      <td>1.267929e-09</td>\n",
       "      <td>1.089087e-07</td>\n",
       "      <td>1.267929e-09</td>\n",
       "      <td>0.009205</td>\n",
       "      <td>0.005532</td>\n",
       "      <td>0.008580</td>\n",
       "      <td>0.010299</td>\n",
       "      <td>0.004118</td>\n",
       "      <td>0.003821</td>\n",
       "      <td>...</td>\n",
       "      <td>0.002218</td>\n",
       "      <td>0.000059</td>\n",
       "      <td>1.713375e-07</td>\n",
       "      <td>9.171035e-08</td>\n",
       "      <td>6.709672e-08</td>\n",
       "      <td>1.482360e-09</td>\n",
       "      <td>6.475950e-10</td>\n",
       "      <td>7.571153e-10</td>\n",
       "      <td>7.512233e-10</td>\n",
       "      <td>1.248272e-09</td>\n",
       "    </tr>\n",
       "    <tr>\n",
       "      <th>1</th>\n",
       "      <td>1.896748e-07</td>\n",
       "      <td>8.251510e-10</td>\n",
       "      <td>1.524080e-07</td>\n",
       "      <td>7.997638e-10</td>\n",
       "      <td>0.082292</td>\n",
       "      <td>0.051321</td>\n",
       "      <td>0.029507</td>\n",
       "      <td>0.060990</td>\n",
       "      <td>0.033929</td>\n",
       "      <td>0.021998</td>\n",
       "      <td>...</td>\n",
       "      <td>0.012315</td>\n",
       "      <td>0.000009</td>\n",
       "      <td>7.544743e-08</td>\n",
       "      <td>6.353311e-08</td>\n",
       "      <td>4.298865e-08</td>\n",
       "      <td>5.551461e-09</td>\n",
       "      <td>6.644229e-09</td>\n",
       "      <td>3.163127e-09</td>\n",
       "      <td>5.465393e-09</td>\n",
       "      <td>8.123582e-10</td>\n",
       "    </tr>\n",
       "    <tr>\n",
       "      <th>2</th>\n",
       "      <td>5.547430e-08</td>\n",
       "      <td>1.098609e-09</td>\n",
       "      <td>1.020329e-07</td>\n",
       "      <td>1.098609e-09</td>\n",
       "      <td>0.041994</td>\n",
       "      <td>0.703366</td>\n",
       "      <td>0.021825</td>\n",
       "      <td>0.030682</td>\n",
       "      <td>0.022905</td>\n",
       "      <td>0.012020</td>\n",
       "      <td>...</td>\n",
       "      <td>0.008893</td>\n",
       "      <td>0.000017</td>\n",
       "      <td>1.555815e-07</td>\n",
       "      <td>1.394624e-07</td>\n",
       "      <td>8.864767e-08</td>\n",
       "      <td>9.945993e-09</td>\n",
       "      <td>5.985605e-09</td>\n",
       "      <td>5.756299e-09</td>\n",
       "      <td>4.625317e-09</td>\n",
       "      <td>1.081577e-09</td>\n",
       "    </tr>\n",
       "    <tr>\n",
       "      <th>3</th>\n",
       "      <td>5.958092e-08</td>\n",
       "      <td>4.620696e-10</td>\n",
       "      <td>4.862853e-08</td>\n",
       "      <td>4.549059e-10</td>\n",
       "      <td>0.805728</td>\n",
       "      <td>0.022834</td>\n",
       "      <td>0.016320</td>\n",
       "      <td>0.021736</td>\n",
       "      <td>0.017519</td>\n",
       "      <td>0.009459</td>\n",
       "      <td>...</td>\n",
       "      <td>0.005498</td>\n",
       "      <td>0.000009</td>\n",
       "      <td>4.497404e-08</td>\n",
       "      <td>5.958092e-08</td>\n",
       "      <td>2.369965e-08</td>\n",
       "      <td>2.700901e-09</td>\n",
       "      <td>1.401209e-09</td>\n",
       "      <td>1.468454e-09</td>\n",
       "      <td>2.153346e-09</td>\n",
       "      <td>4.549059e-10</td>\n",
       "    </tr>\n",
       "    <tr>\n",
       "      <th>4</th>\n",
       "      <td>1.463436e-07</td>\n",
       "      <td>1.703751e-09</td>\n",
       "      <td>1.632581e-07</td>\n",
       "      <td>1.651332e-09</td>\n",
       "      <td>0.065732</td>\n",
       "      <td>0.042089</td>\n",
       "      <td>0.032799</td>\n",
       "      <td>0.047821</td>\n",
       "      <td>0.039308</td>\n",
       "      <td>0.023232</td>\n",
       "      <td>...</td>\n",
       "      <td>0.012484</td>\n",
       "      <td>0.000035</td>\n",
       "      <td>1.893827e-07</td>\n",
       "      <td>2.489389e-07</td>\n",
       "      <td>1.291478e-07</td>\n",
       "      <td>6.330204e-09</td>\n",
       "      <td>4.631277e-09</td>\n",
       "      <td>4.055281e-09</td>\n",
       "      <td>4.216825e-09</td>\n",
       "      <td>1.677337e-09</td>\n",
       "    </tr>\n",
       "    <tr>\n",
       "      <th>...</th>\n",
       "      <td>...</td>\n",
       "      <td>...</td>\n",
       "      <td>...</td>\n",
       "      <td>...</td>\n",
       "      <td>...</td>\n",
       "      <td>...</td>\n",
       "      <td>...</td>\n",
       "      <td>...</td>\n",
       "      <td>...</td>\n",
       "      <td>...</td>\n",
       "      <td>...</td>\n",
       "      <td>...</td>\n",
       "      <td>...</td>\n",
       "      <td>...</td>\n",
       "      <td>...</td>\n",
       "      <td>...</td>\n",
       "      <td>...</td>\n",
       "      <td>...</td>\n",
       "      <td>...</td>\n",
       "      <td>...</td>\n",
       "      <td>...</td>\n",
       "    </tr>\n",
       "    <tr>\n",
       "      <th>143</th>\n",
       "      <td>8.465729e-07</td>\n",
       "      <td>3.889901e-09</td>\n",
       "      <td>1.581606e-06</td>\n",
       "      <td>3.770221e-09</td>\n",
       "      <td>0.036411</td>\n",
       "      <td>0.032623</td>\n",
       "      <td>0.040649</td>\n",
       "      <td>0.041390</td>\n",
       "      <td>0.022561</td>\n",
       "      <td>0.018385</td>\n",
       "      <td>...</td>\n",
       "      <td>0.030646</td>\n",
       "      <td>0.000190</td>\n",
       "      <td>7.018336e-07</td>\n",
       "      <td>7.184771e-07</td>\n",
       "      <td>3.341229e-07</td>\n",
       "      <td>6.216045e-09</td>\n",
       "      <td>5.442951e-09</td>\n",
       "      <td>5.615729e-09</td>\n",
       "      <td>5.839434e-09</td>\n",
       "      <td>3.951159e-09</td>\n",
       "    </tr>\n",
       "    <tr>\n",
       "      <th>144</th>\n",
       "      <td>1.856874e-07</td>\n",
       "      <td>2.527396e-09</td>\n",
       "      <td>3.579217e-07</td>\n",
       "      <td>2.488212e-09</td>\n",
       "      <td>0.027457</td>\n",
       "      <td>0.029000</td>\n",
       "      <td>0.693233</td>\n",
       "      <td>0.029041</td>\n",
       "      <td>0.019126</td>\n",
       "      <td>0.012211</td>\n",
       "      <td>...</td>\n",
       "      <td>0.018875</td>\n",
       "      <td>0.000119</td>\n",
       "      <td>3.692834e-07</td>\n",
       "      <td>1.915817e-07</td>\n",
       "      <td>1.563644e-07</td>\n",
       "      <td>5.308859e-09</td>\n",
       "      <td>4.871683e-09</td>\n",
       "      <td>4.366948e-09</td>\n",
       "      <td>3.648722e-09</td>\n",
       "      <td>2.607624e-09</td>\n",
       "    </tr>\n",
       "    <tr>\n",
       "      <th>145</th>\n",
       "      <td>5.626312e-07</td>\n",
       "      <td>6.653376e-09</td>\n",
       "      <td>8.714202e-07</td>\n",
       "      <td>6.550224e-09</td>\n",
       "      <td>0.046078</td>\n",
       "      <td>0.029336</td>\n",
       "      <td>0.037663</td>\n",
       "      <td>0.044956</td>\n",
       "      <td>0.027696</td>\n",
       "      <td>0.017341</td>\n",
       "      <td>...</td>\n",
       "      <td>0.558753</td>\n",
       "      <td>0.000288</td>\n",
       "      <td>8.579102e-07</td>\n",
       "      <td>4.116298e-07</td>\n",
       "      <td>2.457954e-07</td>\n",
       "      <td>1.114231e-08</td>\n",
       "      <td>9.382764e-09</td>\n",
       "      <td>3.094107e-09</td>\n",
       "      <td>5.304534e-09</td>\n",
       "      <td>6.550224e-09</td>\n",
       "    </tr>\n",
       "    <tr>\n",
       "      <th>146</th>\n",
       "      <td>3.176321e-07</td>\n",
       "      <td>1.719690e-09</td>\n",
       "      <td>1.227158e-06</td>\n",
       "      <td>1.693028e-09</td>\n",
       "      <td>0.028059</td>\n",
       "      <td>0.019421</td>\n",
       "      <td>0.701208</td>\n",
       "      <td>0.039328</td>\n",
       "      <td>0.018682</td>\n",
       "      <td>0.010110</td>\n",
       "      <td>...</td>\n",
       "      <td>0.025169</td>\n",
       "      <td>0.000390</td>\n",
       "      <td>9.335728e-07</td>\n",
       "      <td>4.479331e-07</td>\n",
       "      <td>2.892073e-07</td>\n",
       "      <td>5.727441e-09</td>\n",
       "      <td>4.937363e-09</td>\n",
       "      <td>5.465163e-09</td>\n",
       "      <td>3.998399e-09</td>\n",
       "      <td>1.746771e-09</td>\n",
       "    </tr>\n",
       "    <tr>\n",
       "      <th>147</th>\n",
       "      <td>5.597490e-07</td>\n",
       "      <td>5.706187e-09</td>\n",
       "      <td>6.356137e-06</td>\n",
       "      <td>5.796046e-09</td>\n",
       "      <td>0.022209</td>\n",
       "      <td>0.013176</td>\n",
       "      <td>0.034326</td>\n",
       "      <td>0.633608</td>\n",
       "      <td>0.022517</td>\n",
       "      <td>0.006230</td>\n",
       "      <td>...</td>\n",
       "      <td>0.073633</td>\n",
       "      <td>0.001605</td>\n",
       "      <td>1.765035e-06</td>\n",
       "      <td>3.246397e-06</td>\n",
       "      <td>5.217435e-07</td>\n",
       "      <td>4.341038e-09</td>\n",
       "      <td>3.742209e-09</td>\n",
       "      <td>3.302488e-09</td>\n",
       "      <td>3.830952e-09</td>\n",
       "      <td>5.661781e-09</td>\n",
       "    </tr>\n",
       "  </tbody>\n",
       "</table>\n",
       "<p>148 rows × 33 columns</p>\n",
       "</div>"
      ],
      "text/plain": [
       "            <cls>         <pad>         <eos>         <unk>         L  \\\n",
       "0    8.093410e-08  1.267929e-09  1.089087e-07  1.267929e-09  0.009205   \n",
       "1    1.896748e-07  8.251510e-10  1.524080e-07  7.997638e-10  0.082292   \n",
       "2    5.547430e-08  1.098609e-09  1.020329e-07  1.098609e-09  0.041994   \n",
       "3    5.958092e-08  4.620696e-10  4.862853e-08  4.549059e-10  0.805728   \n",
       "4    1.463436e-07  1.703751e-09  1.632581e-07  1.651332e-09  0.065732   \n",
       "..            ...           ...           ...           ...       ...   \n",
       "143  8.465729e-07  3.889901e-09  1.581606e-06  3.770221e-09  0.036411   \n",
       "144  1.856874e-07  2.527396e-09  3.579217e-07  2.488212e-09  0.027457   \n",
       "145  5.626312e-07  6.653376e-09  8.714202e-07  6.550224e-09  0.046078   \n",
       "146  3.176321e-07  1.719690e-09  1.227158e-06  1.693028e-09  0.028059   \n",
       "147  5.597490e-07  5.706187e-09  6.356137e-06  5.796046e-09  0.022209   \n",
       "\n",
       "            A         G         V         S         E  ...         C  \\\n",
       "0    0.005532  0.008580  0.010299  0.004118  0.003821  ...  0.002218   \n",
       "1    0.051321  0.029507  0.060990  0.033929  0.021998  ...  0.012315   \n",
       "2    0.703366  0.021825  0.030682  0.022905  0.012020  ...  0.008893   \n",
       "3    0.022834  0.016320  0.021736  0.017519  0.009459  ...  0.005498   \n",
       "4    0.042089  0.032799  0.047821  0.039308  0.023232  ...  0.012484   \n",
       "..        ...       ...       ...       ...       ...  ...       ...   \n",
       "143  0.032623  0.040649  0.041390  0.022561  0.018385  ...  0.030646   \n",
       "144  0.029000  0.693233  0.029041  0.019126  0.012211  ...  0.018875   \n",
       "145  0.029336  0.037663  0.044956  0.027696  0.017341  ...  0.558753   \n",
       "146  0.019421  0.701208  0.039328  0.018682  0.010110  ...  0.025169   \n",
       "147  0.013176  0.034326  0.633608  0.022517  0.006230  ...  0.073633   \n",
       "\n",
       "            X             B             U             Z             O  \\\n",
       "0    0.000059  1.713375e-07  9.171035e-08  6.709672e-08  1.482360e-09   \n",
       "1    0.000009  7.544743e-08  6.353311e-08  4.298865e-08  5.551461e-09   \n",
       "2    0.000017  1.555815e-07  1.394624e-07  8.864767e-08  9.945993e-09   \n",
       "3    0.000009  4.497404e-08  5.958092e-08  2.369965e-08  2.700901e-09   \n",
       "4    0.000035  1.893827e-07  2.489389e-07  1.291478e-07  6.330204e-09   \n",
       "..        ...           ...           ...           ...           ...   \n",
       "143  0.000190  7.018336e-07  7.184771e-07  3.341229e-07  6.216045e-09   \n",
       "144  0.000119  3.692834e-07  1.915817e-07  1.563644e-07  5.308859e-09   \n",
       "145  0.000288  8.579102e-07  4.116298e-07  2.457954e-07  1.114231e-08   \n",
       "146  0.000390  9.335728e-07  4.479331e-07  2.892073e-07  5.727441e-09   \n",
       "147  0.001605  1.765035e-06  3.246397e-06  5.217435e-07  4.341038e-09   \n",
       "\n",
       "                .             -      <null_1>        <mask>  \n",
       "0    6.475950e-10  7.571153e-10  7.512233e-10  1.248272e-09  \n",
       "1    6.644229e-09  3.163127e-09  5.465393e-09  8.123582e-10  \n",
       "2    5.985605e-09  5.756299e-09  4.625317e-09  1.081577e-09  \n",
       "3    1.401209e-09  1.468454e-09  2.153346e-09  4.549059e-10  \n",
       "4    4.631277e-09  4.055281e-09  4.216825e-09  1.677337e-09  \n",
       "..            ...           ...           ...           ...  \n",
       "143  5.442951e-09  5.615729e-09  5.839434e-09  3.951159e-09  \n",
       "144  4.871683e-09  4.366948e-09  3.648722e-09  2.607624e-09  \n",
       "145  9.382764e-09  3.094107e-09  5.304534e-09  6.550224e-09  \n",
       "146  4.937363e-09  5.465163e-09  3.998399e-09  1.746771e-09  \n",
       "147  3.742209e-09  3.302488e-09  3.830952e-09  5.661781e-09  \n",
       "\n",
       "[148 rows x 33 columns]"
      ]
     },
     "execution_count": 15,
     "metadata": {},
     "output_type": "execute_result"
    }
   ],
   "source": [
    "# get vocab\n",
    "vocab = tokenizer.get_vocab()\n",
    "probs = pd.DataFrame(probs.numpy())\n",
    "probs.columns = list(vocab.keys())\n",
    "\n",
    "probs"
   ]
  },
  {
   "cell_type": "markdown",
   "id": "4006f764f9eff271",
   "metadata": {
    "collapsed": false
   },
   "source": [
    "We can then take a look at amino acid 46 again. This time, we can get the top 3 predictions"
   ]
  },
  {
   "cell_type": "code",
   "execution_count": 16,
   "id": "1a5f3904ace08cf8",
   "metadata": {
    "ExecuteTime": {
     "end_time": "2024-02-08T17:39:50.145431Z",
     "start_time": "2024-02-08T17:39:50.135184Z"
    },
    "collapsed": false
   },
   "outputs": [
    {
     "data": {
      "text/plain": [
       "L    0.513982\n",
       "W    0.256936\n",
       "V    0.064647\n",
       "Name: 45, dtype: float32"
      ]
     },
     "execution_count": 16,
     "metadata": {},
     "output_type": "execute_result"
    }
   ],
   "source": [
    "pos = 46 # amino acid position, starting form 1\n",
    "\n",
    "# get the top 3 predictions\n",
    "probs.loc[pos-1, :].sort_values(ascending=False).head(3)"
   ]
  },
  {
   "cell_type": "markdown",
   "id": "1f83a60e35d84ef7",
   "metadata": {
    "collapsed": false
   },
   "source": [
    "In the table above, \n",
    "- `L` is the amino acid with the highest probaiblity, which is what the model recommended. \n",
    "- `W` is the original amino acid. \n",
    "- `V` is the 3rd highest probability amino acid. However it has a low probability compared to the first 2 proposals. If the probablility is similar to the first two, then it might be useful to consider this proposal as well"
   ]
  },
  {
   "cell_type": "code",
   "execution_count": null,
   "id": "6e5d36ed9d6e4ca3",
   "metadata": {
    "collapsed": false
   },
   "outputs": [],
   "source": []
  }
 ],
 "metadata": {
  "kernelspec": {
   "display_name": "Python 3 (ipykernel)",
   "language": "python",
   "name": "python3"
  },
  "language_info": {
   "codemirror_mode": {
    "name": "ipython",
    "version": 3
   },
   "file_extension": ".py",
   "mimetype": "text/x-python",
   "name": "python",
   "nbconvert_exporter": "python",
   "pygments_lexer": "ipython3",
   "version": "3.10.13"
  }
 },
 "nbformat": 4,
 "nbformat_minor": 5
}
